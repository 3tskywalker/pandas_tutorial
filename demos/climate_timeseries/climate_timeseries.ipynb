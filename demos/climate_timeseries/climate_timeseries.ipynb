{
 "metadata": {
  "name": "",
  "signature": "sha256:814a0043ce7183abb9362c404a448fd7b7e166bc464ab1ceb0ac53ad0d3156c2"
 },
 "nbformat": 3,
 "nbformat_minor": 0,
 "worksheets": [
  {
   "cells": [
    {
     "cell_type": "markdown",
     "metadata": {},
     "source": [
      "Last updated: Jul 06 2015"
     ]
    },
    {
     "cell_type": "heading",
     "level": 1,
     "metadata": {},
     "source": [
      "Climate data exploration: a journey through Pandas"
     ]
    },
    {
     "cell_type": "markdown",
     "metadata": {},
     "source": [
      "Welcome to a demo of Python's data analysis package called `Pandas`. Our goal is to learn about Data Analysis and transformation using Pandas while exploring datasets used to analyze climate change. "
     ]
    },
    {
     "cell_type": "heading",
     "level": 2,
     "metadata": {},
     "source": [
      "The story"
     ]
    },
    {
     "cell_type": "markdown",
     "metadata": {},
     "source": [
      "The global goal of this demo is to provide the tools to be able to try and reproduce some of the analysis done in the IPCC global climate reports published in the last decade (see for example https://www.ipcc.ch/pdf/assessment-report/ar5/syr/SYR_AR5_FINAL_full.pdf). \n",
      "\n",
      "We are first going to load a few public datasets containing information about global temperature, global and local sea level infomation, and global concentration of greenhouse gases like CO2, to see if there are correlations and how the trends are to evolve, assuming no fundamental change in the system. For all these datasets, we will download them, visualize them, clean them, search through them, merge them, resample them, transform them and summarize them."
     ]
    },
    {
     "cell_type": "markdown",
     "metadata": {},
     "source": [
      "In the process, we will learn about:\n",
      "    1. Loading data\n",
      "    2. Pandas datastructures\n",
      "    3. Cleaning and formatting data\n",
      "    4. Basic visualization\n",
      "    5. Accessing data\n",
      "    6. Working with dates and times\n",
      "    7. Transforming datasets\n",
      "    8. Statistical analysis\n",
      "    9. Data agregation and summarization\n",
      "    10. Correlations and regressions\n",
      "    11. Predictions from auto regression models"
     ]
    },
    {
     "cell_type": "heading",
     "level": 2,
     "metadata": {},
     "source": [
      "Some initial setup"
     ]
    },
    {
     "cell_type": "code",
     "collapsed": false,
     "input": [
      "%matplotlib inline\n",
      "import pandas as pd\n",
      "\n",
      "import numpy as np\n",
      "import matplotlib.pyplot as plt\n",
      "\n",
      "from pandas import set_option\n",
      "set_option(\"display.max_rows\", 16)\n",
      "\n",
      "LARGE_FIGSIZE = (12, 8)"
     ],
     "language": "python",
     "metadata": {},
     "outputs": [],
     "prompt_number": 205
    },
    {
     "cell_type": "code",
     "collapsed": false,
     "input": [
      "# Change this cell to the demo location on YOUR machine\n",
      "%cd ~/Projects/SciPy2015_pandas_tutorial/demos/climate_timeseries/\n",
      "%ls"
     ],
     "language": "python",
     "metadata": {},
     "outputs": [
      {
       "output_type": "stream",
       "stream": "stdout",
       "text": [
        "/Users/jrocher/Projects/SciPy2015_pandas_tutorial/demos/climate_timeseries\n",
        "climate_timeseries.ipynb  \u001b[34mdata\u001b[m\u001b[m/                     \u001b[34mdocs\u001b[m\u001b[m/\r\n"
       ]
      }
     ],
     "prompt_number": 206
    },
    {
     "cell_type": "heading",
     "level": 2,
     "metadata": {},
     "source": [
      "1. Loading data"
     ]
    },
    {
     "cell_type": "markdown",
     "metadata": {},
     "source": [
      "More details, see http://pandas.pydata.org/pandas-docs/stable/io.html"
     ]
    },
    {
     "cell_type": "markdown",
     "metadata": {},
     "source": [
      "To find all reading functions in pandas, ask ipython's tab completion:"
     ]
    },
    {
     "cell_type": "code",
     "collapsed": false,
     "input": [
      "#pd.read_<TAB>"
     ],
     "language": "python",
     "metadata": {},
     "outputs": [],
     "prompt_number": 207
    },
    {
     "cell_type": "code",
     "collapsed": false,
     "input": [
      "pd.read_table?"
     ],
     "language": "python",
     "metadata": {},
     "outputs": [],
     "prompt_number": 208
    },
    {
     "cell_type": "heading",
     "level": 3,
     "metadata": {},
     "source": [
      "From a local text file"
     ]
    },
    {
     "cell_type": "markdown",
     "metadata": {},
     "source": [
      "Let's first load some temperature data which covers all lattitudes. Since read_table is supposed to do the job for a text file, let's just try it:"
     ]
    },
    {
     "cell_type": "code",
     "collapsed": false,
     "input": [
      "filename = \"data/temperatures/annual.land_ocean.90S.90N.df_1901-2000mean.dat\"\n",
      "full_globe_temp = pd.read_table(filename)\n",
      "full_globe_temp"
     ],
     "language": "python",
     "metadata": {},
     "outputs": [
      {
       "html": [
        "<div style=\"max-width:1500px;overflow:auto;\">\n",
        "<table border=\"1\" class=\"dataframe\">\n",
        "  <thead>\n",
        "    <tr style=\"text-align: right;\">\n",
        "      <th></th>\n",
        "      <th>1880   -0.1591</th>\n",
        "    </tr>\n",
        "  </thead>\n",
        "  <tbody>\n",
        "    <tr>\n",
        "      <th>0</th>\n",
        "      <td>1881   -0.0789</td>\n",
        "    </tr>\n",
        "    <tr>\n",
        "      <th>1</th>\n",
        "      <td>1882   -0.1313</td>\n",
        "    </tr>\n",
        "    <tr>\n",
        "      <th>2</th>\n",
        "      <td>1883   -0.1675</td>\n",
        "    </tr>\n",
        "    <tr>\n",
        "      <th>3</th>\n",
        "      <td>1884   -0.2485</td>\n",
        "    </tr>\n",
        "    <tr>\n",
        "      <th>4</th>\n",
        "      <td>1885   -0.2042</td>\n",
        "    </tr>\n",
        "    <tr>\n",
        "      <th>5</th>\n",
        "      <td>1886   -0.1695</td>\n",
        "    </tr>\n",
        "    <tr>\n",
        "      <th>6</th>\n",
        "      <td>1887   -0.2505</td>\n",
        "    </tr>\n",
        "    <tr>\n",
        "      <th>7</th>\n",
        "      <td>1888   -0.1605</td>\n",
        "    </tr>\n",
        "    <tr>\n",
        "      <th>...</th>\n",
        "      <td>...</td>\n",
        "    </tr>\n",
        "    <tr>\n",
        "      <th>122</th>\n",
        "      <td>2003    0.5818</td>\n",
        "    </tr>\n",
        "    <tr>\n",
        "      <th>123</th>\n",
        "      <td>2004    0.5416</td>\n",
        "    </tr>\n",
        "    <tr>\n",
        "      <th>124</th>\n",
        "      <td>2005    0.6154</td>\n",
        "    </tr>\n",
        "    <tr>\n",
        "      <th>125</th>\n",
        "      <td>2006    0.5601</td>\n",
        "    </tr>\n",
        "    <tr>\n",
        "      <th>126</th>\n",
        "      <td>2007    0.5472</td>\n",
        "    </tr>\n",
        "    <tr>\n",
        "      <th>127</th>\n",
        "      <td>2008    0.4804</td>\n",
        "    </tr>\n",
        "    <tr>\n",
        "      <th>128</th>\n",
        "      <td>2009    0.5551</td>\n",
        "    </tr>\n",
        "    <tr>\n",
        "      <th>129</th>\n",
        "      <td>2010 -999.0000</td>\n",
        "    </tr>\n",
        "  </tbody>\n",
        "</table>\n",
        "<p>130 rows \u00d7 1 columns</p>\n",
        "</div>"
       ],
       "metadata": {},
       "output_type": "pyout",
       "prompt_number": 209,
       "text": [
        "     1880   -0.1591\n",
        "0    1881   -0.0789\n",
        "1    1882   -0.1313\n",
        "2    1883   -0.1675\n",
        "3    1884   -0.2485\n",
        "4    1885   -0.2042\n",
        "5    1886   -0.1695\n",
        "6    1887   -0.2505\n",
        "7    1888   -0.1605\n",
        "..              ...\n",
        "122  2003    0.5818\n",
        "123  2004    0.5416\n",
        "124  2005    0.6154\n",
        "125  2006    0.5601\n",
        "126  2007    0.5472\n",
        "127  2008    0.4804\n",
        "128  2009    0.5551\n",
        "129  2010 -999.0000\n",
        "\n",
        "[130 rows x 1 columns]"
       ]
      }
     ],
     "prompt_number": 209
    },
    {
     "cell_type": "markdown",
     "metadata": {},
     "source": [
      "There is only 1 column! Let's try again stating that values are separated by any number of spaces:"
     ]
    },
    {
     "cell_type": "code",
     "collapsed": false,
     "input": [
      "full_globe_temp = pd.read_table(filename, sep=\"\\s+\")\n",
      "full_globe_temp"
     ],
     "language": "python",
     "metadata": {},
     "outputs": [
      {
       "html": [
        "<div style=\"max-width:1500px;overflow:auto;\">\n",
        "<table border=\"1\" class=\"dataframe\">\n",
        "  <thead>\n",
        "    <tr style=\"text-align: right;\">\n",
        "      <th></th>\n",
        "      <th>1880</th>\n",
        "      <th>-0.1591</th>\n",
        "    </tr>\n",
        "  </thead>\n",
        "  <tbody>\n",
        "    <tr>\n",
        "      <th>0</th>\n",
        "      <td>1881</td>\n",
        "      <td>-0.0789</td>\n",
        "    </tr>\n",
        "    <tr>\n",
        "      <th>1</th>\n",
        "      <td>1882</td>\n",
        "      <td>-0.1313</td>\n",
        "    </tr>\n",
        "    <tr>\n",
        "      <th>2</th>\n",
        "      <td>1883</td>\n",
        "      <td>-0.1675</td>\n",
        "    </tr>\n",
        "    <tr>\n",
        "      <th>3</th>\n",
        "      <td>1884</td>\n",
        "      <td>-0.2485</td>\n",
        "    </tr>\n",
        "    <tr>\n",
        "      <th>4</th>\n",
        "      <td>1885</td>\n",
        "      <td>-0.2042</td>\n",
        "    </tr>\n",
        "    <tr>\n",
        "      <th>5</th>\n",
        "      <td>1886</td>\n",
        "      <td>-0.1695</td>\n",
        "    </tr>\n",
        "    <tr>\n",
        "      <th>6</th>\n",
        "      <td>1887</td>\n",
        "      <td>-0.2505</td>\n",
        "    </tr>\n",
        "    <tr>\n",
        "      <th>7</th>\n",
        "      <td>1888</td>\n",
        "      <td>-0.1605</td>\n",
        "    </tr>\n",
        "    <tr>\n",
        "      <th>...</th>\n",
        "      <td>...</td>\n",
        "      <td>...</td>\n",
        "    </tr>\n",
        "    <tr>\n",
        "      <th>122</th>\n",
        "      <td>2003</td>\n",
        "      <td>0.5818</td>\n",
        "    </tr>\n",
        "    <tr>\n",
        "      <th>123</th>\n",
        "      <td>2004</td>\n",
        "      <td>0.5416</td>\n",
        "    </tr>\n",
        "    <tr>\n",
        "      <th>124</th>\n",
        "      <td>2005</td>\n",
        "      <td>0.6154</td>\n",
        "    </tr>\n",
        "    <tr>\n",
        "      <th>125</th>\n",
        "      <td>2006</td>\n",
        "      <td>0.5601</td>\n",
        "    </tr>\n",
        "    <tr>\n",
        "      <th>126</th>\n",
        "      <td>2007</td>\n",
        "      <td>0.5472</td>\n",
        "    </tr>\n",
        "    <tr>\n",
        "      <th>127</th>\n",
        "      <td>2008</td>\n",
        "      <td>0.4804</td>\n",
        "    </tr>\n",
        "    <tr>\n",
        "      <th>128</th>\n",
        "      <td>2009</td>\n",
        "      <td>0.5551</td>\n",
        "    </tr>\n",
        "    <tr>\n",
        "      <th>129</th>\n",
        "      <td>2010</td>\n",
        "      <td>-999.0000</td>\n",
        "    </tr>\n",
        "  </tbody>\n",
        "</table>\n",
        "<p>130 rows \u00d7 2 columns</p>\n",
        "</div>"
       ],
       "metadata": {},
       "output_type": "pyout",
       "prompt_number": 210,
       "text": [
        "     1880   -0.1591\n",
        "0    1881   -0.0789\n",
        "1    1882   -0.1313\n",
        "2    1883   -0.1675\n",
        "3    1884   -0.2485\n",
        "4    1885   -0.2042\n",
        "5    1886   -0.1695\n",
        "6    1887   -0.2505\n",
        "7    1888   -0.1605\n",
        "..    ...       ...\n",
        "122  2003    0.5818\n",
        "123  2004    0.5416\n",
        "124  2005    0.6154\n",
        "125  2006    0.5601\n",
        "126  2007    0.5472\n",
        "127  2008    0.4804\n",
        "128  2009    0.5551\n",
        "129  2010 -999.0000\n",
        "\n",
        "[130 rows x 2 columns]"
       ]
      }
     ],
     "prompt_number": 210
    },
    {
     "cell_type": "markdown",
     "metadata": {},
     "source": [
      "There are columns but the column names are 1880 and -0.1591!"
     ]
    },
    {
     "cell_type": "code",
     "collapsed": false,
     "input": [
      "full_globe_temp = pd.read_table(filename, sep=\"\\s+\", names=[\"year\", \"mean temp\"])\n",
      "full_globe_temp"
     ],
     "language": "python",
     "metadata": {},
     "outputs": [
      {
       "html": [
        "<div style=\"max-width:1500px;overflow:auto;\">\n",
        "<table border=\"1\" class=\"dataframe\">\n",
        "  <thead>\n",
        "    <tr style=\"text-align: right;\">\n",
        "      <th></th>\n",
        "      <th>year</th>\n",
        "      <th>mean temp</th>\n",
        "    </tr>\n",
        "  </thead>\n",
        "  <tbody>\n",
        "    <tr>\n",
        "      <th>0</th>\n",
        "      <td>1880</td>\n",
        "      <td>-0.1591</td>\n",
        "    </tr>\n",
        "    <tr>\n",
        "      <th>1</th>\n",
        "      <td>1881</td>\n",
        "      <td>-0.0789</td>\n",
        "    </tr>\n",
        "    <tr>\n",
        "      <th>2</th>\n",
        "      <td>1882</td>\n",
        "      <td>-0.1313</td>\n",
        "    </tr>\n",
        "    <tr>\n",
        "      <th>3</th>\n",
        "      <td>1883</td>\n",
        "      <td>-0.1675</td>\n",
        "    </tr>\n",
        "    <tr>\n",
        "      <th>4</th>\n",
        "      <td>1884</td>\n",
        "      <td>-0.2485</td>\n",
        "    </tr>\n",
        "    <tr>\n",
        "      <th>5</th>\n",
        "      <td>1885</td>\n",
        "      <td>-0.2042</td>\n",
        "    </tr>\n",
        "    <tr>\n",
        "      <th>6</th>\n",
        "      <td>1886</td>\n",
        "      <td>-0.1695</td>\n",
        "    </tr>\n",
        "    <tr>\n",
        "      <th>7</th>\n",
        "      <td>1887</td>\n",
        "      <td>-0.2505</td>\n",
        "    </tr>\n",
        "    <tr>\n",
        "      <th>...</th>\n",
        "      <td>...</td>\n",
        "      <td>...</td>\n",
        "    </tr>\n",
        "    <tr>\n",
        "      <th>123</th>\n",
        "      <td>2003</td>\n",
        "      <td>0.5818</td>\n",
        "    </tr>\n",
        "    <tr>\n",
        "      <th>124</th>\n",
        "      <td>2004</td>\n",
        "      <td>0.5416</td>\n",
        "    </tr>\n",
        "    <tr>\n",
        "      <th>125</th>\n",
        "      <td>2005</td>\n",
        "      <td>0.6154</td>\n",
        "    </tr>\n",
        "    <tr>\n",
        "      <th>126</th>\n",
        "      <td>2006</td>\n",
        "      <td>0.5601</td>\n",
        "    </tr>\n",
        "    <tr>\n",
        "      <th>127</th>\n",
        "      <td>2007</td>\n",
        "      <td>0.5472</td>\n",
        "    </tr>\n",
        "    <tr>\n",
        "      <th>128</th>\n",
        "      <td>2008</td>\n",
        "      <td>0.4804</td>\n",
        "    </tr>\n",
        "    <tr>\n",
        "      <th>129</th>\n",
        "      <td>2009</td>\n",
        "      <td>0.5551</td>\n",
        "    </tr>\n",
        "    <tr>\n",
        "      <th>130</th>\n",
        "      <td>2010</td>\n",
        "      <td>-999.0000</td>\n",
        "    </tr>\n",
        "  </tbody>\n",
        "</table>\n",
        "<p>131 rows \u00d7 2 columns</p>\n",
        "</div>"
       ],
       "metadata": {},
       "output_type": "pyout",
       "prompt_number": 211,
       "text": [
        "     year  mean temp\n",
        "0    1880    -0.1591\n",
        "1    1881    -0.0789\n",
        "2    1882    -0.1313\n",
        "3    1883    -0.1675\n",
        "4    1884    -0.2485\n",
        "5    1885    -0.2042\n",
        "6    1886    -0.1695\n",
        "7    1887    -0.2505\n",
        "..    ...        ...\n",
        "123  2003     0.5818\n",
        "124  2004     0.5416\n",
        "125  2005     0.6154\n",
        "126  2006     0.5601\n",
        "127  2007     0.5472\n",
        "128  2008     0.4804\n",
        "129  2009     0.5551\n",
        "130  2010  -999.0000\n",
        "\n",
        "[131 rows x 2 columns]"
       ]
      }
     ],
     "prompt_number": 211
    },
    {
     "cell_type": "markdown",
     "metadata": {},
     "source": [
      "Since we only have 2 columns, one of which would be nicer to access the data (the year of the record), let's try using the `index_col` option:"
     ]
    },
    {
     "cell_type": "code",
     "collapsed": false,
     "input": [
      "full_globe_temp = pd.read_table(filename, sep=\"\\s+\", names=[\"year\", \"mean temp\"], \n",
      "                                index_col=0)\n",
      "full_globe_temp"
     ],
     "language": "python",
     "metadata": {},
     "outputs": [
      {
       "html": [
        "<div style=\"max-width:1500px;overflow:auto;\">\n",
        "<table border=\"1\" class=\"dataframe\">\n",
        "  <thead>\n",
        "    <tr style=\"text-align: right;\">\n",
        "      <th></th>\n",
        "      <th>mean temp</th>\n",
        "    </tr>\n",
        "    <tr>\n",
        "      <th>year</th>\n",
        "      <th></th>\n",
        "    </tr>\n",
        "  </thead>\n",
        "  <tbody>\n",
        "    <tr>\n",
        "      <th>1880</th>\n",
        "      <td>-0.1591</td>\n",
        "    </tr>\n",
        "    <tr>\n",
        "      <th>1881</th>\n",
        "      <td>-0.0789</td>\n",
        "    </tr>\n",
        "    <tr>\n",
        "      <th>1882</th>\n",
        "      <td>-0.1313</td>\n",
        "    </tr>\n",
        "    <tr>\n",
        "      <th>1883</th>\n",
        "      <td>-0.1675</td>\n",
        "    </tr>\n",
        "    <tr>\n",
        "      <th>1884</th>\n",
        "      <td>-0.2485</td>\n",
        "    </tr>\n",
        "    <tr>\n",
        "      <th>1885</th>\n",
        "      <td>-0.2042</td>\n",
        "    </tr>\n",
        "    <tr>\n",
        "      <th>1886</th>\n",
        "      <td>-0.1695</td>\n",
        "    </tr>\n",
        "    <tr>\n",
        "      <th>1887</th>\n",
        "      <td>-0.2505</td>\n",
        "    </tr>\n",
        "    <tr>\n",
        "      <th>...</th>\n",
        "      <td>...</td>\n",
        "    </tr>\n",
        "    <tr>\n",
        "      <th>2003</th>\n",
        "      <td>0.5818</td>\n",
        "    </tr>\n",
        "    <tr>\n",
        "      <th>2004</th>\n",
        "      <td>0.5416</td>\n",
        "    </tr>\n",
        "    <tr>\n",
        "      <th>2005</th>\n",
        "      <td>0.6154</td>\n",
        "    </tr>\n",
        "    <tr>\n",
        "      <th>2006</th>\n",
        "      <td>0.5601</td>\n",
        "    </tr>\n",
        "    <tr>\n",
        "      <th>2007</th>\n",
        "      <td>0.5472</td>\n",
        "    </tr>\n",
        "    <tr>\n",
        "      <th>2008</th>\n",
        "      <td>0.4804</td>\n",
        "    </tr>\n",
        "    <tr>\n",
        "      <th>2009</th>\n",
        "      <td>0.5551</td>\n",
        "    </tr>\n",
        "    <tr>\n",
        "      <th>2010</th>\n",
        "      <td>-999.0000</td>\n",
        "    </tr>\n",
        "  </tbody>\n",
        "</table>\n",
        "<p>131 rows \u00d7 1 columns</p>\n",
        "</div>"
       ],
       "metadata": {},
       "output_type": "pyout",
       "prompt_number": 212,
       "text": [
        "      mean temp\n",
        "year           \n",
        "1880    -0.1591\n",
        "1881    -0.0789\n",
        "1882    -0.1313\n",
        "1883    -0.1675\n",
        "1884    -0.2485\n",
        "1885    -0.2042\n",
        "1886    -0.1695\n",
        "1887    -0.2505\n",
        "...         ...\n",
        "2003     0.5818\n",
        "2004     0.5416\n",
        "2005     0.6154\n",
        "2006     0.5601\n",
        "2007     0.5472\n",
        "2008     0.4804\n",
        "2009     0.5551\n",
        "2010  -999.0000\n",
        "\n",
        "[131 rows x 1 columns]"
       ]
      }
     ],
     "prompt_number": 212
    },
    {
     "cell_type": "markdown",
     "metadata": {},
     "source": [
      "Last step: the index is made of dates. Let's make that explicit:"
     ]
    },
    {
     "cell_type": "code",
     "collapsed": false,
     "input": [
      "full_globe_temp = pd.read_table(filename, sep=\"\\s+\", names=[\"year\", \"mean temp\"], \n",
      "                                index_col=0, parse_dates=True)\n",
      "full_globe_temp"
     ],
     "language": "python",
     "metadata": {},
     "outputs": [
      {
       "html": [
        "<div style=\"max-width:1500px;overflow:auto;\">\n",
        "<table border=\"1\" class=\"dataframe\">\n",
        "  <thead>\n",
        "    <tr style=\"text-align: right;\">\n",
        "      <th></th>\n",
        "      <th>mean temp</th>\n",
        "    </tr>\n",
        "    <tr>\n",
        "      <th>year</th>\n",
        "      <th></th>\n",
        "    </tr>\n",
        "  </thead>\n",
        "  <tbody>\n",
        "    <tr>\n",
        "      <th>1880-01-01 00:00:00</th>\n",
        "      <td>-0.1591</td>\n",
        "    </tr>\n",
        "    <tr>\n",
        "      <th>1881-01-01 00:00:00</th>\n",
        "      <td>-0.0789</td>\n",
        "    </tr>\n",
        "    <tr>\n",
        "      <th>1882-01-01 00:00:00</th>\n",
        "      <td>-0.1313</td>\n",
        "    </tr>\n",
        "    <tr>\n",
        "      <th>1883-01-01 00:00:00</th>\n",
        "      <td>-0.1675</td>\n",
        "    </tr>\n",
        "    <tr>\n",
        "      <th>1884-01-01 00:00:00</th>\n",
        "      <td>-0.2485</td>\n",
        "    </tr>\n",
        "    <tr>\n",
        "      <th>1885-01-01 00:00:00</th>\n",
        "      <td>-0.2042</td>\n",
        "    </tr>\n",
        "    <tr>\n",
        "      <th>1886-01-01 00:00:00</th>\n",
        "      <td>-0.1695</td>\n",
        "    </tr>\n",
        "    <tr>\n",
        "      <th>1887-01-01 00:00:00</th>\n",
        "      <td>-0.2505</td>\n",
        "    </tr>\n",
        "    <tr>\n",
        "      <th>...</th>\n",
        "      <td>...</td>\n",
        "    </tr>\n",
        "    <tr>\n",
        "      <th>2003-01-01</th>\n",
        "      <td>0.5818</td>\n",
        "    </tr>\n",
        "    <tr>\n",
        "      <th>2004-01-01</th>\n",
        "      <td>0.5416</td>\n",
        "    </tr>\n",
        "    <tr>\n",
        "      <th>2005-01-01</th>\n",
        "      <td>0.6154</td>\n",
        "    </tr>\n",
        "    <tr>\n",
        "      <th>2006-01-01</th>\n",
        "      <td>0.5601</td>\n",
        "    </tr>\n",
        "    <tr>\n",
        "      <th>2007-01-01</th>\n",
        "      <td>0.5472</td>\n",
        "    </tr>\n",
        "    <tr>\n",
        "      <th>2008-01-01</th>\n",
        "      <td>0.4804</td>\n",
        "    </tr>\n",
        "    <tr>\n",
        "      <th>2009-01-01</th>\n",
        "      <td>0.5551</td>\n",
        "    </tr>\n",
        "    <tr>\n",
        "      <th>2010-01-01</th>\n",
        "      <td>-999.0000</td>\n",
        "    </tr>\n",
        "  </tbody>\n",
        "</table>\n",
        "<p>131 rows \u00d7 1 columns</p>\n",
        "</div>"
       ],
       "metadata": {},
       "output_type": "pyout",
       "prompt_number": 213,
       "text": [
        "                     mean temp\n",
        "year                          \n",
        "1880-01-01 00:00:00    -0.1591\n",
        "1881-01-01 00:00:00    -0.0789\n",
        "1882-01-01 00:00:00    -0.1313\n",
        "1883-01-01 00:00:00    -0.1675\n",
        "1884-01-01 00:00:00    -0.2485\n",
        "1885-01-01 00:00:00    -0.2042\n",
        "1886-01-01 00:00:00    -0.1695\n",
        "1887-01-01 00:00:00    -0.2505\n",
        "...                        ...\n",
        "2003-01-01              0.5818\n",
        "2004-01-01              0.5416\n",
        "2005-01-01              0.6154\n",
        "2006-01-01              0.5601\n",
        "2007-01-01              0.5472\n",
        "2008-01-01              0.4804\n",
        "2009-01-01              0.5551\n",
        "2010-01-01           -999.0000\n",
        "\n",
        "[131 rows x 1 columns]"
       ]
      }
     ],
     "prompt_number": 213
    },
    {
     "cell_type": "heading",
     "level": 3,
     "metadata": {},
     "source": [
      "From a chunked file"
     ]
    },
    {
     "cell_type": "markdown",
     "metadata": {},
     "source": [
      "Since every dataset can contain mistakes, let's load a different file with temperature data. NASA's GISS dataset is written in chunks: look at it in `data/temperatures/GLB.Ts+dSST.txt`"
     ]
    },
    {
     "cell_type": "code",
     "collapsed": false,
     "input": [
      "giss_temp = pd.read_table(\"data/temperatures/GLB.Ts+dSST.txt\", sep=\"\\s+\", skiprows=7,\n",
      "                          skip_footer=11, engine=\"python\")\n",
      "giss_temp"
     ],
     "language": "python",
     "metadata": {},
     "outputs": [
      {
       "html": [
        "<div style=\"max-width:1500px;overflow:auto;\">\n",
        "<table border=\"1\" class=\"dataframe\">\n",
        "  <thead>\n",
        "    <tr style=\"text-align: right;\">\n",
        "      <th></th>\n",
        "      <th>Year</th>\n",
        "      <th>Jan</th>\n",
        "      <th>Feb</th>\n",
        "      <th>Mar</th>\n",
        "      <th>Apr</th>\n",
        "      <th>May</th>\n",
        "      <th>Jun</th>\n",
        "      <th>Jul</th>\n",
        "      <th>Aug</th>\n",
        "      <th>Sep</th>\n",
        "      <th>Oct</th>\n",
        "      <th>Nov</th>\n",
        "      <th>Dec</th>\n",
        "      <th>J-D</th>\n",
        "      <th>D-N</th>\n",
        "      <th>DJF</th>\n",
        "      <th>MAM</th>\n",
        "      <th>JJA</th>\n",
        "      <th>SON</th>\n",
        "      <th>Year.1</th>\n",
        "    </tr>\n",
        "  </thead>\n",
        "  <tbody>\n",
        "    <tr>\n",
        "      <th>0</th>\n",
        "      <td>1880</td>\n",
        "      <td>-34</td>\n",
        "      <td>-27</td>\n",
        "      <td>-22</td>\n",
        "      <td>-30</td>\n",
        "      <td>-16</td>\n",
        "      <td>-24</td>\n",
        "      <td>-19</td>\n",
        "      <td>-12</td>\n",
        "      <td>-20</td>\n",
        "      <td>-19</td>\n",
        "      <td>-16</td>\n",
        "      <td>-21</td>\n",
        "      <td>-22</td>\n",
        "      <td>***</td>\n",
        "      <td>****</td>\n",
        "      <td>-23</td>\n",
        "      <td>-18</td>\n",
        "      <td>-18</td>\n",
        "      <td>1880</td>\n",
        "    </tr>\n",
        "    <tr>\n",
        "      <th>1</th>\n",
        "      <td>1881</td>\n",
        "      <td>-13</td>\n",
        "      <td>-16</td>\n",
        "      <td>-2</td>\n",
        "      <td>-3</td>\n",
        "      <td>-3</td>\n",
        "      <td>-27</td>\n",
        "      <td>-12</td>\n",
        "      <td>-8</td>\n",
        "      <td>-18</td>\n",
        "      <td>-23</td>\n",
        "      <td>-28</td>\n",
        "      <td>-18</td>\n",
        "      <td>-14</td>\n",
        "      <td>-14</td>\n",
        "      <td>-17</td>\n",
        "      <td>-3</td>\n",
        "      <td>-15</td>\n",
        "      <td>-23</td>\n",
        "      <td>1881</td>\n",
        "    </tr>\n",
        "    <tr>\n",
        "      <th>2</th>\n",
        "      <td>1882</td>\n",
        "      <td>3</td>\n",
        "      <td>4</td>\n",
        "      <td>-2</td>\n",
        "      <td>-24</td>\n",
        "      <td>-20</td>\n",
        "      <td>-32</td>\n",
        "      <td>-27</td>\n",
        "      <td>-11</td>\n",
        "      <td>-11</td>\n",
        "      <td>-25</td>\n",
        "      <td>-25</td>\n",
        "      <td>-37</td>\n",
        "      <td>-17</td>\n",
        "      <td>-16</td>\n",
        "      <td>-4</td>\n",
        "      <td>-15</td>\n",
        "      <td>-23</td>\n",
        "      <td>-20</td>\n",
        "      <td>1882</td>\n",
        "    </tr>\n",
        "    <tr>\n",
        "      <th>3</th>\n",
        "      <td>1883</td>\n",
        "      <td>-38</td>\n",
        "      <td>-38</td>\n",
        "      <td>-12</td>\n",
        "      <td>-20</td>\n",
        "      <td>-20</td>\n",
        "      <td>-8</td>\n",
        "      <td>-3</td>\n",
        "      <td>-13</td>\n",
        "      <td>-19</td>\n",
        "      <td>-19</td>\n",
        "      <td>-28</td>\n",
        "      <td>-21</td>\n",
        "      <td>-20</td>\n",
        "      <td>-21</td>\n",
        "      <td>-38</td>\n",
        "      <td>-18</td>\n",
        "      <td>-8</td>\n",
        "      <td>-22</td>\n",
        "      <td>1883</td>\n",
        "    </tr>\n",
        "    <tr>\n",
        "      <th>4</th>\n",
        "      <td>1884</td>\n",
        "      <td>-20</td>\n",
        "      <td>-14</td>\n",
        "      <td>-31</td>\n",
        "      <td>-36</td>\n",
        "      <td>-33</td>\n",
        "      <td>-36</td>\n",
        "      <td>-31</td>\n",
        "      <td>-24</td>\n",
        "      <td>-29</td>\n",
        "      <td>-25</td>\n",
        "      <td>-29</td>\n",
        "      <td>-25</td>\n",
        "      <td>-28</td>\n",
        "      <td>-28</td>\n",
        "      <td>-18</td>\n",
        "      <td>-33</td>\n",
        "      <td>-31</td>\n",
        "      <td>-28</td>\n",
        "      <td>1884</td>\n",
        "    </tr>\n",
        "    <tr>\n",
        "      <th>5</th>\n",
        "      <td>1885</td>\n",
        "      <td>-57</td>\n",
        "      <td>-29</td>\n",
        "      <td>-19</td>\n",
        "      <td>-36</td>\n",
        "      <td>-35</td>\n",
        "      <td>-40</td>\n",
        "      <td>-28</td>\n",
        "      <td>-24</td>\n",
        "      <td>-17</td>\n",
        "      <td>-14</td>\n",
        "      <td>-14</td>\n",
        "      <td>0</td>\n",
        "      <td>-26</td>\n",
        "      <td>-28</td>\n",
        "      <td>-37</td>\n",
        "      <td>-30</td>\n",
        "      <td>-31</td>\n",
        "      <td>-15</td>\n",
        "      <td>1885</td>\n",
        "    </tr>\n",
        "    <tr>\n",
        "      <th>6</th>\n",
        "      <td>1886</td>\n",
        "      <td>-37</td>\n",
        "      <td>-43</td>\n",
        "      <td>-34</td>\n",
        "      <td>-23</td>\n",
        "      <td>-21</td>\n",
        "      <td>-30</td>\n",
        "      <td>-13</td>\n",
        "      <td>-21</td>\n",
        "      <td>-12</td>\n",
        "      <td>-22</td>\n",
        "      <td>-29</td>\n",
        "      <td>-18</td>\n",
        "      <td>-25</td>\n",
        "      <td>-24</td>\n",
        "      <td>-26</td>\n",
        "      <td>-26</td>\n",
        "      <td>-21</td>\n",
        "      <td>-21</td>\n",
        "      <td>1886</td>\n",
        "    </tr>\n",
        "    <tr>\n",
        "      <th>7</th>\n",
        "      <td>1887</td>\n",
        "      <td>-60</td>\n",
        "      <td>-43</td>\n",
        "      <td>-26</td>\n",
        "      <td>-34</td>\n",
        "      <td>-28</td>\n",
        "      <td>-25</td>\n",
        "      <td>-19</td>\n",
        "      <td>-28</td>\n",
        "      <td>-24</td>\n",
        "      <td>-33</td>\n",
        "      <td>-29</td>\n",
        "      <td>-40</td>\n",
        "      <td>-32</td>\n",
        "      <td>-30</td>\n",
        "      <td>-40</td>\n",
        "      <td>-29</td>\n",
        "      <td>-24</td>\n",
        "      <td>-28</td>\n",
        "      <td>1887</td>\n",
        "    </tr>\n",
        "    <tr>\n",
        "      <th>...</th>\n",
        "      <td>...</td>\n",
        "      <td>...</td>\n",
        "      <td>...</td>\n",
        "      <td>...</td>\n",
        "      <td>...</td>\n",
        "      <td>...</td>\n",
        "      <td>...</td>\n",
        "      <td>...</td>\n",
        "      <td>...</td>\n",
        "      <td>...</td>\n",
        "      <td>...</td>\n",
        "      <td>...</td>\n",
        "      <td>...</td>\n",
        "      <td>...</td>\n",
        "      <td>...</td>\n",
        "      <td>...</td>\n",
        "      <td>...</td>\n",
        "      <td>...</td>\n",
        "      <td>...</td>\n",
        "      <td>...</td>\n",
        "    </tr>\n",
        "    <tr>\n",
        "      <th>135</th>\n",
        "      <td>2009</td>\n",
        "      <td>56</td>\n",
        "      <td>48</td>\n",
        "      <td>49</td>\n",
        "      <td>57</td>\n",
        "      <td>59</td>\n",
        "      <td>62</td>\n",
        "      <td>66</td>\n",
        "      <td>61</td>\n",
        "      <td>64</td>\n",
        "      <td>58</td>\n",
        "      <td>72</td>\n",
        "      <td>58</td>\n",
        "      <td>59</td>\n",
        "      <td>59</td>\n",
        "      <td>52</td>\n",
        "      <td>55</td>\n",
        "      <td>63</td>\n",
        "      <td>65</td>\n",
        "      <td>2009</td>\n",
        "    </tr>\n",
        "    <tr>\n",
        "      <th>136</th>\n",
        "      <td>2010</td>\n",
        "      <td>66</td>\n",
        "      <td>75</td>\n",
        "      <td>87</td>\n",
        "      <td>82</td>\n",
        "      <td>71</td>\n",
        "      <td>60</td>\n",
        "      <td>56</td>\n",
        "      <td>59</td>\n",
        "      <td>55</td>\n",
        "      <td>65</td>\n",
        "      <td>74</td>\n",
        "      <td>44</td>\n",
        "      <td>66</td>\n",
        "      <td>67</td>\n",
        "      <td>66</td>\n",
        "      <td>80</td>\n",
        "      <td>58</td>\n",
        "      <td>65</td>\n",
        "      <td>2010</td>\n",
        "    </tr>\n",
        "    <tr>\n",
        "      <th>137</th>\n",
        "      <td>2011</td>\n",
        "      <td>45</td>\n",
        "      <td>44</td>\n",
        "      <td>57</td>\n",
        "      <td>60</td>\n",
        "      <td>47</td>\n",
        "      <td>54</td>\n",
        "      <td>70</td>\n",
        "      <td>69</td>\n",
        "      <td>52</td>\n",
        "      <td>60</td>\n",
        "      <td>50</td>\n",
        "      <td>48</td>\n",
        "      <td>55</td>\n",
        "      <td>55</td>\n",
        "      <td>45</td>\n",
        "      <td>55</td>\n",
        "      <td>64</td>\n",
        "      <td>54</td>\n",
        "      <td>2011</td>\n",
        "    </tr>\n",
        "    <tr>\n",
        "      <th>138</th>\n",
        "      <td>2012</td>\n",
        "      <td>38</td>\n",
        "      <td>43</td>\n",
        "      <td>52</td>\n",
        "      <td>62</td>\n",
        "      <td>71</td>\n",
        "      <td>59</td>\n",
        "      <td>50</td>\n",
        "      <td>56</td>\n",
        "      <td>68</td>\n",
        "      <td>73</td>\n",
        "      <td>69</td>\n",
        "      <td>46</td>\n",
        "      <td>57</td>\n",
        "      <td>57</td>\n",
        "      <td>43</td>\n",
        "      <td>62</td>\n",
        "      <td>55</td>\n",
        "      <td>70</td>\n",
        "      <td>2012</td>\n",
        "    </tr>\n",
        "    <tr>\n",
        "      <th>139</th>\n",
        "      <td>2013</td>\n",
        "      <td>62</td>\n",
        "      <td>52</td>\n",
        "      <td>60</td>\n",
        "      <td>48</td>\n",
        "      <td>56</td>\n",
        "      <td>61</td>\n",
        "      <td>53</td>\n",
        "      <td>61</td>\n",
        "      <td>73</td>\n",
        "      <td>61</td>\n",
        "      <td>75</td>\n",
        "      <td>61</td>\n",
        "      <td>60</td>\n",
        "      <td>59</td>\n",
        "      <td>53</td>\n",
        "      <td>55</td>\n",
        "      <td>58</td>\n",
        "      <td>70</td>\n",
        "      <td>2013</td>\n",
        "    </tr>\n",
        "    <tr>\n",
        "      <th>140</th>\n",
        "      <td>2014</td>\n",
        "      <td>68</td>\n",
        "      <td>44</td>\n",
        "      <td>71</td>\n",
        "      <td>72</td>\n",
        "      <td>79</td>\n",
        "      <td>62</td>\n",
        "      <td>50</td>\n",
        "      <td>74</td>\n",
        "      <td>81</td>\n",
        "      <td>78</td>\n",
        "      <td>64</td>\n",
        "      <td>74</td>\n",
        "      <td>68</td>\n",
        "      <td>67</td>\n",
        "      <td>58</td>\n",
        "      <td>74</td>\n",
        "      <td>62</td>\n",
        "      <td>74</td>\n",
        "      <td>2014</td>\n",
        "    </tr>\n",
        "    <tr>\n",
        "      <th>141</th>\n",
        "      <td>2015</td>\n",
        "      <td>75</td>\n",
        "      <td>80</td>\n",
        "      <td>84</td>\n",
        "      <td>71</td>\n",
        "      <td>****</td>\n",
        "      <td>****</td>\n",
        "      <td>****</td>\n",
        "      <td>****</td>\n",
        "      <td>****</td>\n",
        "      <td>****</td>\n",
        "      <td>****</td>\n",
        "      <td>****</td>\n",
        "      <td>****</td>\n",
        "      <td>***</td>\n",
        "      <td>76</td>\n",
        "      <td>****</td>\n",
        "      <td>****</td>\n",
        "      <td>****</td>\n",
        "      <td>2015</td>\n",
        "    </tr>\n",
        "    <tr>\n",
        "      <th>142</th>\n",
        "      <td>Year</td>\n",
        "      <td>Jan</td>\n",
        "      <td>Feb</td>\n",
        "      <td>Mar</td>\n",
        "      <td>Apr</td>\n",
        "      <td>May</td>\n",
        "      <td>Jun</td>\n",
        "      <td>Jul</td>\n",
        "      <td>Aug</td>\n",
        "      <td>Sep</td>\n",
        "      <td>Oct</td>\n",
        "      <td>Nov</td>\n",
        "      <td>Dec</td>\n",
        "      <td>J-D</td>\n",
        "      <td>D-N</td>\n",
        "      <td>DJF</td>\n",
        "      <td>MAM</td>\n",
        "      <td>JJA</td>\n",
        "      <td>SON</td>\n",
        "      <td>Year</td>\n",
        "    </tr>\n",
        "  </tbody>\n",
        "</table>\n",
        "<p>143 rows \u00d7 20 columns</p>\n",
        "</div>"
       ],
       "metadata": {},
       "output_type": "pyout",
       "prompt_number": 214,
       "text": [
        "     Year  Jan  Feb  Mar  Apr   May   Jun   Jul   Aug   Sep   Oct   Nov   Dec  \\\n",
        "0    1880  -34  -27  -22  -30   -16   -24   -19   -12   -20   -19   -16   -21   \n",
        "1    1881  -13  -16   -2   -3    -3   -27   -12    -8   -18   -23   -28   -18   \n",
        "2    1882    3    4   -2  -24   -20   -32   -27   -11   -11   -25   -25   -37   \n",
        "3    1883  -38  -38  -12  -20   -20    -8    -3   -13   -19   -19   -28   -21   \n",
        "4    1884  -20  -14  -31  -36   -33   -36   -31   -24   -29   -25   -29   -25   \n",
        "5    1885  -57  -29  -19  -36   -35   -40   -28   -24   -17   -14   -14     0   \n",
        "6    1886  -37  -43  -34  -23   -21   -30   -13   -21   -12   -22   -29   -18   \n",
        "7    1887  -60  -43  -26  -34   -28   -25   -19   -28   -24   -33   -29   -40   \n",
        "..    ...  ...  ...  ...  ...   ...   ...   ...   ...   ...   ...   ...   ...   \n",
        "135  2009   56   48   49   57    59    62    66    61    64    58    72    58   \n",
        "136  2010   66   75   87   82    71    60    56    59    55    65    74    44   \n",
        "137  2011   45   44   57   60    47    54    70    69    52    60    50    48   \n",
        "138  2012   38   43   52   62    71    59    50    56    68    73    69    46   \n",
        "139  2013   62   52   60   48    56    61    53    61    73    61    75    61   \n",
        "140  2014   68   44   71   72    79    62    50    74    81    78    64    74   \n",
        "141  2015   75   80   84   71  ****  ****  ****  ****  ****  ****  ****  ****   \n",
        "142  Year  Jan  Feb  Mar  Apr   May   Jun   Jul   Aug   Sep   Oct   Nov   Dec   \n",
        "\n",
        "      J-D  D-N   DJF   MAM   JJA   SON Year.1  \n",
        "0     -22  ***  ****   -23   -18   -18   1880  \n",
        "1     -14  -14   -17    -3   -15   -23   1881  \n",
        "2     -17  -16    -4   -15   -23   -20   1882  \n",
        "3     -20  -21   -38   -18    -8   -22   1883  \n",
        "4     -28  -28   -18   -33   -31   -28   1884  \n",
        "5     -26  -28   -37   -30   -31   -15   1885  \n",
        "6     -25  -24   -26   -26   -21   -21   1886  \n",
        "7     -32  -30   -40   -29   -24   -28   1887  \n",
        "..    ...  ...   ...   ...   ...   ...    ...  \n",
        "135    59   59    52    55    63    65   2009  \n",
        "136    66   67    66    80    58    65   2010  \n",
        "137    55   55    45    55    64    54   2011  \n",
        "138    57   57    43    62    55    70   2012  \n",
        "139    60   59    53    55    58    70   2013  \n",
        "140    68   67    58    74    62    74   2014  \n",
        "141  ****  ***    76  ****  ****  ****   2015  \n",
        "142   J-D  D-N   DJF   MAM   JJA   SON   Year  \n",
        "\n",
        "[143 rows x 20 columns]"
       ]
      }
     ],
     "prompt_number": 214
    },
    {
     "cell_type": "markdown",
     "metadata": {},
     "source": [
      "**QUIZ:** What happens if you remove the `skiprows`? `skipfooter`? `engine`?"
     ]
    },
    {
     "cell_type": "markdown",
     "metadata": {},
     "source": [
      "**EXERCISE:** Load some readings of CO2 concentrations in the atmosphere from the `data/greenhouse_gaz/co2_mm_global.txt` data file."
     ]
    },
    {
     "cell_type": "code",
     "collapsed": false,
     "input": [
      "# You code here"
     ],
     "language": "python",
     "metadata": {},
     "outputs": [],
     "prompt_number": 215
    },
    {
     "cell_type": "heading",
     "level": 3,
     "metadata": {},
     "source": [
      "From a remote text file"
     ]
    },
    {
     "cell_type": "markdown",
     "metadata": {},
     "source": [
      "So far, we have only loaded temperature datasets. Climate change also affects the sea levels on the globe. Let's load some datasets with the sea levels. The university of colorado posts updated timeseries for mean sea level globably, per \n",
      "hemisphere, or even per ocean, sea, ... Let's download the global one, and the ones for the northern and southern hemisphere."
     ]
    },
    {
     "cell_type": "markdown",
     "metadata": {},
     "source": [
      "That will also illustrate that to load text files that are online, there is no more work than replacing the filepath by a URL n `read_table`:"
     ]
    },
    {
     "cell_type": "code",
     "collapsed": false,
     "input": [
      "# Local backup: data/sea_levels/sl_nh.txt\n",
      "northern_sea_level = pd.read_table(\"http://sealevel.colorado.edu/files/current/sl_nh.txt\", \n",
      "                                   sep=\"\\s+\")\n",
      "northern_sea_level"
     ],
     "language": "python",
     "metadata": {},
     "outputs": [
      {
       "html": [
        "<div style=\"max-width:1500px;overflow:auto;\">\n",
        "<table border=\"1\" class=\"dataframe\">\n",
        "  <thead>\n",
        "    <tr style=\"text-align: right;\">\n",
        "      <th></th>\n",
        "      <th>year</th>\n",
        "      <th>msl_ib(mm)</th>\n",
        "      <th>#version_2015_rel2</th>\n",
        "    </tr>\n",
        "  </thead>\n",
        "  <tbody>\n",
        "    <tr>\n",
        "      <th>0</th>\n",
        "      <td>1992.9323</td>\n",
        "      <td>13.717</td>\n",
        "      <td>NaN</td>\n",
        "    </tr>\n",
        "    <tr>\n",
        "      <th>1</th>\n",
        "      <td>1992.9595</td>\n",
        "      <td>1.328</td>\n",
        "      <td>NaN</td>\n",
        "    </tr>\n",
        "    <tr>\n",
        "      <th>2</th>\n",
        "      <td>1992.9866</td>\n",
        "      <td>-13.375</td>\n",
        "      <td>NaN</td>\n",
        "    </tr>\n",
        "    <tr>\n",
        "      <th>3</th>\n",
        "      <td>1993.0138</td>\n",
        "      <td>-24.723</td>\n",
        "      <td>NaN</td>\n",
        "    </tr>\n",
        "    <tr>\n",
        "      <th>4</th>\n",
        "      <td>1993.0409</td>\n",
        "      <td>-29.231</td>\n",
        "      <td>NaN</td>\n",
        "    </tr>\n",
        "    <tr>\n",
        "      <th>5</th>\n",
        "      <td>1993.0681</td>\n",
        "      <td>-32.538</td>\n",
        "      <td>NaN</td>\n",
        "    </tr>\n",
        "    <tr>\n",
        "      <th>6</th>\n",
        "      <td>1993.0952</td>\n",
        "      <td>-35.588</td>\n",
        "      <td>NaN</td>\n",
        "    </tr>\n",
        "    <tr>\n",
        "      <th>7</th>\n",
        "      <td>1993.1223</td>\n",
        "      <td>-26.579</td>\n",
        "      <td>NaN</td>\n",
        "    </tr>\n",
        "    <tr>\n",
        "      <th>...</th>\n",
        "      <td>...</td>\n",
        "      <td>...</td>\n",
        "      <td>...</td>\n",
        "    </tr>\n",
        "    <tr>\n",
        "      <th>809</th>\n",
        "      <td>2014.9494</td>\n",
        "      <td>63.004</td>\n",
        "      <td>NaN</td>\n",
        "    </tr>\n",
        "    <tr>\n",
        "      <th>810</th>\n",
        "      <td>2014.9766</td>\n",
        "      <td>56.990</td>\n",
        "      <td>NaN</td>\n",
        "    </tr>\n",
        "    <tr>\n",
        "      <th>811</th>\n",
        "      <td>2015.0037</td>\n",
        "      <td>49.183</td>\n",
        "      <td>NaN</td>\n",
        "    </tr>\n",
        "    <tr>\n",
        "      <th>812</th>\n",
        "      <td>2015.0309</td>\n",
        "      <td>39.398</td>\n",
        "      <td>NaN</td>\n",
        "    </tr>\n",
        "    <tr>\n",
        "      <th>813</th>\n",
        "      <td>2015.0580</td>\n",
        "      <td>31.524</td>\n",
        "      <td>NaN</td>\n",
        "    </tr>\n",
        "    <tr>\n",
        "      <th>814</th>\n",
        "      <td>2015.0852</td>\n",
        "      <td>33.878</td>\n",
        "      <td>NaN</td>\n",
        "    </tr>\n",
        "    <tr>\n",
        "      <th>815</th>\n",
        "      <td>2015.1123</td>\n",
        "      <td>29.822</td>\n",
        "      <td>NaN</td>\n",
        "    </tr>\n",
        "    <tr>\n",
        "      <th>816</th>\n",
        "      <td>2015.1395</td>\n",
        "      <td>33.825</td>\n",
        "      <td>NaN</td>\n",
        "    </tr>\n",
        "  </tbody>\n",
        "</table>\n",
        "<p>817 rows \u00d7 3 columns</p>\n",
        "</div>"
       ],
       "metadata": {},
       "output_type": "pyout",
       "prompt_number": 216,
       "text": [
        "          year  msl_ib(mm)  #version_2015_rel2\n",
        "0    1992.9323      13.717                 NaN\n",
        "1    1992.9595       1.328                 NaN\n",
        "2    1992.9866     -13.375                 NaN\n",
        "3    1993.0138     -24.723                 NaN\n",
        "4    1993.0409     -29.231                 NaN\n",
        "5    1993.0681     -32.538                 NaN\n",
        "6    1993.0952     -35.588                 NaN\n",
        "7    1993.1223     -26.579                 NaN\n",
        "..         ...         ...                 ...\n",
        "809  2014.9494      63.004                 NaN\n",
        "810  2014.9766      56.990                 NaN\n",
        "811  2015.0037      49.183                 NaN\n",
        "812  2015.0309      39.398                 NaN\n",
        "813  2015.0580      31.524                 NaN\n",
        "814  2015.0852      33.878                 NaN\n",
        "815  2015.1123      29.822                 NaN\n",
        "816  2015.1395      33.825                 NaN\n",
        "\n",
        "[817 rows x 3 columns]"
       ]
      }
     ],
     "prompt_number": 216
    },
    {
     "cell_type": "code",
     "collapsed": false,
     "input": [
      "# Local backup: data/sea_levels/sl_sh.txt\n",
      "southern_sea_level = pd.read_table(\"http://sealevel.colorado.edu/files/current/sl_sh.txt\", \n",
      "                                   sep=\"\\s+\")\n",
      "southern_sea_level"
     ],
     "language": "python",
     "metadata": {},
     "outputs": [
      {
       "html": [
        "<div style=\"max-width:1500px;overflow:auto;\">\n",
        "<table border=\"1\" class=\"dataframe\">\n",
        "  <thead>\n",
        "    <tr style=\"text-align: right;\">\n",
        "      <th></th>\n",
        "      <th>year</th>\n",
        "      <th>msl_ib(mm)</th>\n",
        "      <th>#version_2015_rel2</th>\n",
        "    </tr>\n",
        "  </thead>\n",
        "  <tbody>\n",
        "    <tr>\n",
        "      <th>0</th>\n",
        "      <td>1992.9323</td>\n",
        "      <td>2.517</td>\n",
        "      <td>NaN</td>\n",
        "    </tr>\n",
        "    <tr>\n",
        "      <th>1</th>\n",
        "      <td>1992.9595</td>\n",
        "      <td>-7.645</td>\n",
        "      <td>NaN</td>\n",
        "    </tr>\n",
        "    <tr>\n",
        "      <th>2</th>\n",
        "      <td>1992.9866</td>\n",
        "      <td>-2.267</td>\n",
        "      <td>NaN</td>\n",
        "    </tr>\n",
        "    <tr>\n",
        "      <th>3</th>\n",
        "      <td>1993.0138</td>\n",
        "      <td>0.855</td>\n",
        "      <td>NaN</td>\n",
        "    </tr>\n",
        "    <tr>\n",
        "      <th>4</th>\n",
        "      <td>1993.0409</td>\n",
        "      <td>-2.020</td>\n",
        "      <td>NaN</td>\n",
        "    </tr>\n",
        "    <tr>\n",
        "      <th>5</th>\n",
        "      <td>1993.0681</td>\n",
        "      <td>-0.398</td>\n",
        "      <td>NaN</td>\n",
        "    </tr>\n",
        "    <tr>\n",
        "      <th>6</th>\n",
        "      <td>1993.0952</td>\n",
        "      <td>4.102</td>\n",
        "      <td>NaN</td>\n",
        "    </tr>\n",
        "    <tr>\n",
        "      <th>7</th>\n",
        "      <td>1993.1223</td>\n",
        "      <td>6.787</td>\n",
        "      <td>NaN</td>\n",
        "    </tr>\n",
        "    <tr>\n",
        "      <th>...</th>\n",
        "      <td>...</td>\n",
        "      <td>...</td>\n",
        "      <td>...</td>\n",
        "    </tr>\n",
        "    <tr>\n",
        "      <th>809</th>\n",
        "      <td>2014.9494</td>\n",
        "      <td>68.561</td>\n",
        "      <td>NaN</td>\n",
        "    </tr>\n",
        "    <tr>\n",
        "      <th>810</th>\n",
        "      <td>2014.9766</td>\n",
        "      <td>70.551</td>\n",
        "      <td>NaN</td>\n",
        "    </tr>\n",
        "    <tr>\n",
        "      <th>811</th>\n",
        "      <td>2015.0037</td>\n",
        "      <td>67.742</td>\n",
        "      <td>NaN</td>\n",
        "    </tr>\n",
        "    <tr>\n",
        "      <th>812</th>\n",
        "      <td>2015.0309</td>\n",
        "      <td>69.746</td>\n",
        "      <td>NaN</td>\n",
        "    </tr>\n",
        "    <tr>\n",
        "      <th>813</th>\n",
        "      <td>2015.0580</td>\n",
        "      <td>69.317</td>\n",
        "      <td>NaN</td>\n",
        "    </tr>\n",
        "    <tr>\n",
        "      <th>814</th>\n",
        "      <td>2015.0852</td>\n",
        "      <td>77.533</td>\n",
        "      <td>NaN</td>\n",
        "    </tr>\n",
        "    <tr>\n",
        "      <th>815</th>\n",
        "      <td>2015.1123</td>\n",
        "      <td>81.370</td>\n",
        "      <td>NaN</td>\n",
        "    </tr>\n",
        "    <tr>\n",
        "      <th>816</th>\n",
        "      <td>2015.1395</td>\n",
        "      <td>86.893</td>\n",
        "      <td>NaN</td>\n",
        "    </tr>\n",
        "  </tbody>\n",
        "</table>\n",
        "<p>817 rows \u00d7 3 columns</p>\n",
        "</div>"
       ],
       "metadata": {},
       "output_type": "pyout",
       "prompt_number": 217,
       "text": [
        "          year  msl_ib(mm)  #version_2015_rel2\n",
        "0    1992.9323       2.517                 NaN\n",
        "1    1992.9595      -7.645                 NaN\n",
        "2    1992.9866      -2.267                 NaN\n",
        "3    1993.0138       0.855                 NaN\n",
        "4    1993.0409      -2.020                 NaN\n",
        "5    1993.0681      -0.398                 NaN\n",
        "6    1993.0952       4.102                 NaN\n",
        "7    1993.1223       6.787                 NaN\n",
        "..         ...         ...                 ...\n",
        "809  2014.9494      68.561                 NaN\n",
        "810  2014.9766      70.551                 NaN\n",
        "811  2015.0037      67.742                 NaN\n",
        "812  2015.0309      69.746                 NaN\n",
        "813  2015.0580      69.317                 NaN\n",
        "814  2015.0852      77.533                 NaN\n",
        "815  2015.1123      81.370                 NaN\n",
        "816  2015.1395      86.893                 NaN\n",
        "\n",
        "[817 rows x 3 columns]"
       ]
      }
     ],
     "prompt_number": 217
    },
    {
     "cell_type": "code",
     "collapsed": false,
     "input": [
      "# The 2015 version of the global dataset:\n",
      "# Local backup: data/sea_levels/sl_ns_global.txt\n",
      "url = \"http://sealevel.colorado.edu/files/2015_rel2/sl_ns_global.txt\"\n",
      "global_sea_level = pd.read_table(url, sep=\"\\s+\")\n",
      "global_sea_level"
     ],
     "language": "python",
     "metadata": {},
     "outputs": [
      {
       "html": [
        "<div style=\"max-width:1500px;overflow:auto;\">\n",
        "<table border=\"1\" class=\"dataframe\">\n",
        "  <thead>\n",
        "    <tr style=\"text-align: right;\">\n",
        "      <th></th>\n",
        "      <th>year</th>\n",
        "      <th>msl_ib_ns(mm)</th>\n",
        "      <th>#version_2015_rel2</th>\n",
        "    </tr>\n",
        "  </thead>\n",
        "  <tbody>\n",
        "    <tr>\n",
        "      <th>0</th>\n",
        "      <td>1992.9595</td>\n",
        "      <td>-5.818</td>\n",
        "      <td>NaN</td>\n",
        "    </tr>\n",
        "    <tr>\n",
        "      <th>1</th>\n",
        "      <td>1992.9866</td>\n",
        "      <td>-7.525</td>\n",
        "      <td>NaN</td>\n",
        "    </tr>\n",
        "    <tr>\n",
        "      <th>2</th>\n",
        "      <td>1993.0138</td>\n",
        "      <td>-9.215</td>\n",
        "      <td>NaN</td>\n",
        "    </tr>\n",
        "    <tr>\n",
        "      <th>3</th>\n",
        "      <td>1993.0409</td>\n",
        "      <td>-11.796</td>\n",
        "      <td>NaN</td>\n",
        "    </tr>\n",
        "    <tr>\n",
        "      <th>4</th>\n",
        "      <td>1993.0681</td>\n",
        "      <td>-11.291</td>\n",
        "      <td>NaN</td>\n",
        "    </tr>\n",
        "    <tr>\n",
        "      <th>5</th>\n",
        "      <td>1993.0952</td>\n",
        "      <td>-9.569</td>\n",
        "      <td>NaN</td>\n",
        "    </tr>\n",
        "    <tr>\n",
        "      <th>6</th>\n",
        "      <td>1993.1223</td>\n",
        "      <td>-3.714</td>\n",
        "      <td>NaN</td>\n",
        "    </tr>\n",
        "    <tr>\n",
        "      <th>7</th>\n",
        "      <td>1993.1495</td>\n",
        "      <td>-2.471</td>\n",
        "      <td>NaN</td>\n",
        "    </tr>\n",
        "    <tr>\n",
        "      <th>...</th>\n",
        "      <td>...</td>\n",
        "      <td>...</td>\n",
        "      <td>...</td>\n",
        "    </tr>\n",
        "    <tr>\n",
        "      <th>772</th>\n",
        "      <td>2014.9494</td>\n",
        "      <td>70.723</td>\n",
        "      <td>NaN</td>\n",
        "    </tr>\n",
        "    <tr>\n",
        "      <th>773</th>\n",
        "      <td>2014.9766</td>\n",
        "      <td>70.522</td>\n",
        "      <td>NaN</td>\n",
        "    </tr>\n",
        "    <tr>\n",
        "      <th>774</th>\n",
        "      <td>2015.0037</td>\n",
        "      <td>66.662</td>\n",
        "      <td>NaN</td>\n",
        "    </tr>\n",
        "    <tr>\n",
        "      <th>775</th>\n",
        "      <td>2015.0309</td>\n",
        "      <td>64.804</td>\n",
        "      <td>NaN</td>\n",
        "    </tr>\n",
        "    <tr>\n",
        "      <th>776</th>\n",
        "      <td>2015.0580</td>\n",
        "      <td>62.115</td>\n",
        "      <td>NaN</td>\n",
        "    </tr>\n",
        "    <tr>\n",
        "      <th>777</th>\n",
        "      <td>2015.0852</td>\n",
        "      <td>68.589</td>\n",
        "      <td>NaN</td>\n",
        "    </tr>\n",
        "    <tr>\n",
        "      <th>778</th>\n",
        "      <td>2015.1123</td>\n",
        "      <td>69.745</td>\n",
        "      <td>NaN</td>\n",
        "    </tr>\n",
        "    <tr>\n",
        "      <th>779</th>\n",
        "      <td>2015.1395</td>\n",
        "      <td>75.007</td>\n",
        "      <td>NaN</td>\n",
        "    </tr>\n",
        "  </tbody>\n",
        "</table>\n",
        "<p>780 rows \u00d7 3 columns</p>\n",
        "</div>"
       ],
       "metadata": {},
       "output_type": "pyout",
       "prompt_number": 218,
       "text": [
        "          year  msl_ib_ns(mm)  #version_2015_rel2\n",
        "0    1992.9595         -5.818                 NaN\n",
        "1    1992.9866         -7.525                 NaN\n",
        "2    1993.0138         -9.215                 NaN\n",
        "3    1993.0409        -11.796                 NaN\n",
        "4    1993.0681        -11.291                 NaN\n",
        "5    1993.0952         -9.569                 NaN\n",
        "6    1993.1223         -3.714                 NaN\n",
        "7    1993.1495         -2.471                 NaN\n",
        "..         ...            ...                 ...\n",
        "772  2014.9494         70.723                 NaN\n",
        "773  2014.9766         70.522                 NaN\n",
        "774  2015.0037         66.662                 NaN\n",
        "775  2015.0309         64.804                 NaN\n",
        "776  2015.0580         62.115                 NaN\n",
        "777  2015.0852         68.589                 NaN\n",
        "778  2015.1123         69.745                 NaN\n",
        "779  2015.1395         75.007                 NaN\n",
        "\n",
        "[780 rows x 3 columns]"
       ]
      }
     ],
     "prompt_number": 218
    },
    {
     "cell_type": "markdown",
     "metadata": {},
     "source": [
      "There are clearly lots of cleanup to be done on these datasets. See below..."
     ]
    },
    {
     "cell_type": "heading",
     "level": 3,
     "metadata": {},
     "source": [
      "From a local or remote HTML file"
     ]
    },
    {
     "cell_type": "markdown",
     "metadata": {},
     "source": [
      "To be able to grab more local data about mean sea levels, we can download and extract data about mean sea level stations around the world from the PSMSL (http://www.psmsl.org/). Again to download and parse all tables in a webpage, just give `read_html` the URL to parse:"
     ]
    },
    {
     "cell_type": "code",
     "collapsed": false,
     "input": [
      "# Needs `lxml`, `beautifulSoup4` and `html5lib` python packages\n",
      "# Local backup in data/sea_levels/Obtaining Tide Gauge Data.html\n",
      "table_list = pd.read_html(\"http://www.psmsl.org/data/obtaining/\")"
     ],
     "language": "python",
     "metadata": {},
     "outputs": [],
     "prompt_number": 219
    },
    {
     "cell_type": "code",
     "collapsed": false,
     "input": [
      "# there is 1 table on that page which contains metadata about the stations where \n",
      "# sea levels are recorded\n",
      "local_sea_level_stations = table_list[0]\n",
      "local_sea_level_stations"
     ],
     "language": "python",
     "metadata": {},
     "outputs": [
      {
       "html": [
        "<div style=\"max-width:1500px;overflow:auto;\">\n",
        "<table border=\"1\" class=\"dataframe\">\n",
        "  <thead>\n",
        "    <tr style=\"text-align: right;\">\n",
        "      <th></th>\n",
        "      <th>Station Name</th>\n",
        "      <th>ID</th>\n",
        "      <th>Lat.</th>\n",
        "      <th>Lon.</th>\n",
        "      <th>GLOSS ID</th>\n",
        "      <th>Country</th>\n",
        "      <th>Date</th>\n",
        "      <th>Coastline</th>\n",
        "      <th>Station</th>\n",
        "    </tr>\n",
        "  </thead>\n",
        "  <tbody>\n",
        "    <tr>\n",
        "      <th>0</th>\n",
        "      <td>HELIGMAN</td>\n",
        "      <td>231</td>\n",
        "      <td>60.200</td>\n",
        "      <td>19.300</td>\n",
        "      <td>NaN</td>\n",
        "      <td>ALA</td>\n",
        "      <td>01/01/1980</td>\n",
        "      <td>60</td>\n",
        "      <td>251</td>\n",
        "    </tr>\n",
        "    <tr>\n",
        "      <th>1</th>\n",
        "      <td>KOBBAKLINTAR</td>\n",
        "      <td>63</td>\n",
        "      <td>60.033</td>\n",
        "      <td>19.883</td>\n",
        "      <td>NaN</td>\n",
        "      <td>ALA</td>\n",
        "      <td>01/01/1980</td>\n",
        "      <td>60</td>\n",
        "      <td>261</td>\n",
        "    </tr>\n",
        "    <tr>\n",
        "      <th>2</th>\n",
        "      <td>LEMSTROM</td>\n",
        "      <td>84</td>\n",
        "      <td>60.100</td>\n",
        "      <td>20.017</td>\n",
        "      <td>NaN</td>\n",
        "      <td>ALA</td>\n",
        "      <td>01/01/1980</td>\n",
        "      <td>60</td>\n",
        "      <td>271</td>\n",
        "    </tr>\n",
        "    <tr>\n",
        "      <th>3</th>\n",
        "      <td>FOGLO / DEGERBY</td>\n",
        "      <td>249</td>\n",
        "      <td>60.032</td>\n",
        "      <td>20.385</td>\n",
        "      <td>NaN</td>\n",
        "      <td>ALA</td>\n",
        "      <td>26/11/2014</td>\n",
        "      <td>60</td>\n",
        "      <td>281</td>\n",
        "    </tr>\n",
        "    <tr>\n",
        "      <th>4</th>\n",
        "      <td>PAGO PAGO</td>\n",
        "      <td>539</td>\n",
        "      <td>-14.280</td>\n",
        "      <td>-170.690</td>\n",
        "      <td>144</td>\n",
        "      <td>ASM</td>\n",
        "      <td>28/04/2015</td>\n",
        "      <td>745</td>\n",
        "      <td>1</td>\n",
        "    </tr>\n",
        "    <tr>\n",
        "      <th>5</th>\n",
        "      <td>BAHIA ESPERANZA</td>\n",
        "      <td>988</td>\n",
        "      <td>-63.300</td>\n",
        "      <td>-56.917</td>\n",
        "      <td>185</td>\n",
        "      <td>ATA</td>\n",
        "      <td>11/05/1999</td>\n",
        "      <td>999</td>\n",
        "      <td>1</td>\n",
        "    </tr>\n",
        "    <tr>\n",
        "      <th>6</th>\n",
        "      <td>ARGENTINE ISLANDS</td>\n",
        "      <td>913</td>\n",
        "      <td>-65.246</td>\n",
        "      <td>-64.257</td>\n",
        "      <td>188</td>\n",
        "      <td>ATA</td>\n",
        "      <td>21/05/2015</td>\n",
        "      <td>999</td>\n",
        "      <td>3</td>\n",
        "    </tr>\n",
        "    <tr>\n",
        "      <th>7</th>\n",
        "      <td>PUERTO SOBERANIA</td>\n",
        "      <td>1603</td>\n",
        "      <td>-62.483</td>\n",
        "      <td>-59.633</td>\n",
        "      <td>189</td>\n",
        "      <td>ATA</td>\n",
        "      <td>30/09/2004</td>\n",
        "      <td>999</td>\n",
        "      <td>5</td>\n",
        "    </tr>\n",
        "    <tr>\n",
        "      <th>...</th>\n",
        "      <td>...</td>\n",
        "      <td>...</td>\n",
        "      <td>...</td>\n",
        "      <td>...</td>\n",
        "      <td>...</td>\n",
        "      <td>...</td>\n",
        "      <td>...</td>\n",
        "      <td>...</td>\n",
        "      <td>...</td>\n",
        "    </tr>\n",
        "    <tr>\n",
        "      <th>1412</th>\n",
        "      <td>DANANG</td>\n",
        "      <td>1475</td>\n",
        "      <td>16.100</td>\n",
        "      <td>108.217</td>\n",
        "      <td>NaN</td>\n",
        "      <td>VNM</td>\n",
        "      <td>28/10/2002</td>\n",
        "      <td>605</td>\n",
        "      <td>51</td>\n",
        "    </tr>\n",
        "    <tr>\n",
        "      <th>1413</th>\n",
        "      <td>HONNGU</td>\n",
        "      <td>1003</td>\n",
        "      <td>18.800</td>\n",
        "      <td>105.767</td>\n",
        "      <td>NaN</td>\n",
        "      <td>VNM</td>\n",
        "      <td>28/10/2002</td>\n",
        "      <td>605</td>\n",
        "      <td>61</td>\n",
        "    </tr>\n",
        "    <tr>\n",
        "      <th>1414</th>\n",
        "      <td>HONDAU</td>\n",
        "      <td>841</td>\n",
        "      <td>20.667</td>\n",
        "      <td>106.800</td>\n",
        "      <td>NaN</td>\n",
        "      <td>VNM</td>\n",
        "      <td>19/11/2002</td>\n",
        "      <td>605</td>\n",
        "      <td>81</td>\n",
        "    </tr>\n",
        "    <tr>\n",
        "      <th>1415</th>\n",
        "      <td>CHARLOTTE AMALIE</td>\n",
        "      <td>1393</td>\n",
        "      <td>18.335</td>\n",
        "      <td>-64.920</td>\n",
        "      <td>NaN</td>\n",
        "      <td>VIR</td>\n",
        "      <td>29/04/2015</td>\n",
        "      <td>939</td>\n",
        "      <td>1</td>\n",
        "    </tr>\n",
        "    <tr>\n",
        "      <th>1416</th>\n",
        "      <td>LIME TREE BAY, ST CROIX</td>\n",
        "      <td>1447</td>\n",
        "      <td>17.693</td>\n",
        "      <td>-64.753</td>\n",
        "      <td>NaN</td>\n",
        "      <td>VIR</td>\n",
        "      <td>29/04/2015</td>\n",
        "      <td>939</td>\n",
        "      <td>11</td>\n",
        "    </tr>\n",
        "    <tr>\n",
        "      <th>1417</th>\n",
        "      <td>CHRISTIANSTED HARBOUR</td>\n",
        "      <td>2118</td>\n",
        "      <td>17.750</td>\n",
        "      <td>-64.705</td>\n",
        "      <td>NaN</td>\n",
        "      <td>VIR</td>\n",
        "      <td>29/04/2015</td>\n",
        "      <td>939</td>\n",
        "      <td>15</td>\n",
        "    </tr>\n",
        "    <tr>\n",
        "      <th>1418</th>\n",
        "      <td>LAMESHUR BAY</td>\n",
        "      <td>2119</td>\n",
        "      <td>18.317</td>\n",
        "      <td>-64.723</td>\n",
        "      <td>NaN</td>\n",
        "      <td>VIR</td>\n",
        "      <td>29/04/2015</td>\n",
        "      <td>939</td>\n",
        "      <td>21</td>\n",
        "    </tr>\n",
        "    <tr>\n",
        "      <th>1419</th>\n",
        "      <td>ADEN</td>\n",
        "      <td>44</td>\n",
        "      <td>12.788</td>\n",
        "      <td>44.974</td>\n",
        "      <td>3</td>\n",
        "      <td>YEM</td>\n",
        "      <td>01/07/2014</td>\n",
        "      <td>485</td>\n",
        "      <td>1</td>\n",
        "    </tr>\n",
        "  </tbody>\n",
        "</table>\n",
        "<p>1420 rows \u00d7 9 columns</p>\n",
        "</div>"
       ],
       "metadata": {},
       "output_type": "pyout",
       "prompt_number": 220,
       "text": [
        "                 Station Name    ID    Lat.     Lon.  GLOSS ID\u00a0\u00a0 Country\u00a0\u00a0  \\\n",
        "0                    HELIGMAN   231  60.200   19.300         NaN       ALA   \n",
        "1                KOBBAKLINTAR    63  60.033   19.883         NaN       ALA   \n",
        "2                    LEMSTROM    84  60.100   20.017         NaN       ALA   \n",
        "3             FOGLO / DEGERBY   249  60.032   20.385         NaN       ALA   \n",
        "4                   PAGO PAGO   539 -14.280 -170.690         144       ASM   \n",
        "5             BAHIA ESPERANZA   988 -63.300  -56.917         185       ATA   \n",
        "6           ARGENTINE ISLANDS   913 -65.246  -64.257         188       ATA   \n",
        "7            PUERTO SOBERANIA  1603 -62.483  -59.633         189       ATA   \n",
        "...                       ...   ...     ...      ...         ...       ...   \n",
        "1412                   DANANG  1475  16.100  108.217         NaN       VNM   \n",
        "1413                   HONNGU  1003  18.800  105.767         NaN       VNM   \n",
        "1414                   HONDAU   841  20.667  106.800         NaN       VNM   \n",
        "1415         CHARLOTTE AMALIE  1393  18.335  -64.920         NaN       VIR   \n",
        "1416  LIME TREE BAY, ST CROIX  1447  17.693  -64.753         NaN       VIR   \n",
        "1417    CHRISTIANSTED HARBOUR  2118  17.750  -64.705         NaN       VIR   \n",
        "1418             LAMESHUR BAY  2119  18.317  -64.723         NaN       VIR   \n",
        "1419                     ADEN    44  12.788   44.974           3       YEM   \n",
        "\n",
        "            Date  Coastline\u00a0\u00a0  Station\u00a0\u00a0  \n",
        "0     01/01/1980           60        251  \n",
        "1     01/01/1980           60        261  \n",
        "2     01/01/1980           60        271  \n",
        "3     26/11/2014           60        281  \n",
        "4     28/04/2015          745          1  \n",
        "5     11/05/1999          999          1  \n",
        "6     21/05/2015          999          3  \n",
        "7     30/09/2004          999          5  \n",
        "...          ...          ...        ...  \n",
        "1412  28/10/2002          605         51  \n",
        "1413  28/10/2002          605         61  \n",
        "1414  19/11/2002          605         81  \n",
        "1415  29/04/2015          939          1  \n",
        "1416  29/04/2015          939         11  \n",
        "1417  29/04/2015          939         15  \n",
        "1418  29/04/2015          939         21  \n",
        "1419  01/07/2014          485          1  \n",
        "\n",
        "[1420 rows x 9 columns]"
       ]
      }
     ],
     "prompt_number": 220
    },
    {
     "cell_type": "markdown",
     "metadata": {},
     "source": [
      "That table can be used to search for a station in a region of the world we choose, extract an ID for it and download the corresponding time series with the URL http://www.psmsl.org/data/obtaining/met.monthly.data/< ID >.metdata"
     ]
    },
    {
     "cell_type": "heading",
     "level": 2,
     "metadata": {},
     "source": [
      "2. Pandas DataStructures"
     ]
    },
    {
     "cell_type": "markdown",
     "metadata": {},
     "source": [
      "For more details, see http://pandas.pydata.org/pandas-docs/stable/dsintro.html"
     ]
    },
    {
     "cell_type": "markdown",
     "metadata": {},
     "source": [
      "Now that we have used `read_**` functions to load datasets, we need to understand better what kind of objects we got from them to learn to work with them."
     ]
    },
    {
     "cell_type": "heading",
     "level": 3,
     "metadata": {},
     "source": [
      "DataFrame, the pandas 2D structure"
     ]
    },
    {
     "cell_type": "code",
     "collapsed": false,
     "input": [
      "# Type of the object?\n",
      "type(giss_temp)"
     ],
     "language": "python",
     "metadata": {},
     "outputs": [
      {
       "metadata": {},
       "output_type": "pyout",
       "prompt_number": 221,
       "text": [
        "pandas.core.frame.DataFrame"
       ]
      }
     ],
     "prompt_number": 221
    },
    {
     "cell_type": "code",
     "collapsed": false,
     "input": [
      "# Internal nature of the object\n",
      "print(giss_temp.shape)\n",
      "print(giss_temp.dtypes)"
     ],
     "language": "python",
     "metadata": {},
     "outputs": [
      {
       "output_type": "stream",
       "stream": "stdout",
       "text": [
        "(143, 20)\n",
        "Year      object\n",
        "Jan       object\n",
        "Feb       object\n",
        "Mar       object\n",
        "Apr       object\n",
        "May       object\n",
        "Jun       object\n",
        "Jul       object\n",
        "           ...  \n",
        "Dec       object\n",
        "J-D       object\n",
        "D-N       object\n",
        "DJF       object\n",
        "MAM       object\n",
        "JJA       object\n",
        "SON       object\n",
        "Year.1    object\n",
        "dtype: object\n"
       ]
      }
     ],
     "prompt_number": 222
    },
    {
     "cell_type": "markdown",
     "metadata": {},
     "source": [
      "Descriptors for the vertical axis (axis=0)"
     ]
    },
    {
     "cell_type": "code",
     "collapsed": false,
     "input": [
      "giss_temp.index"
     ],
     "language": "python",
     "metadata": {},
     "outputs": [
      {
       "metadata": {},
       "output_type": "pyout",
       "prompt_number": 223,
       "text": [
        "Int64Index([  0,   1,   2,   3,   4,   5,   6,   7,   8,   9, \n",
        "            ...\n",
        "            133, 134, 135, 136, 137, 138, 139, 140, 141, 142],\n",
        "           dtype='int64', length=143)"
       ]
      }
     ],
     "prompt_number": 223
    },
    {
     "cell_type": "markdown",
     "metadata": {},
     "source": [
      "Descriptors for the horizontal axis (axis=1)"
     ]
    },
    {
     "cell_type": "code",
     "collapsed": false,
     "input": [
      "giss_temp.columns"
     ],
     "language": "python",
     "metadata": {},
     "outputs": [
      {
       "metadata": {},
       "output_type": "pyout",
       "prompt_number": 224,
       "text": [
        "Index([u'Year', u'Jan', u'Feb', u'Mar', u'Apr', u'May', u'Jun', u'Jul', u'Aug',\n",
        "       u'Sep', u'Oct', u'Nov', u'Dec', u'J-D', u'D-N', u'DJF', u'MAM', u'JJA',\n",
        "       u'SON', u'Year.1'],\n",
        "      dtype='object')"
       ]
      }
     ],
     "prompt_number": 224
    },
    {
     "cell_type": "markdown",
     "metadata": {},
     "source": [
      "A lot of information at once including memory usage:"
     ]
    },
    {
     "cell_type": "code",
     "collapsed": false,
     "input": [
      "giss_temp.info()"
     ],
     "language": "python",
     "metadata": {},
     "outputs": [
      {
       "output_type": "stream",
       "stream": "stdout",
       "text": [
        "<class 'pandas.core.frame.DataFrame'>\n",
        "Int64Index: 143 entries, 0 to 142\n",
        "Data columns (total 20 columns):\n",
        "Year      143 non-null object\n",
        "Jan       143 non-null object\n",
        "Feb       143 non-null object\n",
        "Mar       143 non-null object\n",
        "Apr       143 non-null object\n",
        "May       143 non-null object\n",
        "Jun       143 non-null object\n",
        "Jul       143 non-null object\n",
        "Aug       143 non-null object\n",
        "Sep       143 non-null object\n",
        "Oct       143 non-null object\n",
        "Nov       143 non-null object\n",
        "Dec       143 non-null object\n",
        "J-D       143 non-null object\n",
        "D-N       143 non-null object\n",
        "DJF       143 non-null object\n",
        "MAM       143 non-null object\n",
        "JJA       143 non-null object\n",
        "SON       143 non-null object\n",
        "Year.1    143 non-null object\n",
        "dtypes: object(20)\n",
        "memory usage: 23.5+ KB\n"
       ]
      }
     ],
     "prompt_number": 225
    },
    {
     "cell_type": "heading",
     "level": 3,
     "metadata": {},
     "source": [
      "Series, the pandas 1D structure"
     ]
    },
    {
     "cell_type": "markdown",
     "metadata": {},
     "source": [
      "A series can be constructed with the `pd.Series` constructor (passing a list or array of values) or from a `DataFrame`, by extracting one of its columns."
     ]
    },
    {
     "cell_type": "code",
     "collapsed": false,
     "input": [
      "# Do we already have a series for the full_globe_temp?\n",
      "type(full_globe_temp)"
     ],
     "language": "python",
     "metadata": {},
     "outputs": [
      {
       "metadata": {},
       "output_type": "pyout",
       "prompt_number": 226,
       "text": [
        "pandas.core.frame.DataFrame"
       ]
      }
     ],
     "prompt_number": 226
    },
    {
     "cell_type": "code",
     "collapsed": false,
     "input": [
      "# Since there is only one column of values, we can make this a Series without \n",
      "# loosing information:\n",
      "full_globe_temp = full_globe_temp[\"mean temp\"]"
     ],
     "language": "python",
     "metadata": {},
     "outputs": [],
     "prompt_number": 227
    },
    {
     "cell_type": "markdown",
     "metadata": {},
     "source": [
      "Core attributes/information:"
     ]
    },
    {
     "cell_type": "code",
     "collapsed": false,
     "input": [
      "print(type(full_globe_temp))\n",
      "print(full_globe_temp.dtype)\n",
      "print(full_globe_temp.shape)\n",
      "print(full_globe_temp.nbytes)"
     ],
     "language": "python",
     "metadata": {},
     "outputs": [
      {
       "output_type": "stream",
       "stream": "stdout",
       "text": [
        "<class 'pandas.core.series.Series'>\n",
        "float64\n",
        "(131,)\n",
        "1048\n"
       ]
      }
     ],
     "prompt_number": 228
    },
    {
     "cell_type": "markdown",
     "metadata": {},
     "source": [
      "Probably the most important attribute of a `Series` or `DataFrame` is its `index` since we will use that to, well, index into the structures to access te information:"
     ]
    },
    {
     "cell_type": "code",
     "collapsed": false,
     "input": [
      "full_globe_temp.index"
     ],
     "language": "python",
     "metadata": {},
     "outputs": [
      {
       "metadata": {},
       "output_type": "pyout",
       "prompt_number": 229,
       "text": [
        "DatetimeIndex(['1880-01-01', '1881-01-01', '1882-01-01', '1883-01-01',\n",
        "               '1884-01-01', '1885-01-01', '1886-01-01', '1887-01-01',\n",
        "               '1888-01-01', '1889-01-01', \n",
        "               ...\n",
        "               '2001-01-01', '2002-01-01', '2003-01-01', '2004-01-01',\n",
        "               '2005-01-01', '2006-01-01', '2007-01-01', '2008-01-01',\n",
        "               '2009-01-01', '2010-01-01'],\n",
        "              dtype='datetime64[ns]', name=u'year', length=131, freq=None, tz=None)"
       ]
      }
     ],
     "prompt_number": 229
    },
    {
     "cell_type": "heading",
     "level": 3,
     "metadata": {},
     "source": [
      "NumPy arrays as backend of Pandas"
     ]
    },
    {
     "cell_type": "markdown",
     "metadata": {},
     "source": [
      "It is always possible to fall back to a good old NumPy array to pass on to scientific libraries that need them: SciPy, scikit-learn, ..."
     ]
    },
    {
     "cell_type": "code",
     "collapsed": false,
     "input": [
      "full_globe_temp.values"
     ],
     "language": "python",
     "metadata": {},
     "outputs": [
      {
       "metadata": {},
       "output_type": "pyout",
       "prompt_number": 230,
       "text": [
        "array([ -1.59100000e-01,  -7.89000000e-02,  -1.31300000e-01,\n",
        "        -1.67500000e-01,  -2.48500000e-01,  -2.04200000e-01,\n",
        "        -1.69500000e-01,  -2.50500000e-01,  -1.60500000e-01,\n",
        "        -1.10300000e-01,  -3.01400000e-01,  -2.52700000e-01,\n",
        "        -2.92600000e-01,  -3.27400000e-01,  -2.88000000e-01,\n",
        "        -2.14600000e-01,  -1.00900000e-01,  -1.29400000e-01,\n",
        "        -2.51700000e-01,  -1.35600000e-01,  -1.12500000e-01,\n",
        "        -1.69300000e-01,  -2.25500000e-01,  -3.44200000e-01,\n",
        "        -3.79900000e-01,  -2.58300000e-01,  -2.06000000e-01,\n",
        "        -3.72600000e-01,  -3.92200000e-01,  -4.04100000e-01,\n",
        "        -3.86000000e-01,  -4.14400000e-01,  -3.42200000e-01,\n",
        "        -3.19600000e-01,  -1.59900000e-01,  -8.10000000e-02,\n",
        "        -2.80300000e-01,  -3.22700000e-01,  -2.10600000e-01,\n",
        "        -2.18600000e-01,  -2.02500000e-01,  -1.39000000e-01,\n",
        "        -2.22200000e-01,  -2.06300000e-01,  -1.84300000e-01,\n",
        "        -1.26000000e-01,  -1.92000000e-02,  -1.00700000e-01,\n",
        "        -9.35000000e-02,  -2.20100000e-01,  -2.82000000e-02,\n",
        "         4.10000000e-03,  -2.85000000e-02,  -1.61600000e-01,\n",
        "        -2.85000000e-02,  -5.65000000e-02,  -3.18000000e-02,\n",
        "         7.27000000e-02,   9.55000000e-02,   8.98000000e-02,\n",
        "         1.23400000e-01,   1.83700000e-01,   1.37700000e-01,\n",
        "         1.29900000e-01,   2.36200000e-01,   1.16200000e-01,\n",
        "        -2.02000000e-02,  -4.06000000e-02,  -4.94000000e-02,\n",
        "        -7.52000000e-02,  -1.63500000e-01,  -2.90000000e-03,\n",
        "         3.53000000e-02,   1.19000000e-01,  -1.02800000e-01,\n",
        "        -1.22000000e-01,  -1.83600000e-01,   5.70000000e-02,\n",
        "         1.05400000e-01,   6.34000000e-02,   1.14000000e-02,\n",
        "         8.94000000e-02,   1.13600000e-01,   1.33300000e-01,\n",
        "        -1.26800000e-01,  -6.95000000e-02,  -1.17000000e-02,\n",
        "         2.20000000e-03,  -1.21000000e-02,   9.11000000e-02,\n",
        "         4.71000000e-02,  -5.50000000e-02,   3.48000000e-02,\n",
        "         1.61700000e-01,  -8.62000000e-02,  -1.77000000e-02,\n",
        "        -1.06200000e-01,   1.42500000e-01,   6.15000000e-02,\n",
        "         1.53300000e-01,   1.93000000e-01,   2.28400000e-01,\n",
        "         1.17100000e-01,   2.81700000e-01,   8.75000000e-02,\n",
        "         6.81000000e-02,   1.60500000e-01,   2.96800000e-01,\n",
        "         3.00600000e-01,   2.22300000e-01,   3.86100000e-01,\n",
        "         3.36000000e-01,   2.02300000e-01,   2.30700000e-01,\n",
        "         2.93400000e-01,   4.07300000e-01,   2.75300000e-01,\n",
        "         4.78200000e-01,   5.97100000e-01,   4.19900000e-01,\n",
        "         3.88600000e-01,   5.17300000e-01,   5.74500000e-01,\n",
        "         5.81800000e-01,   5.41600000e-01,   6.15400000e-01,\n",
        "         5.60100000e-01,   5.47200000e-01,   4.80400000e-01,\n",
        "         5.55100000e-01,  -9.99000000e+02])"
       ]
      }
     ],
     "prompt_number": 230
    },
    {
     "cell_type": "code",
     "collapsed": false,
     "input": [
      "type(full_globe_temp.values)"
     ],
     "language": "python",
     "metadata": {},
     "outputs": [
      {
       "metadata": {},
       "output_type": "pyout",
       "prompt_number": 231,
       "text": [
        "numpy.ndarray"
       ]
      }
     ],
     "prompt_number": 231
    },
    {
     "cell_type": "heading",
     "level": 3,
     "metadata": {},
     "source": [
      "Creating new DataFrames manually"
     ]
    },
    {
     "cell_type": "markdown",
     "metadata": {},
     "source": [
      "`DataFrame`s can also be created manually, by grouping several Series together. Let's make a new frame from the 3 sea level datasets we downloaded above. They will be displayed along the same index. Wait, does that makes sense to do that?"
     ]
    },
    {
     "cell_type": "code",
     "collapsed": false,
     "input": [
      "# Are they aligned?\n",
      "southern_sea_level.year == northern_sea_level.year"
     ],
     "language": "python",
     "metadata": {},
     "outputs": [
      {
       "metadata": {},
       "output_type": "pyout",
       "prompt_number": 232,
       "text": [
        "0      True\n",
        "1      True\n",
        "2      True\n",
        "3      True\n",
        "4      True\n",
        "5      True\n",
        "6      True\n",
        "7      True\n",
        "       ... \n",
        "809    True\n",
        "810    True\n",
        "811    True\n",
        "812    True\n",
        "813    True\n",
        "814    True\n",
        "815    True\n",
        "816    True\n",
        "Name: year, dtype: bool"
       ]
      }
     ],
     "prompt_number": 232
    },
    {
     "cell_type": "code",
     "collapsed": false,
     "input": [
      "# So, are they aligned?\n",
      "np.all(southern_sea_level.year == northern_sea_level.year)"
     ],
     "language": "python",
     "metadata": {},
     "outputs": [
      {
       "metadata": {},
       "output_type": "pyout",
       "prompt_number": 233,
       "text": [
        "True"
       ]
      }
     ],
     "prompt_number": 233
    },
    {
     "cell_type": "markdown",
     "metadata": {},
     "source": [
      "So the northern hemisphere and southern hemisphere datasets are aligned. What about the global one?"
     ]
    },
    {
     "cell_type": "code",
     "collapsed": false,
     "input": [
      "len(global_sea_level.year) == len(northern_sea_level.year)"
     ],
     "language": "python",
     "metadata": {},
     "outputs": [
      {
       "metadata": {},
       "output_type": "pyout",
       "prompt_number": 234,
       "text": [
        "False"
       ]
      }
     ],
     "prompt_number": 234
    },
    {
     "cell_type": "markdown",
     "metadata": {},
     "source": [
      "For now, let's just build a DataFrame with the 2 hemisphere datasets then. We will come back to add the global one later..."
     ]
    },
    {
     "cell_type": "code",
     "collapsed": false,
     "input": [
      "mean_sea_level = pd.DataFrame({\"northern_hem\": northern_sea_level[\"msl_ib(mm)\"], \n",
      "                               \"southern_hem\": southern_sea_level[\"msl_ib(mm)\"], \n",
      "                               \"date\": northern_sea_level.year})\n",
      "mean_sea_level"
     ],
     "language": "python",
     "metadata": {},
     "outputs": [
      {
       "html": [
        "<div style=\"max-width:1500px;overflow:auto;\">\n",
        "<table border=\"1\" class=\"dataframe\">\n",
        "  <thead>\n",
        "    <tr style=\"text-align: right;\">\n",
        "      <th></th>\n",
        "      <th>date</th>\n",
        "      <th>northern_hem</th>\n",
        "      <th>southern_hem</th>\n",
        "    </tr>\n",
        "  </thead>\n",
        "  <tbody>\n",
        "    <tr>\n",
        "      <th>0</th>\n",
        "      <td>1992.9323</td>\n",
        "      <td>13.717</td>\n",
        "      <td>2.517</td>\n",
        "    </tr>\n",
        "    <tr>\n",
        "      <th>1</th>\n",
        "      <td>1992.9595</td>\n",
        "      <td>1.328</td>\n",
        "      <td>-7.645</td>\n",
        "    </tr>\n",
        "    <tr>\n",
        "      <th>2</th>\n",
        "      <td>1992.9866</td>\n",
        "      <td>-13.375</td>\n",
        "      <td>-2.267</td>\n",
        "    </tr>\n",
        "    <tr>\n",
        "      <th>3</th>\n",
        "      <td>1993.0138</td>\n",
        "      <td>-24.723</td>\n",
        "      <td>0.855</td>\n",
        "    </tr>\n",
        "    <tr>\n",
        "      <th>4</th>\n",
        "      <td>1993.0409</td>\n",
        "      <td>-29.231</td>\n",
        "      <td>-2.020</td>\n",
        "    </tr>\n",
        "    <tr>\n",
        "      <th>5</th>\n",
        "      <td>1993.0681</td>\n",
        "      <td>-32.538</td>\n",
        "      <td>-0.398</td>\n",
        "    </tr>\n",
        "    <tr>\n",
        "      <th>6</th>\n",
        "      <td>1993.0952</td>\n",
        "      <td>-35.588</td>\n",
        "      <td>4.102</td>\n",
        "    </tr>\n",
        "    <tr>\n",
        "      <th>7</th>\n",
        "      <td>1993.1223</td>\n",
        "      <td>-26.579</td>\n",
        "      <td>6.787</td>\n",
        "    </tr>\n",
        "    <tr>\n",
        "      <th>...</th>\n",
        "      <td>...</td>\n",
        "      <td>...</td>\n",
        "      <td>...</td>\n",
        "    </tr>\n",
        "    <tr>\n",
        "      <th>809</th>\n",
        "      <td>2014.9494</td>\n",
        "      <td>63.004</td>\n",
        "      <td>68.561</td>\n",
        "    </tr>\n",
        "    <tr>\n",
        "      <th>810</th>\n",
        "      <td>2014.9766</td>\n",
        "      <td>56.990</td>\n",
        "      <td>70.551</td>\n",
        "    </tr>\n",
        "    <tr>\n",
        "      <th>811</th>\n",
        "      <td>2015.0037</td>\n",
        "      <td>49.183</td>\n",
        "      <td>67.742</td>\n",
        "    </tr>\n",
        "    <tr>\n",
        "      <th>812</th>\n",
        "      <td>2015.0309</td>\n",
        "      <td>39.398</td>\n",
        "      <td>69.746</td>\n",
        "    </tr>\n",
        "    <tr>\n",
        "      <th>813</th>\n",
        "      <td>2015.0580</td>\n",
        "      <td>31.524</td>\n",
        "      <td>69.317</td>\n",
        "    </tr>\n",
        "    <tr>\n",
        "      <th>814</th>\n",
        "      <td>2015.0852</td>\n",
        "      <td>33.878</td>\n",
        "      <td>77.533</td>\n",
        "    </tr>\n",
        "    <tr>\n",
        "      <th>815</th>\n",
        "      <td>2015.1123</td>\n",
        "      <td>29.822</td>\n",
        "      <td>81.370</td>\n",
        "    </tr>\n",
        "    <tr>\n",
        "      <th>816</th>\n",
        "      <td>2015.1395</td>\n",
        "      <td>33.825</td>\n",
        "      <td>86.893</td>\n",
        "    </tr>\n",
        "  </tbody>\n",
        "</table>\n",
        "<p>817 rows \u00d7 3 columns</p>\n",
        "</div>"
       ],
       "metadata": {},
       "output_type": "pyout",
       "prompt_number": 235,
       "text": [
        "          date  northern_hem  southern_hem\n",
        "0    1992.9323        13.717         2.517\n",
        "1    1992.9595         1.328        -7.645\n",
        "2    1992.9866       -13.375        -2.267\n",
        "3    1993.0138       -24.723         0.855\n",
        "4    1993.0409       -29.231        -2.020\n",
        "5    1993.0681       -32.538        -0.398\n",
        "6    1993.0952       -35.588         4.102\n",
        "7    1993.1223       -26.579         6.787\n",
        "..         ...           ...           ...\n",
        "809  2014.9494        63.004        68.561\n",
        "810  2014.9766        56.990        70.551\n",
        "811  2015.0037        49.183        67.742\n",
        "812  2015.0309        39.398        69.746\n",
        "813  2015.0580        31.524        69.317\n",
        "814  2015.0852        33.878        77.533\n",
        "815  2015.1123        29.822        81.370\n",
        "816  2015.1395        33.825        86.893\n",
        "\n",
        "[817 rows x 3 columns]"
       ]
      }
     ],
     "prompt_number": 235
    },
    {
     "cell_type": "markdown",
     "metadata": {},
     "source": [
      "Note: there are other ways to create DataFrames manually, for example from a 2D numpy array."
     ]
    },
    {
     "cell_type": "markdown",
     "metadata": {},
     "source": [
      "There is still the date in a regular column and a numerical index that is not that meaningful. We can specify the `index` of a `DataFrame` at creation. Let's try:"
     ]
    },
    {
     "cell_type": "code",
     "collapsed": false,
     "input": [
      "mean_sea_level = pd.DataFrame({\"northern_hem\": northern_sea_level[\"msl_ib(mm)\"], \n",
      "                               \"southern_hem\": southern_sea_level[\"msl_ib(mm)\"]},\n",
      "                               index = northern_sea_level.year)\n",
      "mean_sea_level"
     ],
     "language": "python",
     "metadata": {},
     "outputs": [
      {
       "html": [
        "<div style=\"max-width:1500px;overflow:auto;\">\n",
        "<table border=\"1\" class=\"dataframe\">\n",
        "  <thead>\n",
        "    <tr style=\"text-align: right;\">\n",
        "      <th></th>\n",
        "      <th>northern_hem</th>\n",
        "      <th>southern_hem</th>\n",
        "    </tr>\n",
        "    <tr>\n",
        "      <th>year</th>\n",
        "      <th></th>\n",
        "      <th></th>\n",
        "    </tr>\n",
        "  </thead>\n",
        "  <tbody>\n",
        "    <tr>\n",
        "      <th>1992.9323</th>\n",
        "      <td>NaN</td>\n",
        "      <td>NaN</td>\n",
        "    </tr>\n",
        "    <tr>\n",
        "      <th>1992.9595</th>\n",
        "      <td>NaN</td>\n",
        "      <td>NaN</td>\n",
        "    </tr>\n",
        "    <tr>\n",
        "      <th>1992.9866</th>\n",
        "      <td>NaN</td>\n",
        "      <td>NaN</td>\n",
        "    </tr>\n",
        "    <tr>\n",
        "      <th>1993.0138</th>\n",
        "      <td>NaN</td>\n",
        "      <td>NaN</td>\n",
        "    </tr>\n",
        "    <tr>\n",
        "      <th>1993.0409</th>\n",
        "      <td>NaN</td>\n",
        "      <td>NaN</td>\n",
        "    </tr>\n",
        "    <tr>\n",
        "      <th>1993.0681</th>\n",
        "      <td>NaN</td>\n",
        "      <td>NaN</td>\n",
        "    </tr>\n",
        "    <tr>\n",
        "      <th>1993.0952</th>\n",
        "      <td>NaN</td>\n",
        "      <td>NaN</td>\n",
        "    </tr>\n",
        "    <tr>\n",
        "      <th>1993.1223</th>\n",
        "      <td>NaN</td>\n",
        "      <td>NaN</td>\n",
        "    </tr>\n",
        "    <tr>\n",
        "      <th>...</th>\n",
        "      <td>...</td>\n",
        "      <td>...</td>\n",
        "    </tr>\n",
        "    <tr>\n",
        "      <th>2014.9494</th>\n",
        "      <td>NaN</td>\n",
        "      <td>NaN</td>\n",
        "    </tr>\n",
        "    <tr>\n",
        "      <th>2014.9766</th>\n",
        "      <td>NaN</td>\n",
        "      <td>NaN</td>\n",
        "    </tr>\n",
        "    <tr>\n",
        "      <th>2015.0037</th>\n",
        "      <td>NaN</td>\n",
        "      <td>NaN</td>\n",
        "    </tr>\n",
        "    <tr>\n",
        "      <th>2015.0309</th>\n",
        "      <td>NaN</td>\n",
        "      <td>NaN</td>\n",
        "    </tr>\n",
        "    <tr>\n",
        "      <th>2015.0580</th>\n",
        "      <td>NaN</td>\n",
        "      <td>NaN</td>\n",
        "    </tr>\n",
        "    <tr>\n",
        "      <th>2015.0852</th>\n",
        "      <td>NaN</td>\n",
        "      <td>NaN</td>\n",
        "    </tr>\n",
        "    <tr>\n",
        "      <th>2015.1123</th>\n",
        "      <td>NaN</td>\n",
        "      <td>NaN</td>\n",
        "    </tr>\n",
        "    <tr>\n",
        "      <th>2015.1395</th>\n",
        "      <td>NaN</td>\n",
        "      <td>NaN</td>\n",
        "    </tr>\n",
        "  </tbody>\n",
        "</table>\n",
        "<p>817 rows \u00d7 2 columns</p>\n",
        "</div>"
       ],
       "metadata": {},
       "output_type": "pyout",
       "prompt_number": 236,
       "text": [
        "           northern_hem  southern_hem\n",
        "year                                 \n",
        "1992.9323           NaN           NaN\n",
        "1992.9595           NaN           NaN\n",
        "1992.9866           NaN           NaN\n",
        "1993.0138           NaN           NaN\n",
        "1993.0409           NaN           NaN\n",
        "1993.0681           NaN           NaN\n",
        "1993.0952           NaN           NaN\n",
        "1993.1223           NaN           NaN\n",
        "...                 ...           ...\n",
        "2014.9494           NaN           NaN\n",
        "2014.9766           NaN           NaN\n",
        "2015.0037           NaN           NaN\n",
        "2015.0309           NaN           NaN\n",
        "2015.0580           NaN           NaN\n",
        "2015.0852           NaN           NaN\n",
        "2015.1123           NaN           NaN\n",
        "2015.1395           NaN           NaN\n",
        "\n",
        "[817 rows x 2 columns]"
       ]
      }
     ],
     "prompt_number": 236
    },
    {
     "cell_type": "markdown",
     "metadata": {},
     "source": [
      "Now the fact that it is failing show that Pandas does auto-alignment of values: for each value of the index, it searches for a value in each Series that maps the same value. Since these series have a dumb numerical index, no values are found. \n",
      "\n",
      "Since we know that the order of the values match the index we chose, we can replace the Series by their values only at creation of the DataFrame:"
     ]
    },
    {
     "cell_type": "code",
     "collapsed": false,
     "input": [
      "mean_sea_level = pd.DataFrame({\"northern_hem\": northern_sea_level[\"msl_ib(mm)\"].values, \n",
      "                               \"southern_hem\": southern_sea_level[\"msl_ib(mm)\"].values},\n",
      "                               index = northern_sea_level.year)\n",
      "mean_sea_level"
     ],
     "language": "python",
     "metadata": {},
     "outputs": [
      {
       "html": [
        "<div style=\"max-width:1500px;overflow:auto;\">\n",
        "<table border=\"1\" class=\"dataframe\">\n",
        "  <thead>\n",
        "    <tr style=\"text-align: right;\">\n",
        "      <th></th>\n",
        "      <th>northern_hem</th>\n",
        "      <th>southern_hem</th>\n",
        "    </tr>\n",
        "    <tr>\n",
        "      <th>year</th>\n",
        "      <th></th>\n",
        "      <th></th>\n",
        "    </tr>\n",
        "  </thead>\n",
        "  <tbody>\n",
        "    <tr>\n",
        "      <th>1992.9323</th>\n",
        "      <td>13.717</td>\n",
        "      <td>2.517</td>\n",
        "    </tr>\n",
        "    <tr>\n",
        "      <th>1992.9595</th>\n",
        "      <td>1.328</td>\n",
        "      <td>-7.645</td>\n",
        "    </tr>\n",
        "    <tr>\n",
        "      <th>1992.9866</th>\n",
        "      <td>-13.375</td>\n",
        "      <td>-2.267</td>\n",
        "    </tr>\n",
        "    <tr>\n",
        "      <th>1993.0138</th>\n",
        "      <td>-24.723</td>\n",
        "      <td>0.855</td>\n",
        "    </tr>\n",
        "    <tr>\n",
        "      <th>1993.0409</th>\n",
        "      <td>-29.231</td>\n",
        "      <td>-2.020</td>\n",
        "    </tr>\n",
        "    <tr>\n",
        "      <th>1993.0681</th>\n",
        "      <td>-32.538</td>\n",
        "      <td>-0.398</td>\n",
        "    </tr>\n",
        "    <tr>\n",
        "      <th>1993.0952</th>\n",
        "      <td>-35.588</td>\n",
        "      <td>4.102</td>\n",
        "    </tr>\n",
        "    <tr>\n",
        "      <th>1993.1223</th>\n",
        "      <td>-26.579</td>\n",
        "      <td>6.787</td>\n",
        "    </tr>\n",
        "    <tr>\n",
        "      <th>...</th>\n",
        "      <td>...</td>\n",
        "      <td>...</td>\n",
        "    </tr>\n",
        "    <tr>\n",
        "      <th>2014.9494</th>\n",
        "      <td>63.004</td>\n",
        "      <td>68.561</td>\n",
        "    </tr>\n",
        "    <tr>\n",
        "      <th>2014.9766</th>\n",
        "      <td>56.990</td>\n",
        "      <td>70.551</td>\n",
        "    </tr>\n",
        "    <tr>\n",
        "      <th>2015.0037</th>\n",
        "      <td>49.183</td>\n",
        "      <td>67.742</td>\n",
        "    </tr>\n",
        "    <tr>\n",
        "      <th>2015.0309</th>\n",
        "      <td>39.398</td>\n",
        "      <td>69.746</td>\n",
        "    </tr>\n",
        "    <tr>\n",
        "      <th>2015.0580</th>\n",
        "      <td>31.524</td>\n",
        "      <td>69.317</td>\n",
        "    </tr>\n",
        "    <tr>\n",
        "      <th>2015.0852</th>\n",
        "      <td>33.878</td>\n",
        "      <td>77.533</td>\n",
        "    </tr>\n",
        "    <tr>\n",
        "      <th>2015.1123</th>\n",
        "      <td>29.822</td>\n",
        "      <td>81.370</td>\n",
        "    </tr>\n",
        "    <tr>\n",
        "      <th>2015.1395</th>\n",
        "      <td>33.825</td>\n",
        "      <td>86.893</td>\n",
        "    </tr>\n",
        "  </tbody>\n",
        "</table>\n",
        "<p>817 rows \u00d7 2 columns</p>\n",
        "</div>"
       ],
       "metadata": {},
       "output_type": "pyout",
       "prompt_number": 237,
       "text": [
        "           northern_hem  southern_hem\n",
        "year                                 \n",
        "1992.9323        13.717         2.517\n",
        "1992.9595         1.328        -7.645\n",
        "1992.9866       -13.375        -2.267\n",
        "1993.0138       -24.723         0.855\n",
        "1993.0409       -29.231        -2.020\n",
        "1993.0681       -32.538        -0.398\n",
        "1993.0952       -35.588         4.102\n",
        "1993.1223       -26.579         6.787\n",
        "...                 ...           ...\n",
        "2014.9494        63.004        68.561\n",
        "2014.9766        56.990        70.551\n",
        "2015.0037        49.183        67.742\n",
        "2015.0309        39.398        69.746\n",
        "2015.0580        31.524        69.317\n",
        "2015.0852        33.878        77.533\n",
        "2015.1123        29.822        81.370\n",
        "2015.1395        33.825        86.893\n",
        "\n",
        "[817 rows x 2 columns]"
       ]
      }
     ],
     "prompt_number": 237
    },
    {
     "cell_type": "heading",
     "level": 2,
     "metadata": {},
     "source": [
      "3. Cleaning and formatting data"
     ]
    },
    {
     "cell_type": "markdown",
     "metadata": {},
     "source": [
      "The datasets that we obtain straight from the reading functions are pretty raw. A lot of pre-processing can be done during data read but we haven't used all the power of the reading functions. Let's learn to do a lot of cleaning and formatting of the data.\n",
      "\n",
      "The GISS temperature dataset has a lot of issues too: useless numerical index, redundant columns, useless rows, placeholder (`****`) for missing values, and wrong type for the columns. Let's fix all this:"
     ]
    },
    {
     "cell_type": "heading",
     "level": 3,
     "metadata": {},
     "source": [
      "Renaming columns"
     ]
    },
    {
     "cell_type": "code",
     "collapsed": false,
     "input": [
      "# The columns of the local_sea_level_stations aren't clean: they contain spaces and dots.\n",
      "local_sea_level_stations.columns"
     ],
     "language": "python",
     "metadata": {},
     "outputs": [
      {
       "metadata": {},
       "output_type": "pyout",
       "prompt_number": 238,
       "text": [
        "Index([u'Station Name',           u'ID',         u'Lat.',         u'Lon.',\n",
        "         u'GLOSS ID\u00a0\u00a0',    u'Country\u00a0\u00a0',         u'Date',  u'Coastline\u00a0\u00a0',\n",
        "          u'Station\u00a0\u00a0'],\n",
        "      dtype='object')"
       ]
      }
     ],
     "prompt_number": 238
    },
    {
     "cell_type": "code",
     "collapsed": false,
     "input": [
      "# Let's clean them up a bit:\n",
      "local_sea_level_stations.columns = [name.strip().replace(\".\", \"\") \n",
      "                                    for name in local_sea_level_stations.columns]\n",
      "local_sea_level_stations.columns"
     ],
     "language": "python",
     "metadata": {},
     "outputs": [
      {
       "metadata": {},
       "output_type": "pyout",
       "prompt_number": 239,
       "text": [
        "Index([u'Station Name',           u'ID',          u'Lat',          u'Lon',\n",
        "           u'GLOSS ID',      u'Country',         u'Date',    u'Coastline',\n",
        "            u'Station'],\n",
        "      dtype='object')"
       ]
      }
     ],
     "prompt_number": 239
    },
    {
     "cell_type": "markdown",
     "metadata": {},
     "source": [
      "We can also rename an index by setting its name. For example, the index of the `mean_sea_level` dataFrame could be called `date` since it contains more than just the year:"
     ]
    },
    {
     "cell_type": "code",
     "collapsed": false,
     "input": [
      "mean_sea_level.index.name = \"date\"\n",
      "mean_sea_level"
     ],
     "language": "python",
     "metadata": {},
     "outputs": [
      {
       "html": [
        "<div style=\"max-width:1500px;overflow:auto;\">\n",
        "<table border=\"1\" class=\"dataframe\">\n",
        "  <thead>\n",
        "    <tr style=\"text-align: right;\">\n",
        "      <th></th>\n",
        "      <th>northern_hem</th>\n",
        "      <th>southern_hem</th>\n",
        "    </tr>\n",
        "    <tr>\n",
        "      <th>date</th>\n",
        "      <th></th>\n",
        "      <th></th>\n",
        "    </tr>\n",
        "  </thead>\n",
        "  <tbody>\n",
        "    <tr>\n",
        "      <th>1992.9323</th>\n",
        "      <td>13.717</td>\n",
        "      <td>2.517</td>\n",
        "    </tr>\n",
        "    <tr>\n",
        "      <th>1992.9595</th>\n",
        "      <td>1.328</td>\n",
        "      <td>-7.645</td>\n",
        "    </tr>\n",
        "    <tr>\n",
        "      <th>1992.9866</th>\n",
        "      <td>-13.375</td>\n",
        "      <td>-2.267</td>\n",
        "    </tr>\n",
        "    <tr>\n",
        "      <th>1993.0138</th>\n",
        "      <td>-24.723</td>\n",
        "      <td>0.855</td>\n",
        "    </tr>\n",
        "    <tr>\n",
        "      <th>1993.0409</th>\n",
        "      <td>-29.231</td>\n",
        "      <td>-2.020</td>\n",
        "    </tr>\n",
        "    <tr>\n",
        "      <th>1993.0681</th>\n",
        "      <td>-32.538</td>\n",
        "      <td>-0.398</td>\n",
        "    </tr>\n",
        "    <tr>\n",
        "      <th>1993.0952</th>\n",
        "      <td>-35.588</td>\n",
        "      <td>4.102</td>\n",
        "    </tr>\n",
        "    <tr>\n",
        "      <th>1993.1223</th>\n",
        "      <td>-26.579</td>\n",
        "      <td>6.787</td>\n",
        "    </tr>\n",
        "    <tr>\n",
        "      <th>...</th>\n",
        "      <td>...</td>\n",
        "      <td>...</td>\n",
        "    </tr>\n",
        "    <tr>\n",
        "      <th>2014.9494</th>\n",
        "      <td>63.004</td>\n",
        "      <td>68.561</td>\n",
        "    </tr>\n",
        "    <tr>\n",
        "      <th>2014.9766</th>\n",
        "      <td>56.990</td>\n",
        "      <td>70.551</td>\n",
        "    </tr>\n",
        "    <tr>\n",
        "      <th>2015.0037</th>\n",
        "      <td>49.183</td>\n",
        "      <td>67.742</td>\n",
        "    </tr>\n",
        "    <tr>\n",
        "      <th>2015.0309</th>\n",
        "      <td>39.398</td>\n",
        "      <td>69.746</td>\n",
        "    </tr>\n",
        "    <tr>\n",
        "      <th>2015.0580</th>\n",
        "      <td>31.524</td>\n",
        "      <td>69.317</td>\n",
        "    </tr>\n",
        "    <tr>\n",
        "      <th>2015.0852</th>\n",
        "      <td>33.878</td>\n",
        "      <td>77.533</td>\n",
        "    </tr>\n",
        "    <tr>\n",
        "      <th>2015.1123</th>\n",
        "      <td>29.822</td>\n",
        "      <td>81.370</td>\n",
        "    </tr>\n",
        "    <tr>\n",
        "      <th>2015.1395</th>\n",
        "      <td>33.825</td>\n",
        "      <td>86.893</td>\n",
        "    </tr>\n",
        "  </tbody>\n",
        "</table>\n",
        "<p>817 rows \u00d7 2 columns</p>\n",
        "</div>"
       ],
       "metadata": {},
       "output_type": "pyout",
       "prompt_number": 240,
       "text": [
        "           northern_hem  southern_hem\n",
        "date                                 \n",
        "1992.9323        13.717         2.517\n",
        "1992.9595         1.328        -7.645\n",
        "1992.9866       -13.375        -2.267\n",
        "1993.0138       -24.723         0.855\n",
        "1993.0409       -29.231        -2.020\n",
        "1993.0681       -32.538        -0.398\n",
        "1993.0952       -35.588         4.102\n",
        "1993.1223       -26.579         6.787\n",
        "...                 ...           ...\n",
        "2014.9494        63.004        68.561\n",
        "2014.9766        56.990        70.551\n",
        "2015.0037        49.183        67.742\n",
        "2015.0309        39.398        69.746\n",
        "2015.0580        31.524        69.317\n",
        "2015.0852        33.878        77.533\n",
        "2015.1123        29.822        81.370\n",
        "2015.1395        33.825        86.893\n",
        "\n",
        "[817 rows x 2 columns]"
       ]
      }
     ],
     "prompt_number": 240
    },
    {
     "cell_type": "heading",
     "level": 3,
     "metadata": {},
     "source": [
      "Setting missing values"
     ]
    },
    {
     "cell_type": "markdown",
     "metadata": {},
     "source": [
      "In the full globe dataset, -999.00 was used to indicate that there was no value for that year. Let's search for all these values and replace them with the missing value that Pandas understand: `np.nan` "
     ]
    },
    {
     "cell_type": "code",
     "collapsed": false,
     "input": [
      "full_globe_temp == -999.000"
     ],
     "language": "python",
     "metadata": {},
     "outputs": [
      {
       "metadata": {},
       "output_type": "pyout",
       "prompt_number": 241,
       "text": [
        "year\n",
        "1880-01-01 00:00:00    False\n",
        "1881-01-01 00:00:00    False\n",
        "1882-01-01 00:00:00    False\n",
        "1883-01-01 00:00:00    False\n",
        "1884-01-01 00:00:00    False\n",
        "1885-01-01 00:00:00    False\n",
        "1886-01-01 00:00:00    False\n",
        "1887-01-01 00:00:00    False\n",
        "                       ...  \n",
        "2003-01-01             False\n",
        "2004-01-01             False\n",
        "2005-01-01             False\n",
        "2006-01-01             False\n",
        "2007-01-01             False\n",
        "2008-01-01             False\n",
        "2009-01-01             False\n",
        "2010-01-01              True\n",
        "Name: mean temp, dtype: bool"
       ]
      }
     ],
     "prompt_number": 241
    },
    {
     "cell_type": "code",
     "collapsed": false,
     "input": [
      "full_globe_temp[full_globe_temp == -999.000] = np.nan\n",
      "full_globe_temp.tail()"
     ],
     "language": "python",
     "metadata": {},
     "outputs": [
      {
       "metadata": {},
       "output_type": "pyout",
       "prompt_number": 242,
       "text": [
        "year\n",
        "2006-01-01    0.5601\n",
        "2007-01-01    0.5472\n",
        "2008-01-01    0.4804\n",
        "2009-01-01    0.5551\n",
        "2010-01-01       NaN\n",
        "Name: mean temp, dtype: float64"
       ]
      }
     ],
     "prompt_number": 242
    },
    {
     "cell_type": "heading",
     "level": 3,
     "metadata": {},
     "source": [
      "Choosing what is the index"
     ]
    },
    {
     "cell_type": "code",
     "collapsed": false,
     "input": [
      "# We didn't set a column number of the index of giss_temp, we can do that afterwards:\n",
      "giss_temp = giss_temp.set_index(\"Year\")\n",
      "giss_temp.head()"
     ],
     "language": "python",
     "metadata": {},
     "outputs": [
      {
       "html": [
        "<div style=\"max-width:1500px;overflow:auto;\">\n",
        "<table border=\"1\" class=\"dataframe\">\n",
        "  <thead>\n",
        "    <tr style=\"text-align: right;\">\n",
        "      <th></th>\n",
        "      <th>Jan</th>\n",
        "      <th>Feb</th>\n",
        "      <th>Mar</th>\n",
        "      <th>Apr</th>\n",
        "      <th>May</th>\n",
        "      <th>Jun</th>\n",
        "      <th>Jul</th>\n",
        "      <th>Aug</th>\n",
        "      <th>Sep</th>\n",
        "      <th>Oct</th>\n",
        "      <th>Nov</th>\n",
        "      <th>Dec</th>\n",
        "      <th>J-D</th>\n",
        "      <th>D-N</th>\n",
        "      <th>DJF</th>\n",
        "      <th>MAM</th>\n",
        "      <th>JJA</th>\n",
        "      <th>SON</th>\n",
        "      <th>Year.1</th>\n",
        "    </tr>\n",
        "    <tr>\n",
        "      <th>Year</th>\n",
        "      <th></th>\n",
        "      <th></th>\n",
        "      <th></th>\n",
        "      <th></th>\n",
        "      <th></th>\n",
        "      <th></th>\n",
        "      <th></th>\n",
        "      <th></th>\n",
        "      <th></th>\n",
        "      <th></th>\n",
        "      <th></th>\n",
        "      <th></th>\n",
        "      <th></th>\n",
        "      <th></th>\n",
        "      <th></th>\n",
        "      <th></th>\n",
        "      <th></th>\n",
        "      <th></th>\n",
        "      <th></th>\n",
        "    </tr>\n",
        "  </thead>\n",
        "  <tbody>\n",
        "    <tr>\n",
        "      <th>1880</th>\n",
        "      <td>-34</td>\n",
        "      <td>-27</td>\n",
        "      <td>-22</td>\n",
        "      <td>-30</td>\n",
        "      <td>-16</td>\n",
        "      <td>-24</td>\n",
        "      <td>-19</td>\n",
        "      <td>-12</td>\n",
        "      <td>-20</td>\n",
        "      <td>-19</td>\n",
        "      <td>-16</td>\n",
        "      <td>-21</td>\n",
        "      <td>-22</td>\n",
        "      <td>***</td>\n",
        "      <td>****</td>\n",
        "      <td>-23</td>\n",
        "      <td>-18</td>\n",
        "      <td>-18</td>\n",
        "      <td>1880</td>\n",
        "    </tr>\n",
        "    <tr>\n",
        "      <th>1881</th>\n",
        "      <td>-13</td>\n",
        "      <td>-16</td>\n",
        "      <td>-2</td>\n",
        "      <td>-3</td>\n",
        "      <td>-3</td>\n",
        "      <td>-27</td>\n",
        "      <td>-12</td>\n",
        "      <td>-8</td>\n",
        "      <td>-18</td>\n",
        "      <td>-23</td>\n",
        "      <td>-28</td>\n",
        "      <td>-18</td>\n",
        "      <td>-14</td>\n",
        "      <td>-14</td>\n",
        "      <td>-17</td>\n",
        "      <td>-3</td>\n",
        "      <td>-15</td>\n",
        "      <td>-23</td>\n",
        "      <td>1881</td>\n",
        "    </tr>\n",
        "    <tr>\n",
        "      <th>1882</th>\n",
        "      <td>3</td>\n",
        "      <td>4</td>\n",
        "      <td>-2</td>\n",
        "      <td>-24</td>\n",
        "      <td>-20</td>\n",
        "      <td>-32</td>\n",
        "      <td>-27</td>\n",
        "      <td>-11</td>\n",
        "      <td>-11</td>\n",
        "      <td>-25</td>\n",
        "      <td>-25</td>\n",
        "      <td>-37</td>\n",
        "      <td>-17</td>\n",
        "      <td>-16</td>\n",
        "      <td>-4</td>\n",
        "      <td>-15</td>\n",
        "      <td>-23</td>\n",
        "      <td>-20</td>\n",
        "      <td>1882</td>\n",
        "    </tr>\n",
        "    <tr>\n",
        "      <th>1883</th>\n",
        "      <td>-38</td>\n",
        "      <td>-38</td>\n",
        "      <td>-12</td>\n",
        "      <td>-20</td>\n",
        "      <td>-20</td>\n",
        "      <td>-8</td>\n",
        "      <td>-3</td>\n",
        "      <td>-13</td>\n",
        "      <td>-19</td>\n",
        "      <td>-19</td>\n",
        "      <td>-28</td>\n",
        "      <td>-21</td>\n",
        "      <td>-20</td>\n",
        "      <td>-21</td>\n",
        "      <td>-38</td>\n",
        "      <td>-18</td>\n",
        "      <td>-8</td>\n",
        "      <td>-22</td>\n",
        "      <td>1883</td>\n",
        "    </tr>\n",
        "    <tr>\n",
        "      <th>1884</th>\n",
        "      <td>-20</td>\n",
        "      <td>-14</td>\n",
        "      <td>-31</td>\n",
        "      <td>-36</td>\n",
        "      <td>-33</td>\n",
        "      <td>-36</td>\n",
        "      <td>-31</td>\n",
        "      <td>-24</td>\n",
        "      <td>-29</td>\n",
        "      <td>-25</td>\n",
        "      <td>-29</td>\n",
        "      <td>-25</td>\n",
        "      <td>-28</td>\n",
        "      <td>-28</td>\n",
        "      <td>-18</td>\n",
        "      <td>-33</td>\n",
        "      <td>-31</td>\n",
        "      <td>-28</td>\n",
        "      <td>1884</td>\n",
        "    </tr>\n",
        "  </tbody>\n",
        "</table>\n",
        "</div>"
       ],
       "metadata": {},
       "output_type": "pyout",
       "prompt_number": 243,
       "text": [
        "      Jan  Feb  Mar  Apr  May  Jun  Jul  Aug  Sep  Oct  Nov  Dec  J-D  D-N  \\\n",
        "Year                                                                         \n",
        "1880  -34  -27  -22  -30  -16  -24  -19  -12  -20  -19  -16  -21  -22  ***   \n",
        "1881  -13  -16   -2   -3   -3  -27  -12   -8  -18  -23  -28  -18  -14  -14   \n",
        "1882    3    4   -2  -24  -20  -32  -27  -11  -11  -25  -25  -37  -17  -16   \n",
        "1883  -38  -38  -12  -20  -20   -8   -3  -13  -19  -19  -28  -21  -20  -21   \n",
        "1884  -20  -14  -31  -36  -33  -36  -31  -24  -29  -25  -29  -25  -28  -28   \n",
        "\n",
        "       DJF  MAM  JJA  SON Year.1  \n",
        "Year                              \n",
        "1880  ****  -23  -18  -18   1880  \n",
        "1881   -17   -3  -15  -23   1881  \n",
        "1882    -4  -15  -23  -20   1882  \n",
        "1883   -38  -18   -8  -22   1883  \n",
        "1884   -18  -33  -31  -28   1884  "
       ]
      }
     ],
     "prompt_number": 243
    },
    {
     "cell_type": "heading",
     "level": 3,
     "metadata": {},
     "source": [
      "Dropping rows and columns"
     ]
    },
    {
     "cell_type": "code",
     "collapsed": false,
     "input": [
      "# 1 column is redundant with the index: \n",
      "giss_temp.columns"
     ],
     "language": "python",
     "metadata": {},
     "outputs": [
      {
       "metadata": {},
       "output_type": "pyout",
       "prompt_number": 244,
       "text": [
        "Index([u'Jan', u'Feb', u'Mar', u'Apr', u'May', u'Jun', u'Jul', u'Aug', u'Sep',\n",
        "       u'Oct', u'Nov', u'Dec', u'J-D', u'D-N', u'DJF', u'MAM', u'JJA', u'SON',\n",
        "       u'Year.1'],\n",
        "      dtype='object')"
       ]
      }
     ],
     "prompt_number": 244
    },
    {
     "cell_type": "code",
     "collapsed": false,
     "input": [
      "# Let's drop it:\n",
      "giss_temp = giss_temp.drop(\"Year.1\", axis=1)\n",
      "giss_temp"
     ],
     "language": "python",
     "metadata": {},
     "outputs": [
      {
       "html": [
        "<div style=\"max-width:1500px;overflow:auto;\">\n",
        "<table border=\"1\" class=\"dataframe\">\n",
        "  <thead>\n",
        "    <tr style=\"text-align: right;\">\n",
        "      <th></th>\n",
        "      <th>Jan</th>\n",
        "      <th>Feb</th>\n",
        "      <th>Mar</th>\n",
        "      <th>Apr</th>\n",
        "      <th>May</th>\n",
        "      <th>Jun</th>\n",
        "      <th>Jul</th>\n",
        "      <th>Aug</th>\n",
        "      <th>Sep</th>\n",
        "      <th>Oct</th>\n",
        "      <th>Nov</th>\n",
        "      <th>Dec</th>\n",
        "      <th>J-D</th>\n",
        "      <th>D-N</th>\n",
        "      <th>DJF</th>\n",
        "      <th>MAM</th>\n",
        "      <th>JJA</th>\n",
        "      <th>SON</th>\n",
        "    </tr>\n",
        "    <tr>\n",
        "      <th>Year</th>\n",
        "      <th></th>\n",
        "      <th></th>\n",
        "      <th></th>\n",
        "      <th></th>\n",
        "      <th></th>\n",
        "      <th></th>\n",
        "      <th></th>\n",
        "      <th></th>\n",
        "      <th></th>\n",
        "      <th></th>\n",
        "      <th></th>\n",
        "      <th></th>\n",
        "      <th></th>\n",
        "      <th></th>\n",
        "      <th></th>\n",
        "      <th></th>\n",
        "      <th></th>\n",
        "      <th></th>\n",
        "    </tr>\n",
        "  </thead>\n",
        "  <tbody>\n",
        "    <tr>\n",
        "      <th>1880</th>\n",
        "      <td>-34</td>\n",
        "      <td>-27</td>\n",
        "      <td>-22</td>\n",
        "      <td>-30</td>\n",
        "      <td>-16</td>\n",
        "      <td>-24</td>\n",
        "      <td>-19</td>\n",
        "      <td>-12</td>\n",
        "      <td>-20</td>\n",
        "      <td>-19</td>\n",
        "      <td>-16</td>\n",
        "      <td>-21</td>\n",
        "      <td>-22</td>\n",
        "      <td>***</td>\n",
        "      <td>****</td>\n",
        "      <td>-23</td>\n",
        "      <td>-18</td>\n",
        "      <td>-18</td>\n",
        "    </tr>\n",
        "    <tr>\n",
        "      <th>1881</th>\n",
        "      <td>-13</td>\n",
        "      <td>-16</td>\n",
        "      <td>-2</td>\n",
        "      <td>-3</td>\n",
        "      <td>-3</td>\n",
        "      <td>-27</td>\n",
        "      <td>-12</td>\n",
        "      <td>-8</td>\n",
        "      <td>-18</td>\n",
        "      <td>-23</td>\n",
        "      <td>-28</td>\n",
        "      <td>-18</td>\n",
        "      <td>-14</td>\n",
        "      <td>-14</td>\n",
        "      <td>-17</td>\n",
        "      <td>-3</td>\n",
        "      <td>-15</td>\n",
        "      <td>-23</td>\n",
        "    </tr>\n",
        "    <tr>\n",
        "      <th>1882</th>\n",
        "      <td>3</td>\n",
        "      <td>4</td>\n",
        "      <td>-2</td>\n",
        "      <td>-24</td>\n",
        "      <td>-20</td>\n",
        "      <td>-32</td>\n",
        "      <td>-27</td>\n",
        "      <td>-11</td>\n",
        "      <td>-11</td>\n",
        "      <td>-25</td>\n",
        "      <td>-25</td>\n",
        "      <td>-37</td>\n",
        "      <td>-17</td>\n",
        "      <td>-16</td>\n",
        "      <td>-4</td>\n",
        "      <td>-15</td>\n",
        "      <td>-23</td>\n",
        "      <td>-20</td>\n",
        "    </tr>\n",
        "    <tr>\n",
        "      <th>1883</th>\n",
        "      <td>-38</td>\n",
        "      <td>-38</td>\n",
        "      <td>-12</td>\n",
        "      <td>-20</td>\n",
        "      <td>-20</td>\n",
        "      <td>-8</td>\n",
        "      <td>-3</td>\n",
        "      <td>-13</td>\n",
        "      <td>-19</td>\n",
        "      <td>-19</td>\n",
        "      <td>-28</td>\n",
        "      <td>-21</td>\n",
        "      <td>-20</td>\n",
        "      <td>-21</td>\n",
        "      <td>-38</td>\n",
        "      <td>-18</td>\n",
        "      <td>-8</td>\n",
        "      <td>-22</td>\n",
        "    </tr>\n",
        "    <tr>\n",
        "      <th>1884</th>\n",
        "      <td>-20</td>\n",
        "      <td>-14</td>\n",
        "      <td>-31</td>\n",
        "      <td>-36</td>\n",
        "      <td>-33</td>\n",
        "      <td>-36</td>\n",
        "      <td>-31</td>\n",
        "      <td>-24</td>\n",
        "      <td>-29</td>\n",
        "      <td>-25</td>\n",
        "      <td>-29</td>\n",
        "      <td>-25</td>\n",
        "      <td>-28</td>\n",
        "      <td>-28</td>\n",
        "      <td>-18</td>\n",
        "      <td>-33</td>\n",
        "      <td>-31</td>\n",
        "      <td>-28</td>\n",
        "    </tr>\n",
        "    <tr>\n",
        "      <th>1885</th>\n",
        "      <td>-57</td>\n",
        "      <td>-29</td>\n",
        "      <td>-19</td>\n",
        "      <td>-36</td>\n",
        "      <td>-35</td>\n",
        "      <td>-40</td>\n",
        "      <td>-28</td>\n",
        "      <td>-24</td>\n",
        "      <td>-17</td>\n",
        "      <td>-14</td>\n",
        "      <td>-14</td>\n",
        "      <td>0</td>\n",
        "      <td>-26</td>\n",
        "      <td>-28</td>\n",
        "      <td>-37</td>\n",
        "      <td>-30</td>\n",
        "      <td>-31</td>\n",
        "      <td>-15</td>\n",
        "    </tr>\n",
        "    <tr>\n",
        "      <th>1886</th>\n",
        "      <td>-37</td>\n",
        "      <td>-43</td>\n",
        "      <td>-34</td>\n",
        "      <td>-23</td>\n",
        "      <td>-21</td>\n",
        "      <td>-30</td>\n",
        "      <td>-13</td>\n",
        "      <td>-21</td>\n",
        "      <td>-12</td>\n",
        "      <td>-22</td>\n",
        "      <td>-29</td>\n",
        "      <td>-18</td>\n",
        "      <td>-25</td>\n",
        "      <td>-24</td>\n",
        "      <td>-26</td>\n",
        "      <td>-26</td>\n",
        "      <td>-21</td>\n",
        "      <td>-21</td>\n",
        "    </tr>\n",
        "    <tr>\n",
        "      <th>1887</th>\n",
        "      <td>-60</td>\n",
        "      <td>-43</td>\n",
        "      <td>-26</td>\n",
        "      <td>-34</td>\n",
        "      <td>-28</td>\n",
        "      <td>-25</td>\n",
        "      <td>-19</td>\n",
        "      <td>-28</td>\n",
        "      <td>-24</td>\n",
        "      <td>-33</td>\n",
        "      <td>-29</td>\n",
        "      <td>-40</td>\n",
        "      <td>-32</td>\n",
        "      <td>-30</td>\n",
        "      <td>-40</td>\n",
        "      <td>-29</td>\n",
        "      <td>-24</td>\n",
        "      <td>-28</td>\n",
        "    </tr>\n",
        "    <tr>\n",
        "      <th>...</th>\n",
        "      <td>...</td>\n",
        "      <td>...</td>\n",
        "      <td>...</td>\n",
        "      <td>...</td>\n",
        "      <td>...</td>\n",
        "      <td>...</td>\n",
        "      <td>...</td>\n",
        "      <td>...</td>\n",
        "      <td>...</td>\n",
        "      <td>...</td>\n",
        "      <td>...</td>\n",
        "      <td>...</td>\n",
        "      <td>...</td>\n",
        "      <td>...</td>\n",
        "      <td>...</td>\n",
        "      <td>...</td>\n",
        "      <td>...</td>\n",
        "      <td>...</td>\n",
        "    </tr>\n",
        "    <tr>\n",
        "      <th>2009</th>\n",
        "      <td>56</td>\n",
        "      <td>48</td>\n",
        "      <td>49</td>\n",
        "      <td>57</td>\n",
        "      <td>59</td>\n",
        "      <td>62</td>\n",
        "      <td>66</td>\n",
        "      <td>61</td>\n",
        "      <td>64</td>\n",
        "      <td>58</td>\n",
        "      <td>72</td>\n",
        "      <td>58</td>\n",
        "      <td>59</td>\n",
        "      <td>59</td>\n",
        "      <td>52</td>\n",
        "      <td>55</td>\n",
        "      <td>63</td>\n",
        "      <td>65</td>\n",
        "    </tr>\n",
        "    <tr>\n",
        "      <th>2010</th>\n",
        "      <td>66</td>\n",
        "      <td>75</td>\n",
        "      <td>87</td>\n",
        "      <td>82</td>\n",
        "      <td>71</td>\n",
        "      <td>60</td>\n",
        "      <td>56</td>\n",
        "      <td>59</td>\n",
        "      <td>55</td>\n",
        "      <td>65</td>\n",
        "      <td>74</td>\n",
        "      <td>44</td>\n",
        "      <td>66</td>\n",
        "      <td>67</td>\n",
        "      <td>66</td>\n",
        "      <td>80</td>\n",
        "      <td>58</td>\n",
        "      <td>65</td>\n",
        "    </tr>\n",
        "    <tr>\n",
        "      <th>2011</th>\n",
        "      <td>45</td>\n",
        "      <td>44</td>\n",
        "      <td>57</td>\n",
        "      <td>60</td>\n",
        "      <td>47</td>\n",
        "      <td>54</td>\n",
        "      <td>70</td>\n",
        "      <td>69</td>\n",
        "      <td>52</td>\n",
        "      <td>60</td>\n",
        "      <td>50</td>\n",
        "      <td>48</td>\n",
        "      <td>55</td>\n",
        "      <td>55</td>\n",
        "      <td>45</td>\n",
        "      <td>55</td>\n",
        "      <td>64</td>\n",
        "      <td>54</td>\n",
        "    </tr>\n",
        "    <tr>\n",
        "      <th>2012</th>\n",
        "      <td>38</td>\n",
        "      <td>43</td>\n",
        "      <td>52</td>\n",
        "      <td>62</td>\n",
        "      <td>71</td>\n",
        "      <td>59</td>\n",
        "      <td>50</td>\n",
        "      <td>56</td>\n",
        "      <td>68</td>\n",
        "      <td>73</td>\n",
        "      <td>69</td>\n",
        "      <td>46</td>\n",
        "      <td>57</td>\n",
        "      <td>57</td>\n",
        "      <td>43</td>\n",
        "      <td>62</td>\n",
        "      <td>55</td>\n",
        "      <td>70</td>\n",
        "    </tr>\n",
        "    <tr>\n",
        "      <th>2013</th>\n",
        "      <td>62</td>\n",
        "      <td>52</td>\n",
        "      <td>60</td>\n",
        "      <td>48</td>\n",
        "      <td>56</td>\n",
        "      <td>61</td>\n",
        "      <td>53</td>\n",
        "      <td>61</td>\n",
        "      <td>73</td>\n",
        "      <td>61</td>\n",
        "      <td>75</td>\n",
        "      <td>61</td>\n",
        "      <td>60</td>\n",
        "      <td>59</td>\n",
        "      <td>53</td>\n",
        "      <td>55</td>\n",
        "      <td>58</td>\n",
        "      <td>70</td>\n",
        "    </tr>\n",
        "    <tr>\n",
        "      <th>2014</th>\n",
        "      <td>68</td>\n",
        "      <td>44</td>\n",
        "      <td>71</td>\n",
        "      <td>72</td>\n",
        "      <td>79</td>\n",
        "      <td>62</td>\n",
        "      <td>50</td>\n",
        "      <td>74</td>\n",
        "      <td>81</td>\n",
        "      <td>78</td>\n",
        "      <td>64</td>\n",
        "      <td>74</td>\n",
        "      <td>68</td>\n",
        "      <td>67</td>\n",
        "      <td>58</td>\n",
        "      <td>74</td>\n",
        "      <td>62</td>\n",
        "      <td>74</td>\n",
        "    </tr>\n",
        "    <tr>\n",
        "      <th>2015</th>\n",
        "      <td>75</td>\n",
        "      <td>80</td>\n",
        "      <td>84</td>\n",
        "      <td>71</td>\n",
        "      <td>****</td>\n",
        "      <td>****</td>\n",
        "      <td>****</td>\n",
        "      <td>****</td>\n",
        "      <td>****</td>\n",
        "      <td>****</td>\n",
        "      <td>****</td>\n",
        "      <td>****</td>\n",
        "      <td>****</td>\n",
        "      <td>***</td>\n",
        "      <td>76</td>\n",
        "      <td>****</td>\n",
        "      <td>****</td>\n",
        "      <td>****</td>\n",
        "    </tr>\n",
        "    <tr>\n",
        "      <th>Year</th>\n",
        "      <td>Jan</td>\n",
        "      <td>Feb</td>\n",
        "      <td>Mar</td>\n",
        "      <td>Apr</td>\n",
        "      <td>May</td>\n",
        "      <td>Jun</td>\n",
        "      <td>Jul</td>\n",
        "      <td>Aug</td>\n",
        "      <td>Sep</td>\n",
        "      <td>Oct</td>\n",
        "      <td>Nov</td>\n",
        "      <td>Dec</td>\n",
        "      <td>J-D</td>\n",
        "      <td>D-N</td>\n",
        "      <td>DJF</td>\n",
        "      <td>MAM</td>\n",
        "      <td>JJA</td>\n",
        "      <td>SON</td>\n",
        "    </tr>\n",
        "  </tbody>\n",
        "</table>\n",
        "<p>143 rows \u00d7 18 columns</p>\n",
        "</div>"
       ],
       "metadata": {},
       "output_type": "pyout",
       "prompt_number": 245,
       "text": [
        "      Jan  Feb  Mar  Apr   May   Jun   Jul   Aug   Sep   Oct   Nov   Dec  \\\n",
        "Year                                                                       \n",
        "1880  -34  -27  -22  -30   -16   -24   -19   -12   -20   -19   -16   -21   \n",
        "1881  -13  -16   -2   -3    -3   -27   -12    -8   -18   -23   -28   -18   \n",
        "1882    3    4   -2  -24   -20   -32   -27   -11   -11   -25   -25   -37   \n",
        "1883  -38  -38  -12  -20   -20    -8    -3   -13   -19   -19   -28   -21   \n",
        "1884  -20  -14  -31  -36   -33   -36   -31   -24   -29   -25   -29   -25   \n",
        "1885  -57  -29  -19  -36   -35   -40   -28   -24   -17   -14   -14     0   \n",
        "1886  -37  -43  -34  -23   -21   -30   -13   -21   -12   -22   -29   -18   \n",
        "1887  -60  -43  -26  -34   -28   -25   -19   -28   -24   -33   -29   -40   \n",
        "...   ...  ...  ...  ...   ...   ...   ...   ...   ...   ...   ...   ...   \n",
        "2009   56   48   49   57    59    62    66    61    64    58    72    58   \n",
        "2010   66   75   87   82    71    60    56    59    55    65    74    44   \n",
        "2011   45   44   57   60    47    54    70    69    52    60    50    48   \n",
        "2012   38   43   52   62    71    59    50    56    68    73    69    46   \n",
        "2013   62   52   60   48    56    61    53    61    73    61    75    61   \n",
        "2014   68   44   71   72    79    62    50    74    81    78    64    74   \n",
        "2015   75   80   84   71  ****  ****  ****  ****  ****  ****  ****  ****   \n",
        "Year  Jan  Feb  Mar  Apr   May   Jun   Jul   Aug   Sep   Oct   Nov   Dec   \n",
        "\n",
        "       J-D  D-N   DJF   MAM   JJA   SON  \n",
        "Year                                     \n",
        "1880   -22  ***  ****   -23   -18   -18  \n",
        "1881   -14  -14   -17    -3   -15   -23  \n",
        "1882   -17  -16    -4   -15   -23   -20  \n",
        "1883   -20  -21   -38   -18    -8   -22  \n",
        "1884   -28  -28   -18   -33   -31   -28  \n",
        "1885   -26  -28   -37   -30   -31   -15  \n",
        "1886   -25  -24   -26   -26   -21   -21  \n",
        "1887   -32  -30   -40   -29   -24   -28  \n",
        "...    ...  ...   ...   ...   ...   ...  \n",
        "2009    59   59    52    55    63    65  \n",
        "2010    66   67    66    80    58    65  \n",
        "2011    55   55    45    55    64    54  \n",
        "2012    57   57    43    62    55    70  \n",
        "2013    60   59    53    55    58    70  \n",
        "2014    68   67    58    74    62    74  \n",
        "2015  ****  ***    76  ****  ****  ****  \n",
        "Year   J-D  D-N   DJF   MAM   JJA   SON  \n",
        "\n",
        "[143 rows x 18 columns]"
       ]
      }
     ],
     "prompt_number": 245
    },
    {
     "cell_type": "code",
     "collapsed": false,
     "input": [
      "# We can also just select the columns we want to keep:\n",
      "giss_temp = giss_temp[[u'Jan', u'Feb', u'Mar', u'Apr', u'May', u'Jun', u'Jul', \n",
      "                       u'Aug', u'Sep', u'Oct', u'Nov', u'Dec']]\n",
      "giss_temp"
     ],
     "language": "python",
     "metadata": {},
     "outputs": [
      {
       "html": [
        "<div style=\"max-width:1500px;overflow:auto;\">\n",
        "<table border=\"1\" class=\"dataframe\">\n",
        "  <thead>\n",
        "    <tr style=\"text-align: right;\">\n",
        "      <th></th>\n",
        "      <th>Jan</th>\n",
        "      <th>Feb</th>\n",
        "      <th>Mar</th>\n",
        "      <th>Apr</th>\n",
        "      <th>May</th>\n",
        "      <th>Jun</th>\n",
        "      <th>Jul</th>\n",
        "      <th>Aug</th>\n",
        "      <th>Sep</th>\n",
        "      <th>Oct</th>\n",
        "      <th>Nov</th>\n",
        "      <th>Dec</th>\n",
        "    </tr>\n",
        "    <tr>\n",
        "      <th>Year</th>\n",
        "      <th></th>\n",
        "      <th></th>\n",
        "      <th></th>\n",
        "      <th></th>\n",
        "      <th></th>\n",
        "      <th></th>\n",
        "      <th></th>\n",
        "      <th></th>\n",
        "      <th></th>\n",
        "      <th></th>\n",
        "      <th></th>\n",
        "      <th></th>\n",
        "    </tr>\n",
        "  </thead>\n",
        "  <tbody>\n",
        "    <tr>\n",
        "      <th>1880</th>\n",
        "      <td>-34</td>\n",
        "      <td>-27</td>\n",
        "      <td>-22</td>\n",
        "      <td>-30</td>\n",
        "      <td>-16</td>\n",
        "      <td>-24</td>\n",
        "      <td>-19</td>\n",
        "      <td>-12</td>\n",
        "      <td>-20</td>\n",
        "      <td>-19</td>\n",
        "      <td>-16</td>\n",
        "      <td>-21</td>\n",
        "    </tr>\n",
        "    <tr>\n",
        "      <th>1881</th>\n",
        "      <td>-13</td>\n",
        "      <td>-16</td>\n",
        "      <td>-2</td>\n",
        "      <td>-3</td>\n",
        "      <td>-3</td>\n",
        "      <td>-27</td>\n",
        "      <td>-12</td>\n",
        "      <td>-8</td>\n",
        "      <td>-18</td>\n",
        "      <td>-23</td>\n",
        "      <td>-28</td>\n",
        "      <td>-18</td>\n",
        "    </tr>\n",
        "    <tr>\n",
        "      <th>1882</th>\n",
        "      <td>3</td>\n",
        "      <td>4</td>\n",
        "      <td>-2</td>\n",
        "      <td>-24</td>\n",
        "      <td>-20</td>\n",
        "      <td>-32</td>\n",
        "      <td>-27</td>\n",
        "      <td>-11</td>\n",
        "      <td>-11</td>\n",
        "      <td>-25</td>\n",
        "      <td>-25</td>\n",
        "      <td>-37</td>\n",
        "    </tr>\n",
        "    <tr>\n",
        "      <th>1883</th>\n",
        "      <td>-38</td>\n",
        "      <td>-38</td>\n",
        "      <td>-12</td>\n",
        "      <td>-20</td>\n",
        "      <td>-20</td>\n",
        "      <td>-8</td>\n",
        "      <td>-3</td>\n",
        "      <td>-13</td>\n",
        "      <td>-19</td>\n",
        "      <td>-19</td>\n",
        "      <td>-28</td>\n",
        "      <td>-21</td>\n",
        "    </tr>\n",
        "    <tr>\n",
        "      <th>1884</th>\n",
        "      <td>-20</td>\n",
        "      <td>-14</td>\n",
        "      <td>-31</td>\n",
        "      <td>-36</td>\n",
        "      <td>-33</td>\n",
        "      <td>-36</td>\n",
        "      <td>-31</td>\n",
        "      <td>-24</td>\n",
        "      <td>-29</td>\n",
        "      <td>-25</td>\n",
        "      <td>-29</td>\n",
        "      <td>-25</td>\n",
        "    </tr>\n",
        "    <tr>\n",
        "      <th>1885</th>\n",
        "      <td>-57</td>\n",
        "      <td>-29</td>\n",
        "      <td>-19</td>\n",
        "      <td>-36</td>\n",
        "      <td>-35</td>\n",
        "      <td>-40</td>\n",
        "      <td>-28</td>\n",
        "      <td>-24</td>\n",
        "      <td>-17</td>\n",
        "      <td>-14</td>\n",
        "      <td>-14</td>\n",
        "      <td>0</td>\n",
        "    </tr>\n",
        "    <tr>\n",
        "      <th>1886</th>\n",
        "      <td>-37</td>\n",
        "      <td>-43</td>\n",
        "      <td>-34</td>\n",
        "      <td>-23</td>\n",
        "      <td>-21</td>\n",
        "      <td>-30</td>\n",
        "      <td>-13</td>\n",
        "      <td>-21</td>\n",
        "      <td>-12</td>\n",
        "      <td>-22</td>\n",
        "      <td>-29</td>\n",
        "      <td>-18</td>\n",
        "    </tr>\n",
        "    <tr>\n",
        "      <th>1887</th>\n",
        "      <td>-60</td>\n",
        "      <td>-43</td>\n",
        "      <td>-26</td>\n",
        "      <td>-34</td>\n",
        "      <td>-28</td>\n",
        "      <td>-25</td>\n",
        "      <td>-19</td>\n",
        "      <td>-28</td>\n",
        "      <td>-24</td>\n",
        "      <td>-33</td>\n",
        "      <td>-29</td>\n",
        "      <td>-40</td>\n",
        "    </tr>\n",
        "    <tr>\n",
        "      <th>...</th>\n",
        "      <td>...</td>\n",
        "      <td>...</td>\n",
        "      <td>...</td>\n",
        "      <td>...</td>\n",
        "      <td>...</td>\n",
        "      <td>...</td>\n",
        "      <td>...</td>\n",
        "      <td>...</td>\n",
        "      <td>...</td>\n",
        "      <td>...</td>\n",
        "      <td>...</td>\n",
        "      <td>...</td>\n",
        "    </tr>\n",
        "    <tr>\n",
        "      <th>2009</th>\n",
        "      <td>56</td>\n",
        "      <td>48</td>\n",
        "      <td>49</td>\n",
        "      <td>57</td>\n",
        "      <td>59</td>\n",
        "      <td>62</td>\n",
        "      <td>66</td>\n",
        "      <td>61</td>\n",
        "      <td>64</td>\n",
        "      <td>58</td>\n",
        "      <td>72</td>\n",
        "      <td>58</td>\n",
        "    </tr>\n",
        "    <tr>\n",
        "      <th>2010</th>\n",
        "      <td>66</td>\n",
        "      <td>75</td>\n",
        "      <td>87</td>\n",
        "      <td>82</td>\n",
        "      <td>71</td>\n",
        "      <td>60</td>\n",
        "      <td>56</td>\n",
        "      <td>59</td>\n",
        "      <td>55</td>\n",
        "      <td>65</td>\n",
        "      <td>74</td>\n",
        "      <td>44</td>\n",
        "    </tr>\n",
        "    <tr>\n",
        "      <th>2011</th>\n",
        "      <td>45</td>\n",
        "      <td>44</td>\n",
        "      <td>57</td>\n",
        "      <td>60</td>\n",
        "      <td>47</td>\n",
        "      <td>54</td>\n",
        "      <td>70</td>\n",
        "      <td>69</td>\n",
        "      <td>52</td>\n",
        "      <td>60</td>\n",
        "      <td>50</td>\n",
        "      <td>48</td>\n",
        "    </tr>\n",
        "    <tr>\n",
        "      <th>2012</th>\n",
        "      <td>38</td>\n",
        "      <td>43</td>\n",
        "      <td>52</td>\n",
        "      <td>62</td>\n",
        "      <td>71</td>\n",
        "      <td>59</td>\n",
        "      <td>50</td>\n",
        "      <td>56</td>\n",
        "      <td>68</td>\n",
        "      <td>73</td>\n",
        "      <td>69</td>\n",
        "      <td>46</td>\n",
        "    </tr>\n",
        "    <tr>\n",
        "      <th>2013</th>\n",
        "      <td>62</td>\n",
        "      <td>52</td>\n",
        "      <td>60</td>\n",
        "      <td>48</td>\n",
        "      <td>56</td>\n",
        "      <td>61</td>\n",
        "      <td>53</td>\n",
        "      <td>61</td>\n",
        "      <td>73</td>\n",
        "      <td>61</td>\n",
        "      <td>75</td>\n",
        "      <td>61</td>\n",
        "    </tr>\n",
        "    <tr>\n",
        "      <th>2014</th>\n",
        "      <td>68</td>\n",
        "      <td>44</td>\n",
        "      <td>71</td>\n",
        "      <td>72</td>\n",
        "      <td>79</td>\n",
        "      <td>62</td>\n",
        "      <td>50</td>\n",
        "      <td>74</td>\n",
        "      <td>81</td>\n",
        "      <td>78</td>\n",
        "      <td>64</td>\n",
        "      <td>74</td>\n",
        "    </tr>\n",
        "    <tr>\n",
        "      <th>2015</th>\n",
        "      <td>75</td>\n",
        "      <td>80</td>\n",
        "      <td>84</td>\n",
        "      <td>71</td>\n",
        "      <td>****</td>\n",
        "      <td>****</td>\n",
        "      <td>****</td>\n",
        "      <td>****</td>\n",
        "      <td>****</td>\n",
        "      <td>****</td>\n",
        "      <td>****</td>\n",
        "      <td>****</td>\n",
        "    </tr>\n",
        "    <tr>\n",
        "      <th>Year</th>\n",
        "      <td>Jan</td>\n",
        "      <td>Feb</td>\n",
        "      <td>Mar</td>\n",
        "      <td>Apr</td>\n",
        "      <td>May</td>\n",
        "      <td>Jun</td>\n",
        "      <td>Jul</td>\n",
        "      <td>Aug</td>\n",
        "      <td>Sep</td>\n",
        "      <td>Oct</td>\n",
        "      <td>Nov</td>\n",
        "      <td>Dec</td>\n",
        "    </tr>\n",
        "  </tbody>\n",
        "</table>\n",
        "<p>143 rows \u00d7 12 columns</p>\n",
        "</div>"
       ],
       "metadata": {},
       "output_type": "pyout",
       "prompt_number": 246,
       "text": [
        "      Jan  Feb  Mar  Apr   May   Jun   Jul   Aug   Sep   Oct   Nov   Dec\n",
        "Year                                                                    \n",
        "1880  -34  -27  -22  -30   -16   -24   -19   -12   -20   -19   -16   -21\n",
        "1881  -13  -16   -2   -3    -3   -27   -12    -8   -18   -23   -28   -18\n",
        "1882    3    4   -2  -24   -20   -32   -27   -11   -11   -25   -25   -37\n",
        "1883  -38  -38  -12  -20   -20    -8    -3   -13   -19   -19   -28   -21\n",
        "1884  -20  -14  -31  -36   -33   -36   -31   -24   -29   -25   -29   -25\n",
        "1885  -57  -29  -19  -36   -35   -40   -28   -24   -17   -14   -14     0\n",
        "1886  -37  -43  -34  -23   -21   -30   -13   -21   -12   -22   -29   -18\n",
        "1887  -60  -43  -26  -34   -28   -25   -19   -28   -24   -33   -29   -40\n",
        "...   ...  ...  ...  ...   ...   ...   ...   ...   ...   ...   ...   ...\n",
        "2009   56   48   49   57    59    62    66    61    64    58    72    58\n",
        "2010   66   75   87   82    71    60    56    59    55    65    74    44\n",
        "2011   45   44   57   60    47    54    70    69    52    60    50    48\n",
        "2012   38   43   52   62    71    59    50    56    68    73    69    46\n",
        "2013   62   52   60   48    56    61    53    61    73    61    75    61\n",
        "2014   68   44   71   72    79    62    50    74    81    78    64    74\n",
        "2015   75   80   84   71  ****  ****  ****  ****  ****  ****  ****  ****\n",
        "Year  Jan  Feb  Mar  Apr   May   Jun   Jul   Aug   Sep   Oct   Nov   Dec\n",
        "\n",
        "[143 rows x 12 columns]"
       ]
      }
     ],
     "prompt_number": 246
    },
    {
     "cell_type": "code",
     "collapsed": false,
     "input": [
      "# Let's remove all these extra column names (Year  Jan ...). They all correspond to the index \"Year\"\n",
      "giss_temp = giss_temp.drop(\"Year\")\n",
      "giss_temp"
     ],
     "language": "python",
     "metadata": {},
     "outputs": [
      {
       "html": [
        "<div style=\"max-width:1500px;overflow:auto;\">\n",
        "<table border=\"1\" class=\"dataframe\">\n",
        "  <thead>\n",
        "    <tr style=\"text-align: right;\">\n",
        "      <th></th>\n",
        "      <th>Jan</th>\n",
        "      <th>Feb</th>\n",
        "      <th>Mar</th>\n",
        "      <th>Apr</th>\n",
        "      <th>May</th>\n",
        "      <th>Jun</th>\n",
        "      <th>Jul</th>\n",
        "      <th>Aug</th>\n",
        "      <th>Sep</th>\n",
        "      <th>Oct</th>\n",
        "      <th>Nov</th>\n",
        "      <th>Dec</th>\n",
        "    </tr>\n",
        "    <tr>\n",
        "      <th>Year</th>\n",
        "      <th></th>\n",
        "      <th></th>\n",
        "      <th></th>\n",
        "      <th></th>\n",
        "      <th></th>\n",
        "      <th></th>\n",
        "      <th></th>\n",
        "      <th></th>\n",
        "      <th></th>\n",
        "      <th></th>\n",
        "      <th></th>\n",
        "      <th></th>\n",
        "    </tr>\n",
        "  </thead>\n",
        "  <tbody>\n",
        "    <tr>\n",
        "      <th>1880</th>\n",
        "      <td>-34</td>\n",
        "      <td>-27</td>\n",
        "      <td>-22</td>\n",
        "      <td>-30</td>\n",
        "      <td>-16</td>\n",
        "      <td>-24</td>\n",
        "      <td>-19</td>\n",
        "      <td>-12</td>\n",
        "      <td>-20</td>\n",
        "      <td>-19</td>\n",
        "      <td>-16</td>\n",
        "      <td>-21</td>\n",
        "    </tr>\n",
        "    <tr>\n",
        "      <th>1881</th>\n",
        "      <td>-13</td>\n",
        "      <td>-16</td>\n",
        "      <td>-2</td>\n",
        "      <td>-3</td>\n",
        "      <td>-3</td>\n",
        "      <td>-27</td>\n",
        "      <td>-12</td>\n",
        "      <td>-8</td>\n",
        "      <td>-18</td>\n",
        "      <td>-23</td>\n",
        "      <td>-28</td>\n",
        "      <td>-18</td>\n",
        "    </tr>\n",
        "    <tr>\n",
        "      <th>1882</th>\n",
        "      <td>3</td>\n",
        "      <td>4</td>\n",
        "      <td>-2</td>\n",
        "      <td>-24</td>\n",
        "      <td>-20</td>\n",
        "      <td>-32</td>\n",
        "      <td>-27</td>\n",
        "      <td>-11</td>\n",
        "      <td>-11</td>\n",
        "      <td>-25</td>\n",
        "      <td>-25</td>\n",
        "      <td>-37</td>\n",
        "    </tr>\n",
        "    <tr>\n",
        "      <th>1883</th>\n",
        "      <td>-38</td>\n",
        "      <td>-38</td>\n",
        "      <td>-12</td>\n",
        "      <td>-20</td>\n",
        "      <td>-20</td>\n",
        "      <td>-8</td>\n",
        "      <td>-3</td>\n",
        "      <td>-13</td>\n",
        "      <td>-19</td>\n",
        "      <td>-19</td>\n",
        "      <td>-28</td>\n",
        "      <td>-21</td>\n",
        "    </tr>\n",
        "    <tr>\n",
        "      <th>1884</th>\n",
        "      <td>-20</td>\n",
        "      <td>-14</td>\n",
        "      <td>-31</td>\n",
        "      <td>-36</td>\n",
        "      <td>-33</td>\n",
        "      <td>-36</td>\n",
        "      <td>-31</td>\n",
        "      <td>-24</td>\n",
        "      <td>-29</td>\n",
        "      <td>-25</td>\n",
        "      <td>-29</td>\n",
        "      <td>-25</td>\n",
        "    </tr>\n",
        "    <tr>\n",
        "      <th>1885</th>\n",
        "      <td>-57</td>\n",
        "      <td>-29</td>\n",
        "      <td>-19</td>\n",
        "      <td>-36</td>\n",
        "      <td>-35</td>\n",
        "      <td>-40</td>\n",
        "      <td>-28</td>\n",
        "      <td>-24</td>\n",
        "      <td>-17</td>\n",
        "      <td>-14</td>\n",
        "      <td>-14</td>\n",
        "      <td>0</td>\n",
        "    </tr>\n",
        "    <tr>\n",
        "      <th>1886</th>\n",
        "      <td>-37</td>\n",
        "      <td>-43</td>\n",
        "      <td>-34</td>\n",
        "      <td>-23</td>\n",
        "      <td>-21</td>\n",
        "      <td>-30</td>\n",
        "      <td>-13</td>\n",
        "      <td>-21</td>\n",
        "      <td>-12</td>\n",
        "      <td>-22</td>\n",
        "      <td>-29</td>\n",
        "      <td>-18</td>\n",
        "    </tr>\n",
        "    <tr>\n",
        "      <th>1887</th>\n",
        "      <td>-60</td>\n",
        "      <td>-43</td>\n",
        "      <td>-26</td>\n",
        "      <td>-34</td>\n",
        "      <td>-28</td>\n",
        "      <td>-25</td>\n",
        "      <td>-19</td>\n",
        "      <td>-28</td>\n",
        "      <td>-24</td>\n",
        "      <td>-33</td>\n",
        "      <td>-29</td>\n",
        "      <td>-40</td>\n",
        "    </tr>\n",
        "    <tr>\n",
        "      <th>...</th>\n",
        "      <td>...</td>\n",
        "      <td>...</td>\n",
        "      <td>...</td>\n",
        "      <td>...</td>\n",
        "      <td>...</td>\n",
        "      <td>...</td>\n",
        "      <td>...</td>\n",
        "      <td>...</td>\n",
        "      <td>...</td>\n",
        "      <td>...</td>\n",
        "      <td>...</td>\n",
        "      <td>...</td>\n",
        "    </tr>\n",
        "    <tr>\n",
        "      <th>2008</th>\n",
        "      <td>22</td>\n",
        "      <td>31</td>\n",
        "      <td>70</td>\n",
        "      <td>48</td>\n",
        "      <td>46</td>\n",
        "      <td>43</td>\n",
        "      <td>54</td>\n",
        "      <td>39</td>\n",
        "      <td>59</td>\n",
        "      <td>62</td>\n",
        "      <td>62</td>\n",
        "      <td>51</td>\n",
        "    </tr>\n",
        "    <tr>\n",
        "      <th>2009</th>\n",
        "      <td>56</td>\n",
        "      <td>48</td>\n",
        "      <td>49</td>\n",
        "      <td>57</td>\n",
        "      <td>59</td>\n",
        "      <td>62</td>\n",
        "      <td>66</td>\n",
        "      <td>61</td>\n",
        "      <td>64</td>\n",
        "      <td>58</td>\n",
        "      <td>72</td>\n",
        "      <td>58</td>\n",
        "    </tr>\n",
        "    <tr>\n",
        "      <th>2010</th>\n",
        "      <td>66</td>\n",
        "      <td>75</td>\n",
        "      <td>87</td>\n",
        "      <td>82</td>\n",
        "      <td>71</td>\n",
        "      <td>60</td>\n",
        "      <td>56</td>\n",
        "      <td>59</td>\n",
        "      <td>55</td>\n",
        "      <td>65</td>\n",
        "      <td>74</td>\n",
        "      <td>44</td>\n",
        "    </tr>\n",
        "    <tr>\n",
        "      <th>2011</th>\n",
        "      <td>45</td>\n",
        "      <td>44</td>\n",
        "      <td>57</td>\n",
        "      <td>60</td>\n",
        "      <td>47</td>\n",
        "      <td>54</td>\n",
        "      <td>70</td>\n",
        "      <td>69</td>\n",
        "      <td>52</td>\n",
        "      <td>60</td>\n",
        "      <td>50</td>\n",
        "      <td>48</td>\n",
        "    </tr>\n",
        "    <tr>\n",
        "      <th>2012</th>\n",
        "      <td>38</td>\n",
        "      <td>43</td>\n",
        "      <td>52</td>\n",
        "      <td>62</td>\n",
        "      <td>71</td>\n",
        "      <td>59</td>\n",
        "      <td>50</td>\n",
        "      <td>56</td>\n",
        "      <td>68</td>\n",
        "      <td>73</td>\n",
        "      <td>69</td>\n",
        "      <td>46</td>\n",
        "    </tr>\n",
        "    <tr>\n",
        "      <th>2013</th>\n",
        "      <td>62</td>\n",
        "      <td>52</td>\n",
        "      <td>60</td>\n",
        "      <td>48</td>\n",
        "      <td>56</td>\n",
        "      <td>61</td>\n",
        "      <td>53</td>\n",
        "      <td>61</td>\n",
        "      <td>73</td>\n",
        "      <td>61</td>\n",
        "      <td>75</td>\n",
        "      <td>61</td>\n",
        "    </tr>\n",
        "    <tr>\n",
        "      <th>2014</th>\n",
        "      <td>68</td>\n",
        "      <td>44</td>\n",
        "      <td>71</td>\n",
        "      <td>72</td>\n",
        "      <td>79</td>\n",
        "      <td>62</td>\n",
        "      <td>50</td>\n",
        "      <td>74</td>\n",
        "      <td>81</td>\n",
        "      <td>78</td>\n",
        "      <td>64</td>\n",
        "      <td>74</td>\n",
        "    </tr>\n",
        "    <tr>\n",
        "      <th>2015</th>\n",
        "      <td>75</td>\n",
        "      <td>80</td>\n",
        "      <td>84</td>\n",
        "      <td>71</td>\n",
        "      <td>****</td>\n",
        "      <td>****</td>\n",
        "      <td>****</td>\n",
        "      <td>****</td>\n",
        "      <td>****</td>\n",
        "      <td>****</td>\n",
        "      <td>****</td>\n",
        "      <td>****</td>\n",
        "    </tr>\n",
        "  </tbody>\n",
        "</table>\n",
        "<p>136 rows \u00d7 12 columns</p>\n",
        "</div>"
       ],
       "metadata": {},
       "output_type": "pyout",
       "prompt_number": 247,
       "text": [
        "      Jan  Feb  Mar  Apr   May   Jun   Jul   Aug   Sep   Oct   Nov   Dec\n",
        "Year                                                                    \n",
        "1880  -34  -27  -22  -30   -16   -24   -19   -12   -20   -19   -16   -21\n",
        "1881  -13  -16   -2   -3    -3   -27   -12    -8   -18   -23   -28   -18\n",
        "1882    3    4   -2  -24   -20   -32   -27   -11   -11   -25   -25   -37\n",
        "1883  -38  -38  -12  -20   -20    -8    -3   -13   -19   -19   -28   -21\n",
        "1884  -20  -14  -31  -36   -33   -36   -31   -24   -29   -25   -29   -25\n",
        "1885  -57  -29  -19  -36   -35   -40   -28   -24   -17   -14   -14     0\n",
        "1886  -37  -43  -34  -23   -21   -30   -13   -21   -12   -22   -29   -18\n",
        "1887  -60  -43  -26  -34   -28   -25   -19   -28   -24   -33   -29   -40\n",
        "...   ...  ...  ...  ...   ...   ...   ...   ...   ...   ...   ...   ...\n",
        "2008   22   31   70   48    46    43    54    39    59    62    62    51\n",
        "2009   56   48   49   57    59    62    66    61    64    58    72    58\n",
        "2010   66   75   87   82    71    60    56    59    55    65    74    44\n",
        "2011   45   44   57   60    47    54    70    69    52    60    50    48\n",
        "2012   38   43   52   62    71    59    50    56    68    73    69    46\n",
        "2013   62   52   60   48    56    61    53    61    73    61    75    61\n",
        "2014   68   44   71   72    79    62    50    74    81    78    64    74\n",
        "2015   75   80   84   71  ****  ****  ****  ****  ****  ****  ****  ****\n",
        "\n",
        "[136 rows x 12 columns]"
       ]
      }
     ],
     "prompt_number": 247
    },
    {
     "cell_type": "markdown",
     "metadata": {},
     "source": [
      "Let's also set `****` to a real missing value (`np.nan`). We can often do it using a boolean mask, but that may trigger pandas warning. Another way to assign based on a boolean condition is to use the `where` method:"
     ]
    },
    {
     "cell_type": "code",
     "collapsed": false,
     "input": [
      "#giss_temp[giss_temp == \"****\"] = np.nan\n",
      "giss_temp = giss_temp.where(giss_temp != \"****\", np.nan)"
     ],
     "language": "python",
     "metadata": {},
     "outputs": [],
     "prompt_number": 248
    },
    {
     "cell_type": "code",
     "collapsed": false,
     "input": [
      "giss_temp.tail()"
     ],
     "language": "python",
     "metadata": {},
     "outputs": [
      {
       "html": [
        "<div style=\"max-width:1500px;overflow:auto;\">\n",
        "<table border=\"1\" class=\"dataframe\">\n",
        "  <thead>\n",
        "    <tr style=\"text-align: right;\">\n",
        "      <th></th>\n",
        "      <th>Jan</th>\n",
        "      <th>Feb</th>\n",
        "      <th>Mar</th>\n",
        "      <th>Apr</th>\n",
        "      <th>May</th>\n",
        "      <th>Jun</th>\n",
        "      <th>Jul</th>\n",
        "      <th>Aug</th>\n",
        "      <th>Sep</th>\n",
        "      <th>Oct</th>\n",
        "      <th>Nov</th>\n",
        "      <th>Dec</th>\n",
        "    </tr>\n",
        "    <tr>\n",
        "      <th>Year</th>\n",
        "      <th></th>\n",
        "      <th></th>\n",
        "      <th></th>\n",
        "      <th></th>\n",
        "      <th></th>\n",
        "      <th></th>\n",
        "      <th></th>\n",
        "      <th></th>\n",
        "      <th></th>\n",
        "      <th></th>\n",
        "      <th></th>\n",
        "      <th></th>\n",
        "    </tr>\n",
        "  </thead>\n",
        "  <tbody>\n",
        "    <tr>\n",
        "      <th>2011</th>\n",
        "      <td>45</td>\n",
        "      <td>44</td>\n",
        "      <td>57</td>\n",
        "      <td>60</td>\n",
        "      <td>47</td>\n",
        "      <td>54</td>\n",
        "      <td>70</td>\n",
        "      <td>69</td>\n",
        "      <td>52</td>\n",
        "      <td>60</td>\n",
        "      <td>50</td>\n",
        "      <td>48</td>\n",
        "    </tr>\n",
        "    <tr>\n",
        "      <th>2012</th>\n",
        "      <td>38</td>\n",
        "      <td>43</td>\n",
        "      <td>52</td>\n",
        "      <td>62</td>\n",
        "      <td>71</td>\n",
        "      <td>59</td>\n",
        "      <td>50</td>\n",
        "      <td>56</td>\n",
        "      <td>68</td>\n",
        "      <td>73</td>\n",
        "      <td>69</td>\n",
        "      <td>46</td>\n",
        "    </tr>\n",
        "    <tr>\n",
        "      <th>2013</th>\n",
        "      <td>62</td>\n",
        "      <td>52</td>\n",
        "      <td>60</td>\n",
        "      <td>48</td>\n",
        "      <td>56</td>\n",
        "      <td>61</td>\n",
        "      <td>53</td>\n",
        "      <td>61</td>\n",
        "      <td>73</td>\n",
        "      <td>61</td>\n",
        "      <td>75</td>\n",
        "      <td>61</td>\n",
        "    </tr>\n",
        "    <tr>\n",
        "      <th>2014</th>\n",
        "      <td>68</td>\n",
        "      <td>44</td>\n",
        "      <td>71</td>\n",
        "      <td>72</td>\n",
        "      <td>79</td>\n",
        "      <td>62</td>\n",
        "      <td>50</td>\n",
        "      <td>74</td>\n",
        "      <td>81</td>\n",
        "      <td>78</td>\n",
        "      <td>64</td>\n",
        "      <td>74</td>\n",
        "    </tr>\n",
        "    <tr>\n",
        "      <th>2015</th>\n",
        "      <td>75</td>\n",
        "      <td>80</td>\n",
        "      <td>84</td>\n",
        "      <td>71</td>\n",
        "      <td>NaN</td>\n",
        "      <td>NaN</td>\n",
        "      <td>NaN</td>\n",
        "      <td>NaN</td>\n",
        "      <td>NaN</td>\n",
        "      <td>NaN</td>\n",
        "      <td>NaN</td>\n",
        "      <td>NaN</td>\n",
        "    </tr>\n",
        "  </tbody>\n",
        "</table>\n",
        "</div>"
       ],
       "metadata": {},
       "output_type": "pyout",
       "prompt_number": 249,
       "text": [
        "     Jan Feb Mar Apr  May  Jun  Jul  Aug  Sep  Oct  Nov  Dec\n",
        "Year                                                        \n",
        "2011  45  44  57  60   47   54   70   69   52   60   50   48\n",
        "2012  38  43  52  62   71   59   50   56   68   73   69   46\n",
        "2013  62  52  60  48   56   61   53   61   73   61   75   61\n",
        "2014  68  44  71  72   79   62   50   74   81   78   64   74\n",
        "2015  75  80  84  71  NaN  NaN  NaN  NaN  NaN  NaN  NaN  NaN"
       ]
      }
     ],
     "prompt_number": 249
    },
    {
     "cell_type": "heading",
     "level": 3,
     "metadata": {},
     "source": [
      "Adding columns"
     ]
    },
    {
     "cell_type": "markdown",
     "metadata": {},
     "source": [
      "While building the `mean_sea_level` dataFrame earlier, we didn't include the values from `global_sea_level` since the years were not aligned. Adding a column to a dataframe is as easy as adding an entry to a dictionary. So let's try:"
     ]
    },
    {
     "cell_type": "code",
     "collapsed": false,
     "input": [
      "mean_sea_level[\"mean_global\"] = global_sea_level[\"msl_ib_ns(mm)\"]\n",
      "mean_sea_level"
     ],
     "language": "python",
     "metadata": {},
     "outputs": [
      {
       "html": [
        "<div style=\"max-width:1500px;overflow:auto;\">\n",
        "<table border=\"1\" class=\"dataframe\">\n",
        "  <thead>\n",
        "    <tr style=\"text-align: right;\">\n",
        "      <th></th>\n",
        "      <th>northern_hem</th>\n",
        "      <th>southern_hem</th>\n",
        "      <th>mean_global</th>\n",
        "    </tr>\n",
        "    <tr>\n",
        "      <th>date</th>\n",
        "      <th></th>\n",
        "      <th></th>\n",
        "      <th></th>\n",
        "    </tr>\n",
        "  </thead>\n",
        "  <tbody>\n",
        "    <tr>\n",
        "      <th>1992.9323</th>\n",
        "      <td>13.717</td>\n",
        "      <td>2.517</td>\n",
        "      <td>NaN</td>\n",
        "    </tr>\n",
        "    <tr>\n",
        "      <th>1992.9595</th>\n",
        "      <td>1.328</td>\n",
        "      <td>-7.645</td>\n",
        "      <td>NaN</td>\n",
        "    </tr>\n",
        "    <tr>\n",
        "      <th>1992.9866</th>\n",
        "      <td>-13.375</td>\n",
        "      <td>-2.267</td>\n",
        "      <td>NaN</td>\n",
        "    </tr>\n",
        "    <tr>\n",
        "      <th>1993.0138</th>\n",
        "      <td>-24.723</td>\n",
        "      <td>0.855</td>\n",
        "      <td>NaN</td>\n",
        "    </tr>\n",
        "    <tr>\n",
        "      <th>1993.0409</th>\n",
        "      <td>-29.231</td>\n",
        "      <td>-2.020</td>\n",
        "      <td>NaN</td>\n",
        "    </tr>\n",
        "    <tr>\n",
        "      <th>1993.0681</th>\n",
        "      <td>-32.538</td>\n",
        "      <td>-0.398</td>\n",
        "      <td>NaN</td>\n",
        "    </tr>\n",
        "    <tr>\n",
        "      <th>1993.0952</th>\n",
        "      <td>-35.588</td>\n",
        "      <td>4.102</td>\n",
        "      <td>NaN</td>\n",
        "    </tr>\n",
        "    <tr>\n",
        "      <th>1993.1223</th>\n",
        "      <td>-26.579</td>\n",
        "      <td>6.787</td>\n",
        "      <td>NaN</td>\n",
        "    </tr>\n",
        "    <tr>\n",
        "      <th>...</th>\n",
        "      <td>...</td>\n",
        "      <td>...</td>\n",
        "      <td>...</td>\n",
        "    </tr>\n",
        "    <tr>\n",
        "      <th>2014.9494</th>\n",
        "      <td>63.004</td>\n",
        "      <td>68.561</td>\n",
        "      <td>NaN</td>\n",
        "    </tr>\n",
        "    <tr>\n",
        "      <th>2014.9766</th>\n",
        "      <td>56.990</td>\n",
        "      <td>70.551</td>\n",
        "      <td>NaN</td>\n",
        "    </tr>\n",
        "    <tr>\n",
        "      <th>2015.0037</th>\n",
        "      <td>49.183</td>\n",
        "      <td>67.742</td>\n",
        "      <td>NaN</td>\n",
        "    </tr>\n",
        "    <tr>\n",
        "      <th>2015.0309</th>\n",
        "      <td>39.398</td>\n",
        "      <td>69.746</td>\n",
        "      <td>NaN</td>\n",
        "    </tr>\n",
        "    <tr>\n",
        "      <th>2015.0580</th>\n",
        "      <td>31.524</td>\n",
        "      <td>69.317</td>\n",
        "      <td>NaN</td>\n",
        "    </tr>\n",
        "    <tr>\n",
        "      <th>2015.0852</th>\n",
        "      <td>33.878</td>\n",
        "      <td>77.533</td>\n",
        "      <td>NaN</td>\n",
        "    </tr>\n",
        "    <tr>\n",
        "      <th>2015.1123</th>\n",
        "      <td>29.822</td>\n",
        "      <td>81.370</td>\n",
        "      <td>NaN</td>\n",
        "    </tr>\n",
        "    <tr>\n",
        "      <th>2015.1395</th>\n",
        "      <td>33.825</td>\n",
        "      <td>86.893</td>\n",
        "      <td>NaN</td>\n",
        "    </tr>\n",
        "  </tbody>\n",
        "</table>\n",
        "<p>817 rows \u00d7 3 columns</p>\n",
        "</div>"
       ],
       "metadata": {},
       "output_type": "pyout",
       "prompt_number": 250,
       "text": [
        "           northern_hem  southern_hem  mean_global\n",
        "date                                              \n",
        "1992.9323        13.717         2.517          NaN\n",
        "1992.9595         1.328        -7.645          NaN\n",
        "1992.9866       -13.375        -2.267          NaN\n",
        "1993.0138       -24.723         0.855          NaN\n",
        "1993.0409       -29.231        -2.020          NaN\n",
        "1993.0681       -32.538        -0.398          NaN\n",
        "1993.0952       -35.588         4.102          NaN\n",
        "1993.1223       -26.579         6.787          NaN\n",
        "...                 ...           ...          ...\n",
        "2014.9494        63.004        68.561          NaN\n",
        "2014.9766        56.990        70.551          NaN\n",
        "2015.0037        49.183        67.742          NaN\n",
        "2015.0309        39.398        69.746          NaN\n",
        "2015.0580        31.524        69.317          NaN\n",
        "2015.0852        33.878        77.533          NaN\n",
        "2015.1123        29.822        81.370          NaN\n",
        "2015.1395        33.825        86.893          NaN\n",
        "\n",
        "[817 rows x 3 columns]"
       ]
      }
     ],
     "prompt_number": 250
    },
    {
     "cell_type": "markdown",
     "metadata": {},
     "source": [
      "The column is full of NaNs again because the auto-alignment feature of Pandas is searching for the index values like `1992.9323` in the index of `global_sea_level[\"msl_ib_ns(mm)\"]` series and not finding them. Let's set its index to these years so that that auto-alignment can work for us and figure out which values we have and not:"
     ]
    },
    {
     "cell_type": "code",
     "collapsed": false,
     "input": [
      "global_sea_level = global_sea_level.set_index(\"year\")\n",
      "global_sea_level[\"msl_ib_ns(mm)\"]"
     ],
     "language": "python",
     "metadata": {},
     "outputs": [
      {
       "metadata": {},
       "output_type": "pyout",
       "prompt_number": 251,
       "text": [
        "year\n",
        "1992.9595    -5.818\n",
        "1992.9866    -7.525\n",
        "1993.0138    -9.215\n",
        "1993.0409   -11.796\n",
        "1993.0681   -11.291\n",
        "1993.0952    -9.569\n",
        "1993.1223    -3.714\n",
        "1993.1495    -2.471\n",
        "              ...  \n",
        "2014.9494    70.723\n",
        "2014.9766    70.522\n",
        "2015.0037    66.662\n",
        "2015.0309    64.804\n",
        "2015.0580    62.115\n",
        "2015.0852    68.589\n",
        "2015.1123    69.745\n",
        "2015.1395    75.007\n",
        "Name: msl_ib_ns(mm), dtype: float64"
       ]
      }
     ],
     "prompt_number": 251
    },
    {
     "cell_type": "code",
     "collapsed": false,
     "input": [
      "mean_sea_level[\"mean_global\"] = global_sea_level[\"msl_ib_ns(mm)\"]\n",
      "mean_sea_level"
     ],
     "language": "python",
     "metadata": {},
     "outputs": [
      {
       "html": [
        "<div style=\"max-width:1500px;overflow:auto;\">\n",
        "<table border=\"1\" class=\"dataframe\">\n",
        "  <thead>\n",
        "    <tr style=\"text-align: right;\">\n",
        "      <th></th>\n",
        "      <th>northern_hem</th>\n",
        "      <th>southern_hem</th>\n",
        "      <th>mean_global</th>\n",
        "    </tr>\n",
        "    <tr>\n",
        "      <th>date</th>\n",
        "      <th></th>\n",
        "      <th></th>\n",
        "      <th></th>\n",
        "    </tr>\n",
        "  </thead>\n",
        "  <tbody>\n",
        "    <tr>\n",
        "      <th>1992.9323</th>\n",
        "      <td>13.717</td>\n",
        "      <td>2.517</td>\n",
        "      <td>NaN</td>\n",
        "    </tr>\n",
        "    <tr>\n",
        "      <th>1992.9595</th>\n",
        "      <td>1.328</td>\n",
        "      <td>-7.645</td>\n",
        "      <td>-5.818</td>\n",
        "    </tr>\n",
        "    <tr>\n",
        "      <th>1992.9866</th>\n",
        "      <td>-13.375</td>\n",
        "      <td>-2.267</td>\n",
        "      <td>-7.525</td>\n",
        "    </tr>\n",
        "    <tr>\n",
        "      <th>1993.0138</th>\n",
        "      <td>-24.723</td>\n",
        "      <td>0.855</td>\n",
        "      <td>-9.215</td>\n",
        "    </tr>\n",
        "    <tr>\n",
        "      <th>1993.0409</th>\n",
        "      <td>-29.231</td>\n",
        "      <td>-2.020</td>\n",
        "      <td>-11.796</td>\n",
        "    </tr>\n",
        "    <tr>\n",
        "      <th>1993.0681</th>\n",
        "      <td>-32.538</td>\n",
        "      <td>-0.398</td>\n",
        "      <td>-11.291</td>\n",
        "    </tr>\n",
        "    <tr>\n",
        "      <th>1993.0952</th>\n",
        "      <td>-35.588</td>\n",
        "      <td>4.102</td>\n",
        "      <td>-9.569</td>\n",
        "    </tr>\n",
        "    <tr>\n",
        "      <th>1993.1223</th>\n",
        "      <td>-26.579</td>\n",
        "      <td>6.787</td>\n",
        "      <td>-3.714</td>\n",
        "    </tr>\n",
        "    <tr>\n",
        "      <th>...</th>\n",
        "      <td>...</td>\n",
        "      <td>...</td>\n",
        "      <td>...</td>\n",
        "    </tr>\n",
        "    <tr>\n",
        "      <th>2014.9494</th>\n",
        "      <td>63.004</td>\n",
        "      <td>68.561</td>\n",
        "      <td>70.723</td>\n",
        "    </tr>\n",
        "    <tr>\n",
        "      <th>2014.9766</th>\n",
        "      <td>56.990</td>\n",
        "      <td>70.551</td>\n",
        "      <td>70.522</td>\n",
        "    </tr>\n",
        "    <tr>\n",
        "      <th>2015.0037</th>\n",
        "      <td>49.183</td>\n",
        "      <td>67.742</td>\n",
        "      <td>66.662</td>\n",
        "    </tr>\n",
        "    <tr>\n",
        "      <th>2015.0309</th>\n",
        "      <td>39.398</td>\n",
        "      <td>69.746</td>\n",
        "      <td>64.804</td>\n",
        "    </tr>\n",
        "    <tr>\n",
        "      <th>2015.0580</th>\n",
        "      <td>31.524</td>\n",
        "      <td>69.317</td>\n",
        "      <td>62.115</td>\n",
        "    </tr>\n",
        "    <tr>\n",
        "      <th>2015.0852</th>\n",
        "      <td>33.878</td>\n",
        "      <td>77.533</td>\n",
        "      <td>68.589</td>\n",
        "    </tr>\n",
        "    <tr>\n",
        "      <th>2015.1123</th>\n",
        "      <td>29.822</td>\n",
        "      <td>81.370</td>\n",
        "      <td>69.745</td>\n",
        "    </tr>\n",
        "    <tr>\n",
        "      <th>2015.1395</th>\n",
        "      <td>33.825</td>\n",
        "      <td>86.893</td>\n",
        "      <td>75.007</td>\n",
        "    </tr>\n",
        "  </tbody>\n",
        "</table>\n",
        "<p>817 rows \u00d7 3 columns</p>\n",
        "</div>"
       ],
       "metadata": {},
       "output_type": "pyout",
       "prompt_number": 252,
       "text": [
        "           northern_hem  southern_hem  mean_global\n",
        "date                                              \n",
        "1992.9323        13.717         2.517          NaN\n",
        "1992.9595         1.328        -7.645       -5.818\n",
        "1992.9866       -13.375        -2.267       -7.525\n",
        "1993.0138       -24.723         0.855       -9.215\n",
        "1993.0409       -29.231        -2.020      -11.796\n",
        "1993.0681       -32.538        -0.398      -11.291\n",
        "1993.0952       -35.588         4.102       -9.569\n",
        "1993.1223       -26.579         6.787       -3.714\n",
        "...                 ...           ...          ...\n",
        "2014.9494        63.004        68.561       70.723\n",
        "2014.9766        56.990        70.551       70.522\n",
        "2015.0037        49.183        67.742       66.662\n",
        "2015.0309        39.398        69.746       64.804\n",
        "2015.0580        31.524        69.317       62.115\n",
        "2015.0852        33.878        77.533       68.589\n",
        "2015.1123        29.822        81.370       69.745\n",
        "2015.1395        33.825        86.893       75.007\n",
        "\n",
        "[817 rows x 3 columns]"
       ]
      }
     ],
     "prompt_number": 252
    },
    {
     "cell_type": "markdown",
     "metadata": {},
     "source": [
      "**EXERCISE:** Create a new series containing the average of the 2 hemispheres minus the global value to see if that is close to 0. Work inside the mean_sea_level dataframe first. Then try with the original Series to see what happens with data alignment while doing computations."
     ]
    },
    {
     "cell_type": "code",
     "collapsed": false,
     "input": [
      "# Your code here"
     ],
     "language": "python",
     "metadata": {},
     "outputs": [],
     "prompt_number": 253
    },
    {
     "cell_type": "heading",
     "level": 3,
     "metadata": {},
     "source": [
      "Changing dtype of series"
     ]
    },
    {
     "cell_type": "markdown",
     "metadata": {},
     "source": [
      "Now that the sea levels are looking pretty good, let's got back to the GISS temperature dataset. Because of the labels (strings) found in the middle of the timeseries, every column only assumed to contain strings (didn't convert them to floating point values):"
     ]
    },
    {
     "cell_type": "code",
     "collapsed": false,
     "input": [
      "giss_temp.dtypes"
     ],
     "language": "python",
     "metadata": {},
     "outputs": [
      {
       "metadata": {},
       "output_type": "pyout",
       "prompt_number": 254,
       "text": [
        "Jan    object\n",
        "Feb    object\n",
        "Mar    object\n",
        "Apr    object\n",
        "May    object\n",
        "Jun    object\n",
        "Jul    object\n",
        "Aug    object\n",
        "Sep    object\n",
        "Oct    object\n",
        "Nov    object\n",
        "Dec    object\n",
        "dtype: object"
       ]
      }
     ],
     "prompt_number": 254
    },
    {
     "cell_type": "markdown",
     "metadata": {},
     "source": [
      "That can be changed after the fact (and after the cleanup) with the `astype` method of a `Series`:"
     ]
    },
    {
     "cell_type": "code",
     "collapsed": false,
     "input": [
      "giss_temp[\"Jan\"].astype(\"float32\")"
     ],
     "language": "python",
     "metadata": {},
     "outputs": [
      {
       "metadata": {},
       "output_type": "pyout",
       "prompt_number": 255,
       "text": [
        "Year\n",
        "1880   -34\n",
        "1881   -13\n",
        "1882     3\n",
        "1883   -38\n",
        "1884   -20\n",
        "1885   -57\n",
        "1886   -37\n",
        "1887   -60\n",
        "        ..\n",
        "2008    22\n",
        "2009    56\n",
        "2010    66\n",
        "2011    45\n",
        "2012    38\n",
        "2013    62\n",
        "2014    68\n",
        "2015    75\n",
        "Name: Jan, dtype: float32"
       ]
      }
     ],
     "prompt_number": 255
    },
    {
     "cell_type": "code",
     "collapsed": false,
     "input": [
      "for col in giss_temp.columns:\n",
      "    giss_temp.loc[:, col] = giss_temp[col].astype(np.float32)"
     ],
     "language": "python",
     "metadata": {},
     "outputs": [],
     "prompt_number": 256
    },
    {
     "cell_type": "markdown",
     "metadata": {},
     "source": [
      "An index has a `dtype` just like any Series and that can be changed after the fact too."
     ]
    },
    {
     "cell_type": "code",
     "collapsed": false,
     "input": [
      "giss_temp.index.dtype"
     ],
     "language": "python",
     "metadata": {},
     "outputs": [
      {
       "metadata": {},
       "output_type": "pyout",
       "prompt_number": 257,
       "text": [
        "dtype('O')"
       ]
      }
     ],
     "prompt_number": 257
    },
    {
     "cell_type": "markdown",
     "metadata": {},
     "source": [
      "For now, let's change it to an integer so that values can at least be compared properly. We will learn below to change it to a datetime object."
     ]
    },
    {
     "cell_type": "code",
     "collapsed": false,
     "input": [
      "giss_temp.index = giss_temp.index.astype(np.int32)"
     ],
     "language": "python",
     "metadata": {},
     "outputs": [],
     "prompt_number": 258
    },
    {
     "cell_type": "heading",
     "level": 3,
     "metadata": {},
     "source": [
      "Removing missing values"
     ]
    },
    {
     "cell_type": "markdown",
     "metadata": {},
     "source": [
      "Removing missing values - once they have been converted to `np.nan` - is very easy. Entries that contain missing values can be removed (dropped), or filled with many strategies."
     ]
    },
    {
     "cell_type": "code",
     "collapsed": false,
     "input": [
      "full_globe_temp"
     ],
     "language": "python",
     "metadata": {},
     "outputs": [
      {
       "metadata": {},
       "output_type": "pyout",
       "prompt_number": 259,
       "text": [
        "year\n",
        "1880-01-01 00:00:00   -0.1591\n",
        "1881-01-01 00:00:00   -0.0789\n",
        "1882-01-01 00:00:00   -0.1313\n",
        "1883-01-01 00:00:00   -0.1675\n",
        "1884-01-01 00:00:00   -0.2485\n",
        "1885-01-01 00:00:00   -0.2042\n",
        "1886-01-01 00:00:00   -0.1695\n",
        "1887-01-01 00:00:00   -0.2505\n",
        "                        ...  \n",
        "2003-01-01             0.5818\n",
        "2004-01-01             0.5416\n",
        "2005-01-01             0.6154\n",
        "2006-01-01             0.5601\n",
        "2007-01-01             0.5472\n",
        "2008-01-01             0.4804\n",
        "2009-01-01             0.5551\n",
        "2010-01-01                NaN\n",
        "Name: mean temp, dtype: float64"
       ]
      }
     ],
     "prompt_number": 259
    },
    {
     "cell_type": "code",
     "collapsed": false,
     "input": [
      "full_globe_temp.dropna()"
     ],
     "language": "python",
     "metadata": {},
     "outputs": [
      {
       "metadata": {},
       "output_type": "pyout",
       "prompt_number": 260,
       "text": [
        "year\n",
        "1880-01-01 00:00:00   -0.1591\n",
        "1881-01-01 00:00:00   -0.0789\n",
        "1882-01-01 00:00:00   -0.1313\n",
        "1883-01-01 00:00:00   -0.1675\n",
        "1884-01-01 00:00:00   -0.2485\n",
        "1885-01-01 00:00:00   -0.2042\n",
        "1886-01-01 00:00:00   -0.1695\n",
        "1887-01-01 00:00:00   -0.2505\n",
        "                        ...  \n",
        "2002-01-01             0.5745\n",
        "2003-01-01             0.5818\n",
        "2004-01-01             0.5416\n",
        "2005-01-01             0.6154\n",
        "2006-01-01             0.5601\n",
        "2007-01-01             0.5472\n",
        "2008-01-01             0.4804\n",
        "2009-01-01             0.5551\n",
        "Name: mean temp, dtype: float64"
       ]
      }
     ],
     "prompt_number": 260
    },
    {
     "cell_type": "code",
     "collapsed": false,
     "input": [
      "# This will remove any year that has a missing value. Use how='all' to keep partial years\n",
      "giss_temp.dropna(how=\"any\").tail()"
     ],
     "language": "python",
     "metadata": {},
     "outputs": [
      {
       "html": [
        "<div style=\"max-width:1500px;overflow:auto;\">\n",
        "<table border=\"1\" class=\"dataframe\">\n",
        "  <thead>\n",
        "    <tr style=\"text-align: right;\">\n",
        "      <th></th>\n",
        "      <th>Jan</th>\n",
        "      <th>Feb</th>\n",
        "      <th>Mar</th>\n",
        "      <th>Apr</th>\n",
        "      <th>May</th>\n",
        "      <th>Jun</th>\n",
        "      <th>Jul</th>\n",
        "      <th>Aug</th>\n",
        "      <th>Sep</th>\n",
        "      <th>Oct</th>\n",
        "      <th>Nov</th>\n",
        "      <th>Dec</th>\n",
        "    </tr>\n",
        "    <tr>\n",
        "      <th>Year</th>\n",
        "      <th></th>\n",
        "      <th></th>\n",
        "      <th></th>\n",
        "      <th></th>\n",
        "      <th></th>\n",
        "      <th></th>\n",
        "      <th></th>\n",
        "      <th></th>\n",
        "      <th></th>\n",
        "      <th></th>\n",
        "      <th></th>\n",
        "      <th></th>\n",
        "    </tr>\n",
        "  </thead>\n",
        "  <tbody>\n",
        "    <tr>\n",
        "      <th>2010</th>\n",
        "      <td>66</td>\n",
        "      <td>75</td>\n",
        "      <td>87</td>\n",
        "      <td>82</td>\n",
        "      <td>71</td>\n",
        "      <td>60</td>\n",
        "      <td>56</td>\n",
        "      <td>59</td>\n",
        "      <td>55</td>\n",
        "      <td>65</td>\n",
        "      <td>74</td>\n",
        "      <td>44</td>\n",
        "    </tr>\n",
        "    <tr>\n",
        "      <th>2011</th>\n",
        "      <td>45</td>\n",
        "      <td>44</td>\n",
        "      <td>57</td>\n",
        "      <td>60</td>\n",
        "      <td>47</td>\n",
        "      <td>54</td>\n",
        "      <td>70</td>\n",
        "      <td>69</td>\n",
        "      <td>52</td>\n",
        "      <td>60</td>\n",
        "      <td>50</td>\n",
        "      <td>48</td>\n",
        "    </tr>\n",
        "    <tr>\n",
        "      <th>2012</th>\n",
        "      <td>38</td>\n",
        "      <td>43</td>\n",
        "      <td>52</td>\n",
        "      <td>62</td>\n",
        "      <td>71</td>\n",
        "      <td>59</td>\n",
        "      <td>50</td>\n",
        "      <td>56</td>\n",
        "      <td>68</td>\n",
        "      <td>73</td>\n",
        "      <td>69</td>\n",
        "      <td>46</td>\n",
        "    </tr>\n",
        "    <tr>\n",
        "      <th>2013</th>\n",
        "      <td>62</td>\n",
        "      <td>52</td>\n",
        "      <td>60</td>\n",
        "      <td>48</td>\n",
        "      <td>56</td>\n",
        "      <td>61</td>\n",
        "      <td>53</td>\n",
        "      <td>61</td>\n",
        "      <td>73</td>\n",
        "      <td>61</td>\n",
        "      <td>75</td>\n",
        "      <td>61</td>\n",
        "    </tr>\n",
        "    <tr>\n",
        "      <th>2014</th>\n",
        "      <td>68</td>\n",
        "      <td>44</td>\n",
        "      <td>71</td>\n",
        "      <td>72</td>\n",
        "      <td>79</td>\n",
        "      <td>62</td>\n",
        "      <td>50</td>\n",
        "      <td>74</td>\n",
        "      <td>81</td>\n",
        "      <td>78</td>\n",
        "      <td>64</td>\n",
        "      <td>74</td>\n",
        "    </tr>\n",
        "  </tbody>\n",
        "</table>\n",
        "</div>"
       ],
       "metadata": {},
       "output_type": "pyout",
       "prompt_number": 261,
       "text": [
        "      Jan  Feb  Mar  Apr  May  Jun  Jul  Aug  Sep  Oct  Nov  Dec\n",
        "Year                                                            \n",
        "2010   66   75   87   82   71   60   56   59   55   65   74   44\n",
        "2011   45   44   57   60   47   54   70   69   52   60   50   48\n",
        "2012   38   43   52   62   71   59   50   56   68   73   69   46\n",
        "2013   62   52   60   48   56   61   53   61   73   61   75   61\n",
        "2014   68   44   71   72   79   62   50   74   81   78   64   74"
       ]
      }
     ],
     "prompt_number": 261
    },
    {
     "cell_type": "code",
     "collapsed": false,
     "input": [
      "giss_temp.fillna(value=0).tail()"
     ],
     "language": "python",
     "metadata": {},
     "outputs": [
      {
       "html": [
        "<div style=\"max-width:1500px;overflow:auto;\">\n",
        "<table border=\"1\" class=\"dataframe\">\n",
        "  <thead>\n",
        "    <tr style=\"text-align: right;\">\n",
        "      <th></th>\n",
        "      <th>Jan</th>\n",
        "      <th>Feb</th>\n",
        "      <th>Mar</th>\n",
        "      <th>Apr</th>\n",
        "      <th>May</th>\n",
        "      <th>Jun</th>\n",
        "      <th>Jul</th>\n",
        "      <th>Aug</th>\n",
        "      <th>Sep</th>\n",
        "      <th>Oct</th>\n",
        "      <th>Nov</th>\n",
        "      <th>Dec</th>\n",
        "    </tr>\n",
        "    <tr>\n",
        "      <th>Year</th>\n",
        "      <th></th>\n",
        "      <th></th>\n",
        "      <th></th>\n",
        "      <th></th>\n",
        "      <th></th>\n",
        "      <th></th>\n",
        "      <th></th>\n",
        "      <th></th>\n",
        "      <th></th>\n",
        "      <th></th>\n",
        "      <th></th>\n",
        "      <th></th>\n",
        "    </tr>\n",
        "  </thead>\n",
        "  <tbody>\n",
        "    <tr>\n",
        "      <th>2011</th>\n",
        "      <td>45</td>\n",
        "      <td>44</td>\n",
        "      <td>57</td>\n",
        "      <td>60</td>\n",
        "      <td>47</td>\n",
        "      <td>54</td>\n",
        "      <td>70</td>\n",
        "      <td>69</td>\n",
        "      <td>52</td>\n",
        "      <td>60</td>\n",
        "      <td>50</td>\n",
        "      <td>48</td>\n",
        "    </tr>\n",
        "    <tr>\n",
        "      <th>2012</th>\n",
        "      <td>38</td>\n",
        "      <td>43</td>\n",
        "      <td>52</td>\n",
        "      <td>62</td>\n",
        "      <td>71</td>\n",
        "      <td>59</td>\n",
        "      <td>50</td>\n",
        "      <td>56</td>\n",
        "      <td>68</td>\n",
        "      <td>73</td>\n",
        "      <td>69</td>\n",
        "      <td>46</td>\n",
        "    </tr>\n",
        "    <tr>\n",
        "      <th>2013</th>\n",
        "      <td>62</td>\n",
        "      <td>52</td>\n",
        "      <td>60</td>\n",
        "      <td>48</td>\n",
        "      <td>56</td>\n",
        "      <td>61</td>\n",
        "      <td>53</td>\n",
        "      <td>61</td>\n",
        "      <td>73</td>\n",
        "      <td>61</td>\n",
        "      <td>75</td>\n",
        "      <td>61</td>\n",
        "    </tr>\n",
        "    <tr>\n",
        "      <th>2014</th>\n",
        "      <td>68</td>\n",
        "      <td>44</td>\n",
        "      <td>71</td>\n",
        "      <td>72</td>\n",
        "      <td>79</td>\n",
        "      <td>62</td>\n",
        "      <td>50</td>\n",
        "      <td>74</td>\n",
        "      <td>81</td>\n",
        "      <td>78</td>\n",
        "      <td>64</td>\n",
        "      <td>74</td>\n",
        "    </tr>\n",
        "    <tr>\n",
        "      <th>2015</th>\n",
        "      <td>75</td>\n",
        "      <td>80</td>\n",
        "      <td>84</td>\n",
        "      <td>71</td>\n",
        "      <td>0</td>\n",
        "      <td>0</td>\n",
        "      <td>0</td>\n",
        "      <td>0</td>\n",
        "      <td>0</td>\n",
        "      <td>0</td>\n",
        "      <td>0</td>\n",
        "      <td>0</td>\n",
        "    </tr>\n",
        "  </tbody>\n",
        "</table>\n",
        "</div>"
       ],
       "metadata": {},
       "output_type": "pyout",
       "prompt_number": 262,
       "text": [
        "      Jan  Feb  Mar  Apr  May  Jun  Jul  Aug  Sep  Oct  Nov  Dec\n",
        "Year                                                            \n",
        "2011   45   44   57   60   47   54   70   69   52   60   50   48\n",
        "2012   38   43   52   62   71   59   50   56   68   73   69   46\n",
        "2013   62   52   60   48   56   61   53   61   73   61   75   61\n",
        "2014   68   44   71   72   79   62   50   74   81   78   64   74\n",
        "2015   75   80   84   71    0    0    0    0    0    0    0    0"
       ]
      }
     ],
     "prompt_number": 262
    },
    {
     "cell_type": "code",
     "collapsed": false,
     "input": [
      "# This fills them with the previous year. See also temp3.interpolate\n",
      "giss_temp.fillna(method=\"ffill\").tail()"
     ],
     "language": "python",
     "metadata": {},
     "outputs": [
      {
       "html": [
        "<div style=\"max-width:1500px;overflow:auto;\">\n",
        "<table border=\"1\" class=\"dataframe\">\n",
        "  <thead>\n",
        "    <tr style=\"text-align: right;\">\n",
        "      <th></th>\n",
        "      <th>Jan</th>\n",
        "      <th>Feb</th>\n",
        "      <th>Mar</th>\n",
        "      <th>Apr</th>\n",
        "      <th>May</th>\n",
        "      <th>Jun</th>\n",
        "      <th>Jul</th>\n",
        "      <th>Aug</th>\n",
        "      <th>Sep</th>\n",
        "      <th>Oct</th>\n",
        "      <th>Nov</th>\n",
        "      <th>Dec</th>\n",
        "    </tr>\n",
        "    <tr>\n",
        "      <th>Year</th>\n",
        "      <th></th>\n",
        "      <th></th>\n",
        "      <th></th>\n",
        "      <th></th>\n",
        "      <th></th>\n",
        "      <th></th>\n",
        "      <th></th>\n",
        "      <th></th>\n",
        "      <th></th>\n",
        "      <th></th>\n",
        "      <th></th>\n",
        "      <th></th>\n",
        "    </tr>\n",
        "  </thead>\n",
        "  <tbody>\n",
        "    <tr>\n",
        "      <th>2011</th>\n",
        "      <td>45</td>\n",
        "      <td>44</td>\n",
        "      <td>57</td>\n",
        "      <td>60</td>\n",
        "      <td>47</td>\n",
        "      <td>54</td>\n",
        "      <td>70</td>\n",
        "      <td>69</td>\n",
        "      <td>52</td>\n",
        "      <td>60</td>\n",
        "      <td>50</td>\n",
        "      <td>48</td>\n",
        "    </tr>\n",
        "    <tr>\n",
        "      <th>2012</th>\n",
        "      <td>38</td>\n",
        "      <td>43</td>\n",
        "      <td>52</td>\n",
        "      <td>62</td>\n",
        "      <td>71</td>\n",
        "      <td>59</td>\n",
        "      <td>50</td>\n",
        "      <td>56</td>\n",
        "      <td>68</td>\n",
        "      <td>73</td>\n",
        "      <td>69</td>\n",
        "      <td>46</td>\n",
        "    </tr>\n",
        "    <tr>\n",
        "      <th>2013</th>\n",
        "      <td>62</td>\n",
        "      <td>52</td>\n",
        "      <td>60</td>\n",
        "      <td>48</td>\n",
        "      <td>56</td>\n",
        "      <td>61</td>\n",
        "      <td>53</td>\n",
        "      <td>61</td>\n",
        "      <td>73</td>\n",
        "      <td>61</td>\n",
        "      <td>75</td>\n",
        "      <td>61</td>\n",
        "    </tr>\n",
        "    <tr>\n",
        "      <th>2014</th>\n",
        "      <td>68</td>\n",
        "      <td>44</td>\n",
        "      <td>71</td>\n",
        "      <td>72</td>\n",
        "      <td>79</td>\n",
        "      <td>62</td>\n",
        "      <td>50</td>\n",
        "      <td>74</td>\n",
        "      <td>81</td>\n",
        "      <td>78</td>\n",
        "      <td>64</td>\n",
        "      <td>74</td>\n",
        "    </tr>\n",
        "    <tr>\n",
        "      <th>2015</th>\n",
        "      <td>75</td>\n",
        "      <td>80</td>\n",
        "      <td>84</td>\n",
        "      <td>71</td>\n",
        "      <td>79</td>\n",
        "      <td>62</td>\n",
        "      <td>50</td>\n",
        "      <td>74</td>\n",
        "      <td>81</td>\n",
        "      <td>78</td>\n",
        "      <td>64</td>\n",
        "      <td>74</td>\n",
        "    </tr>\n",
        "  </tbody>\n",
        "</table>\n",
        "</div>"
       ],
       "metadata": {},
       "output_type": "pyout",
       "prompt_number": 263,
       "text": [
        "      Jan  Feb  Mar  Apr  May  Jun  Jul  Aug  Sep  Oct  Nov  Dec\n",
        "Year                                                            \n",
        "2011   45   44   57   60   47   54   70   69   52   60   50   48\n",
        "2012   38   43   52   62   71   59   50   56   68   73   69   46\n",
        "2013   62   52   60   48   56   61   53   61   73   61   75   61\n",
        "2014   68   44   71   72   79   62   50   74   81   78   64   74\n",
        "2015   75   80   84   71   79   62   50   74   81   78   64   74"
       ]
      }
     ],
     "prompt_number": 263
    },
    {
     "cell_type": "markdown",
     "metadata": {},
     "source": [
      "Let's also mention the `.interpolate` method on a `Series`:"
     ]
    },
    {
     "cell_type": "code",
     "collapsed": false,
     "input": [
      "giss_temp.Aug.interpolate().tail()"
     ],
     "language": "python",
     "metadata": {},
     "outputs": [
      {
       "metadata": {},
       "output_type": "pyout",
       "prompt_number": 264,
       "text": [
        "Year\n",
        "2011    69\n",
        "2012    56\n",
        "2013    61\n",
        "2014    74\n",
        "2015    74\n",
        "Name: Aug, dtype: float32"
       ]
      }
     ],
     "prompt_number": 264
    },
    {
     "cell_type": "markdown",
     "metadata": {},
     "source": [
      "For now, we will leave the missing values in all our datasets, because it wouldn't be meaningful to fill them."
     ]
    },
    {
     "cell_type": "markdown",
     "metadata": {},
     "source": [
      "**EXERCISE:** Go back to the reading functions, and learn more about other options that could have allowed us to fold some of these pre-processing steps into the data loading."
     ]
    },
    {
     "cell_type": "heading",
     "level": 2,
     "metadata": {},
     "source": [
      "4. Basic visualization"
     ]
    },
    {
     "cell_type": "markdown",
     "metadata": {},
     "source": [
      "Now they have been formatted, visualizing your datasets is the next logical step and is trivial with Pandas. The first thing to try is to invoke the `.plot` to generate a basic visualization (uses matplotlib under the covers)."
     ]
    },
    {
     "cell_type": "heading",
     "level": 3,
     "metadata": {},
     "source": [
      "Line plots"
     ]
    },
    {
     "cell_type": "code",
     "collapsed": false,
     "input": [
      "full_globe_temp.plot()"
     ],
     "language": "python",
     "metadata": {},
     "outputs": [
      {
       "metadata": {},
       "output_type": "pyout",
       "prompt_number": 265,
       "text": [
        "<matplotlib.axes._subplots.AxesSubplot at 0x11af3f0d0>"
       ]
      },
      {
       "metadata": {},
       "output_type": "display_data",
       "png": "[encoded data removed]",
       "text": [
        "<matplotlib.figure.Figure at 0x11c843310>"
       ]
      }
     ],
     "prompt_number": 265
    },
    {
     "cell_type": "code",
     "collapsed": false,
     "input": [
      "giss_temp.plot(figsize=LARGE_FIGSIZE)"
     ],
     "language": "python",
     "metadata": {},
     "outputs": [
      {
       "metadata": {},
       "output_type": "pyout",
       "prompt_number": 266,
       "text": [
        "<matplotlib.axes._subplots.AxesSubplot at 0x11c7bb2d0>"
       ]
      },
      {
       "metadata": {},
       "output_type": "display_data",
       "png": "[encoded data removed]",
       "text": [
        "<matplotlib.figure.Figure at 0x11bc9dbd0>"
       ]
      }
     ],
     "prompt_number": 266
    },
    {
     "cell_type": "code",
     "collapsed": false,
     "input": [
      "mean_sea_level.plot(subplots=True, figsize=(16, 12));"
     ],
     "language": "python",
     "metadata": {},
     "outputs": [
      {
       "metadata": {},
       "output_type": "display_data",
       "png": "[encoded data removed]",
       "text": [
        "<matplotlib.figure.Figure at 0x11e81cb50>"
       ]
      }
     ],
     "prompt_number": 267
    },
    {
     "cell_type": "heading",
     "level": 3,
     "metadata": {},
     "source": [
      "Showing distributions information"
     ]
    },
    {
     "cell_type": "code",
     "collapsed": false,
     "input": [
      "# Distributions of mean sean level globally and per hemisphere?\n",
      "mean_sea_level.plot(kind=\"kde\", figsize=(12, 8))"
     ],
     "language": "python",
     "metadata": {},
     "outputs": [
      {
       "metadata": {},
       "output_type": "pyout",
       "prompt_number": 268,
       "text": [
        "<matplotlib.axes._subplots.AxesSubplot at 0x11d9add10>"
       ]
      },
      {
       "metadata": {},
       "output_type": "display_data",
       "png": "[encoded data removed]",
       "text": [
        "<matplotlib.figure.Figure at 0x11b9f3bd0>"
       ]
      }
     ],
     "prompt_number": 268
    },
    {
     "cell_type": "markdown",
     "metadata": {},
     "source": [
      "**QUIZ:** How to list the possible kinds of plots that the plot method can allow?"
     ]
    },
    {
     "cell_type": "code",
     "collapsed": false,
     "input": [
      "# Distributions of temperature in each month since 1880\n",
      "giss_temp.boxplot();"
     ],
     "language": "python",
     "metadata": {},
     "outputs": [
      {
       "metadata": {},
       "output_type": "display_data",
       "png": "[encoded data removed]",
       "text": [
        "<matplotlib.figure.Figure at 0x11c5e3b10>"
       ]
      }
     ],
     "prompt_number": 269
    },
    {
     "cell_type": "heading",
     "level": 3,
     "metadata": {},
     "source": [
      "Correlations"
     ]
    },
    {
     "cell_type": "markdown",
     "metadata": {},
     "source": [
      "There are more plot options inside `pandas.tools.plotting`:"
     ]
    },
    {
     "cell_type": "code",
     "collapsed": false,
     "input": [
      "# Is there correlations between the northern and southern sea level timeseries we loaded?\n",
      "from pandas.tools.plotting import scatter_matrix\n",
      "scatter_matrix(mean_sea_level, figsize=LARGE_FIGSIZE);"
     ],
     "language": "python",
     "metadata": {},
     "outputs": [
      {
       "metadata": {},
       "output_type": "display_data",
       "png": "[encoded data removed]",
       "text": [
        "<matplotlib.figure.Figure at 0x11e20ce90>"
       ]
      }
     ],
     "prompt_number": 270
    },
    {
     "cell_type": "markdown",
     "metadata": {},
     "source": [
      "We will confirm the correlations we think we see further down..."
     ]
    },
    {
     "cell_type": "markdown",
     "metadata": {},
     "source": [
      "**EXERCISE:** Refer to `exercises/aapl_adj_close_plot/aapl_adj_close_plot.ipynb`"
     ]
    },
    {
     "cell_type": "heading",
     "level": 2,
     "metadata": {},
     "source": [
      "5. Accessing data"
     ]
    },
    {
     "cell_type": "markdown",
     "metadata": {},
     "source": [
      "The general philosophy for accessing values inside a Pandas datastructure is that, unlike a numpy array that only allows to index using integers a Series allows to index with the values inside the index. That makes the code more readable."
     ]
    },
    {
     "cell_type": "heading",
     "level": 3,
     "metadata": {},
     "source": [
      "In a series"
     ]
    },
    {
     "cell_type": "code",
     "collapsed": false,
     "input": [
      "full_globe_temp"
     ],
     "language": "python",
     "metadata": {},
     "outputs": [
      {
       "metadata": {},
       "output_type": "pyout",
       "prompt_number": 271,
       "text": [
        "year\n",
        "1880-01-01 00:00:00   -0.1591\n",
        "1881-01-01 00:00:00   -0.0789\n",
        "1882-01-01 00:00:00   -0.1313\n",
        "1883-01-01 00:00:00   -0.1675\n",
        "1884-01-01 00:00:00   -0.2485\n",
        "1885-01-01 00:00:00   -0.2042\n",
        "1886-01-01 00:00:00   -0.1695\n",
        "1887-01-01 00:00:00   -0.2505\n",
        "                        ...  \n",
        "2003-01-01             0.5818\n",
        "2004-01-01             0.5416\n",
        "2005-01-01             0.6154\n",
        "2006-01-01             0.5601\n",
        "2007-01-01             0.5472\n",
        "2008-01-01             0.4804\n",
        "2009-01-01             0.5551\n",
        "2010-01-01                NaN\n",
        "Name: mean temp, dtype: float64"
       ]
      }
     ],
     "prompt_number": 271
    },
    {
     "cell_type": "code",
     "collapsed": false,
     "input": [
      "# By default [] on a series accesses values using the index, not the location in the series\n",
      "# print(temp1[0])  # This would to fail!!"
     ],
     "language": "python",
     "metadata": {},
     "outputs": [],
     "prompt_number": 272
    },
    {
     "cell_type": "code",
     "collapsed": false,
     "input": [
      "# This index is non-trivial though (will talk more about these datetime objects further down):\n",
      "full_globe_temp.index.dtype"
     ],
     "language": "python",
     "metadata": {},
     "outputs": [
      {
       "metadata": {},
       "output_type": "pyout",
       "prompt_number": 273,
       "text": [
        "dtype('<M8[ns]')"
       ]
      }
     ],
     "prompt_number": 273
    },
    {
     "cell_type": "code",
     "collapsed": false,
     "input": [
      "first_date = full_globe_temp.index[0]\n",
      "first_date == pd.Timestamp('1880')"
     ],
     "language": "python",
     "metadata": {},
     "outputs": [
      {
       "metadata": {},
       "output_type": "pyout",
       "prompt_number": 274,
       "text": [
        "True"
       ]
      }
     ],
     "prompt_number": 274
    },
    {
     "cell_type": "code",
     "collapsed": false,
     "input": [
      "# By default [] on a series accesses values using the index, not the location in the series\n",
      "print(full_globe_temp[pd.Timestamp('1880')])\n",
      "# print(temp1[0])  # This would fail!!"
     ],
     "language": "python",
     "metadata": {},
     "outputs": [
      {
       "output_type": "stream",
       "stream": "stdout",
       "text": [
        "-0.1591\n"
       ]
      }
     ],
     "prompt_number": 275
    },
    {
     "cell_type": "code",
     "collapsed": false,
     "input": [
      "# Another more explicit way to do the same thing is to use loc\n",
      "print(full_globe_temp.loc[pd.Timestamp('1990')])\n",
      "print(full_globe_temp.iloc[0], full_globe_temp.iloc[-1])"
     ],
     "language": "python",
     "metadata": {},
     "outputs": [
      {
       "output_type": "stream",
       "stream": "stdout",
       "text": [
        "0.3861\n",
        "(-0.15909999999999999, nan)\n"
       ]
      }
     ],
     "prompt_number": 276
    },
    {
     "cell_type": "code",
     "collapsed": false,
     "input": [
      "# Year of the last record?\n",
      "full_globe_temp.index[-1]"
     ],
     "language": "python",
     "metadata": {},
     "outputs": [
      {
       "metadata": {},
       "output_type": "pyout",
       "prompt_number": 277,
       "text": [
        "Timestamp('2010-01-01 00:00:00')"
       ]
      }
     ],
     "prompt_number": 277
    },
    {
     "cell_type": "code",
     "collapsed": false,
     "input": [
      "# New records can be added:\n",
      "full_globe_temp[pd.Timestamp('2011')] = np.nan"
     ],
     "language": "python",
     "metadata": {},
     "outputs": [],
     "prompt_number": 278
    },
    {
     "cell_type": "heading",
     "level": 3,
     "metadata": {},
     "source": [
      "In a dataframe"
     ]
    },
    {
     "cell_type": "code",
     "collapsed": false,
     "input": [
      "# In 2D, same idea, though in a DF [] accesses columns (Series)\n",
      "giss_temp[\"Jan\"]"
     ],
     "language": "python",
     "metadata": {},
     "outputs": [
      {
       "metadata": {},
       "output_type": "pyout",
       "prompt_number": 279,
       "text": [
        "Year\n",
        "1880   -34\n",
        "1881   -13\n",
        "1882     3\n",
        "1883   -38\n",
        "1884   -20\n",
        "1885   -57\n",
        "1886   -37\n",
        "1887   -60\n",
        "        ..\n",
        "2008    22\n",
        "2009    56\n",
        "2010    66\n",
        "2011    45\n",
        "2012    38\n",
        "2013    62\n",
        "2014    68\n",
        "2015    75\n",
        "Name: Jan, dtype: float32"
       ]
      }
     ],
     "prompt_number": 279
    },
    {
     "cell_type": "code",
     "collapsed": false,
     "input": [
      "# while .loc and .iloc allow to access individual values, slices or masked selections:\n",
      "print(giss_temp.loc[1979, \"Dec\"])"
     ],
     "language": "python",
     "metadata": {},
     "outputs": [
      {
       "output_type": "stream",
       "stream": "stdout",
       "text": [
        "43.0\n"
       ]
      }
     ],
     "prompt_number": 280
    },
    {
     "cell_type": "code",
     "collapsed": false,
     "input": [
      "# Slicing can be done with .loc and .iloc\n",
      "print(giss_temp.loc[1979, \"Jan\":\"Jun\"])  # Note that the end point is included unlike NumPy!!!\n",
      "print(giss_temp.loc[1979, ::2])"
     ],
     "language": "python",
     "metadata": {},
     "outputs": [
      {
       "output_type": "stream",
       "stream": "stdout",
       "text": [
        "Jan    10\n",
        "Feb   -12\n",
        "Mar    14\n",
        "Apr     8\n",
        "May     1\n",
        "Jun     9\n",
        "Name: 1979, dtype: float32\n",
        "Jan    10\n",
        "Mar    14\n",
        "May     1\n",
        "Jul    -3\n",
        "Sep    20\n",
        "Nov    24\n",
        "Name: 1979, dtype: float32\n"
       ]
      }
     ],
     "prompt_number": 281
    },
    {
     "cell_type": "code",
     "collapsed": false,
     "input": [
      "# Masking can also be used in one or more dimensions. For example, another way to grab every other month for the first year:\n",
      "mask = [True, False] * 6\n",
      "print(giss_temp.iloc[0, mask])\n",
      "print(giss_temp.loc[1880, mask])"
     ],
     "language": "python",
     "metadata": {},
     "outputs": [
      {
       "output_type": "stream",
       "stream": "stdout",
       "text": [
        "Jan   -34\n",
        "Mar   -22\n",
        "May   -16\n",
        "Jul   -19\n",
        "Sep   -20\n",
        "Nov   -16\n",
        "Name: 1880, dtype: float32\n",
        "Jan   -34\n",
        "Mar   -22\n",
        "May   -16\n",
        "Jul   -19\n",
        "Sep   -20\n",
        "Nov   -16\n",
        "Name: 1880, dtype: float32\n"
       ]
      }
     ],
     "prompt_number": 282
    },
    {
     "cell_type": "code",
     "collapsed": false,
     "input": [
      "# We could also add a new column like a new entry in a dictionary\n",
      "giss_temp[\"totals\"] = giss_temp.sum(axis=1)\n",
      "giss_temp"
     ],
     "language": "python",
     "metadata": {},
     "outputs": [
      {
       "html": [
        "<div style=\"max-width:1500px;overflow:auto;\">\n",
        "<table border=\"1\" class=\"dataframe\">\n",
        "  <thead>\n",
        "    <tr style=\"text-align: right;\">\n",
        "      <th></th>\n",
        "      <th>Jan</th>\n",
        "      <th>Feb</th>\n",
        "      <th>Mar</th>\n",
        "      <th>Apr</th>\n",
        "      <th>May</th>\n",
        "      <th>Jun</th>\n",
        "      <th>Jul</th>\n",
        "      <th>Aug</th>\n",
        "      <th>Sep</th>\n",
        "      <th>Oct</th>\n",
        "      <th>Nov</th>\n",
        "      <th>Dec</th>\n",
        "      <th>totals</th>\n",
        "    </tr>\n",
        "    <tr>\n",
        "      <th>Year</th>\n",
        "      <th></th>\n",
        "      <th></th>\n",
        "      <th></th>\n",
        "      <th></th>\n",
        "      <th></th>\n",
        "      <th></th>\n",
        "      <th></th>\n",
        "      <th></th>\n",
        "      <th></th>\n",
        "      <th></th>\n",
        "      <th></th>\n",
        "      <th></th>\n",
        "      <th></th>\n",
        "    </tr>\n",
        "  </thead>\n",
        "  <tbody>\n",
        "    <tr>\n",
        "      <th>1880</th>\n",
        "      <td>-34</td>\n",
        "      <td>-27</td>\n",
        "      <td>-22</td>\n",
        "      <td>-30</td>\n",
        "      <td>-16</td>\n",
        "      <td>-24</td>\n",
        "      <td>-19</td>\n",
        "      <td>-12</td>\n",
        "      <td>-20</td>\n",
        "      <td>-19</td>\n",
        "      <td>-16</td>\n",
        "      <td>-21</td>\n",
        "      <td>-260</td>\n",
        "    </tr>\n",
        "    <tr>\n",
        "      <th>1881</th>\n",
        "      <td>-13</td>\n",
        "      <td>-16</td>\n",
        "      <td>-2</td>\n",
        "      <td>-3</td>\n",
        "      <td>-3</td>\n",
        "      <td>-27</td>\n",
        "      <td>-12</td>\n",
        "      <td>-8</td>\n",
        "      <td>-18</td>\n",
        "      <td>-23</td>\n",
        "      <td>-28</td>\n",
        "      <td>-18</td>\n",
        "      <td>-171</td>\n",
        "    </tr>\n",
        "    <tr>\n",
        "      <th>1882</th>\n",
        "      <td>3</td>\n",
        "      <td>4</td>\n",
        "      <td>-2</td>\n",
        "      <td>-24</td>\n",
        "      <td>-20</td>\n",
        "      <td>-32</td>\n",
        "      <td>-27</td>\n",
        "      <td>-11</td>\n",
        "      <td>-11</td>\n",
        "      <td>-25</td>\n",
        "      <td>-25</td>\n",
        "      <td>-37</td>\n",
        "      <td>-207</td>\n",
        "    </tr>\n",
        "    <tr>\n",
        "      <th>1883</th>\n",
        "      <td>-38</td>\n",
        "      <td>-38</td>\n",
        "      <td>-12</td>\n",
        "      <td>-20</td>\n",
        "      <td>-20</td>\n",
        "      <td>-8</td>\n",
        "      <td>-3</td>\n",
        "      <td>-13</td>\n",
        "      <td>-19</td>\n",
        "      <td>-19</td>\n",
        "      <td>-28</td>\n",
        "      <td>-21</td>\n",
        "      <td>-239</td>\n",
        "    </tr>\n",
        "    <tr>\n",
        "      <th>1884</th>\n",
        "      <td>-20</td>\n",
        "      <td>-14</td>\n",
        "      <td>-31</td>\n",
        "      <td>-36</td>\n",
        "      <td>-33</td>\n",
        "      <td>-36</td>\n",
        "      <td>-31</td>\n",
        "      <td>-24</td>\n",
        "      <td>-29</td>\n",
        "      <td>-25</td>\n",
        "      <td>-29</td>\n",
        "      <td>-25</td>\n",
        "      <td>-333</td>\n",
        "    </tr>\n",
        "    <tr>\n",
        "      <th>1885</th>\n",
        "      <td>-57</td>\n",
        "      <td>-29</td>\n",
        "      <td>-19</td>\n",
        "      <td>-36</td>\n",
        "      <td>-35</td>\n",
        "      <td>-40</td>\n",
        "      <td>-28</td>\n",
        "      <td>-24</td>\n",
        "      <td>-17</td>\n",
        "      <td>-14</td>\n",
        "      <td>-14</td>\n",
        "      <td>0</td>\n",
        "      <td>-313</td>\n",
        "    </tr>\n",
        "    <tr>\n",
        "      <th>1886</th>\n",
        "      <td>-37</td>\n",
        "      <td>-43</td>\n",
        "      <td>-34</td>\n",
        "      <td>-23</td>\n",
        "      <td>-21</td>\n",
        "      <td>-30</td>\n",
        "      <td>-13</td>\n",
        "      <td>-21</td>\n",
        "      <td>-12</td>\n",
        "      <td>-22</td>\n",
        "      <td>-29</td>\n",
        "      <td>-18</td>\n",
        "      <td>-303</td>\n",
        "    </tr>\n",
        "    <tr>\n",
        "      <th>1887</th>\n",
        "      <td>-60</td>\n",
        "      <td>-43</td>\n",
        "      <td>-26</td>\n",
        "      <td>-34</td>\n",
        "      <td>-28</td>\n",
        "      <td>-25</td>\n",
        "      <td>-19</td>\n",
        "      <td>-28</td>\n",
        "      <td>-24</td>\n",
        "      <td>-33</td>\n",
        "      <td>-29</td>\n",
        "      <td>-40</td>\n",
        "      <td>-389</td>\n",
        "    </tr>\n",
        "    <tr>\n",
        "      <th>...</th>\n",
        "      <td>...</td>\n",
        "      <td>...</td>\n",
        "      <td>...</td>\n",
        "      <td>...</td>\n",
        "      <td>...</td>\n",
        "      <td>...</td>\n",
        "      <td>...</td>\n",
        "      <td>...</td>\n",
        "      <td>...</td>\n",
        "      <td>...</td>\n",
        "      <td>...</td>\n",
        "      <td>...</td>\n",
        "      <td>...</td>\n",
        "    </tr>\n",
        "    <tr>\n",
        "      <th>2008</th>\n",
        "      <td>22</td>\n",
        "      <td>31</td>\n",
        "      <td>70</td>\n",
        "      <td>48</td>\n",
        "      <td>46</td>\n",
        "      <td>43</td>\n",
        "      <td>54</td>\n",
        "      <td>39</td>\n",
        "      <td>59</td>\n",
        "      <td>62</td>\n",
        "      <td>62</td>\n",
        "      <td>51</td>\n",
        "      <td>587</td>\n",
        "    </tr>\n",
        "    <tr>\n",
        "      <th>2009</th>\n",
        "      <td>56</td>\n",
        "      <td>48</td>\n",
        "      <td>49</td>\n",
        "      <td>57</td>\n",
        "      <td>59</td>\n",
        "      <td>62</td>\n",
        "      <td>66</td>\n",
        "      <td>61</td>\n",
        "      <td>64</td>\n",
        "      <td>58</td>\n",
        "      <td>72</td>\n",
        "      <td>58</td>\n",
        "      <td>710</td>\n",
        "    </tr>\n",
        "    <tr>\n",
        "      <th>2010</th>\n",
        "      <td>66</td>\n",
        "      <td>75</td>\n",
        "      <td>87</td>\n",
        "      <td>82</td>\n",
        "      <td>71</td>\n",
        "      <td>60</td>\n",
        "      <td>56</td>\n",
        "      <td>59</td>\n",
        "      <td>55</td>\n",
        "      <td>65</td>\n",
        "      <td>74</td>\n",
        "      <td>44</td>\n",
        "      <td>794</td>\n",
        "    </tr>\n",
        "    <tr>\n",
        "      <th>2011</th>\n",
        "      <td>45</td>\n",
        "      <td>44</td>\n",
        "      <td>57</td>\n",
        "      <td>60</td>\n",
        "      <td>47</td>\n",
        "      <td>54</td>\n",
        "      <td>70</td>\n",
        "      <td>69</td>\n",
        "      <td>52</td>\n",
        "      <td>60</td>\n",
        "      <td>50</td>\n",
        "      <td>48</td>\n",
        "      <td>656</td>\n",
        "    </tr>\n",
        "    <tr>\n",
        "      <th>2012</th>\n",
        "      <td>38</td>\n",
        "      <td>43</td>\n",
        "      <td>52</td>\n",
        "      <td>62</td>\n",
        "      <td>71</td>\n",
        "      <td>59</td>\n",
        "      <td>50</td>\n",
        "      <td>56</td>\n",
        "      <td>68</td>\n",
        "      <td>73</td>\n",
        "      <td>69</td>\n",
        "      <td>46</td>\n",
        "      <td>687</td>\n",
        "    </tr>\n",
        "    <tr>\n",
        "      <th>2013</th>\n",
        "      <td>62</td>\n",
        "      <td>52</td>\n",
        "      <td>60</td>\n",
        "      <td>48</td>\n",
        "      <td>56</td>\n",
        "      <td>61</td>\n",
        "      <td>53</td>\n",
        "      <td>61</td>\n",
        "      <td>73</td>\n",
        "      <td>61</td>\n",
        "      <td>75</td>\n",
        "      <td>61</td>\n",
        "      <td>723</td>\n",
        "    </tr>\n",
        "    <tr>\n",
        "      <th>2014</th>\n",
        "      <td>68</td>\n",
        "      <td>44</td>\n",
        "      <td>71</td>\n",
        "      <td>72</td>\n",
        "      <td>79</td>\n",
        "      <td>62</td>\n",
        "      <td>50</td>\n",
        "      <td>74</td>\n",
        "      <td>81</td>\n",
        "      <td>78</td>\n",
        "      <td>64</td>\n",
        "      <td>74</td>\n",
        "      <td>817</td>\n",
        "    </tr>\n",
        "    <tr>\n",
        "      <th>2015</th>\n",
        "      <td>75</td>\n",
        "      <td>80</td>\n",
        "      <td>84</td>\n",
        "      <td>71</td>\n",
        "      <td>NaN</td>\n",
        "      <td>NaN</td>\n",
        "      <td>NaN</td>\n",
        "      <td>NaN</td>\n",
        "      <td>NaN</td>\n",
        "      <td>NaN</td>\n",
        "      <td>NaN</td>\n",
        "      <td>NaN</td>\n",
        "      <td>310</td>\n",
        "    </tr>\n",
        "  </tbody>\n",
        "</table>\n",
        "<p>136 rows \u00d7 13 columns</p>\n",
        "</div>"
       ],
       "metadata": {},
       "output_type": "pyout",
       "prompt_number": 283,
       "text": [
        "      Jan  Feb  Mar  Apr  May  Jun  Jul  Aug  Sep  Oct  Nov  Dec  totals\n",
        "Year                                                                    \n",
        "1880  -34  -27  -22  -30  -16  -24  -19  -12  -20  -19  -16  -21    -260\n",
        "1881  -13  -16   -2   -3   -3  -27  -12   -8  -18  -23  -28  -18    -171\n",
        "1882    3    4   -2  -24  -20  -32  -27  -11  -11  -25  -25  -37    -207\n",
        "1883  -38  -38  -12  -20  -20   -8   -3  -13  -19  -19  -28  -21    -239\n",
        "1884  -20  -14  -31  -36  -33  -36  -31  -24  -29  -25  -29  -25    -333\n",
        "1885  -57  -29  -19  -36  -35  -40  -28  -24  -17  -14  -14    0    -313\n",
        "1886  -37  -43  -34  -23  -21  -30  -13  -21  -12  -22  -29  -18    -303\n",
        "1887  -60  -43  -26  -34  -28  -25  -19  -28  -24  -33  -29  -40    -389\n",
        "...   ...  ...  ...  ...  ...  ...  ...  ...  ...  ...  ...  ...     ...\n",
        "2008   22   31   70   48   46   43   54   39   59   62   62   51     587\n",
        "2009   56   48   49   57   59   62   66   61   64   58   72   58     710\n",
        "2010   66   75   87   82   71   60   56   59   55   65   74   44     794\n",
        "2011   45   44   57   60   47   54   70   69   52   60   50   48     656\n",
        "2012   38   43   52   62   71   59   50   56   68   73   69   46     687\n",
        "2013   62   52   60   48   56   61   53   61   73   61   75   61     723\n",
        "2014   68   44   71   72   79   62   50   74   81   78   64   74     817\n",
        "2015   75   80   84   71  NaN  NaN  NaN  NaN  NaN  NaN  NaN  NaN     310\n",
        "\n",
        "[136 rows x 13 columns]"
       ]
      }
     ],
     "prompt_number": 283
    },
    {
     "cell_type": "code",
     "collapsed": false,
     "input": [
      "# Let's remove this new column, we will learn to do this differently\n",
      "giss_temp = giss_temp.drop(\"totals\", axis=1)"
     ],
     "language": "python",
     "metadata": {},
     "outputs": [],
     "prompt_number": 284
    },
    {
     "cell_type": "markdown",
     "metadata": {},
     "source": [
      "More complex queries rely on the same concepts. For example what are the names, and IDs of the sea level stations in the USA?"
     ]
    },
    {
     "cell_type": "code",
     "collapsed": false,
     "input": [
      "local_sea_level_stations.columns"
     ],
     "language": "python",
     "metadata": {},
     "outputs": [
      {
       "metadata": {},
       "output_type": "pyout",
       "prompt_number": 285,
       "text": [
        "Index([u'Station Name',           u'ID',          u'Lat',          u'Lon',\n",
        "           u'GLOSS ID',      u'Country',         u'Date',    u'Coastline',\n",
        "            u'Station'],\n",
        "      dtype='object')"
       ]
      }
     ],
     "prompt_number": 285
    },
    {
     "cell_type": "code",
     "collapsed": false,
     "input": [
      "american_stations = local_sea_level_stations[\"Country\"] == \"USA\"\n",
      "local_sea_level_stations.loc[american_stations, [\"ID\", \"Station Name\"]]"
     ],
     "language": "python",
     "metadata": {},
     "outputs": [
      {
       "html": [
        "<div style=\"max-width:1500px;overflow:auto;\">\n",
        "<table border=\"1\" class=\"dataframe\">\n",
        "  <thead>\n",
        "    <tr style=\"text-align: right;\">\n",
        "      <th></th>\n",
        "      <th>ID</th>\n",
        "      <th>Station Name</th>\n",
        "    </tr>\n",
        "  </thead>\n",
        "  <tbody>\n",
        "    <tr>\n",
        "      <th>1237</th>\n",
        "      <td>1372</td>\n",
        "      <td>FRENCH FRIGATE SHOALS</td>\n",
        "    </tr>\n",
        "    <tr>\n",
        "      <th>1238</th>\n",
        "      <td>2192</td>\n",
        "      <td>FRENCH FRIGATE SHOALS B</td>\n",
        "    </tr>\n",
        "    <tr>\n",
        "      <th>1239</th>\n",
        "      <td>2129</td>\n",
        "      <td>PORT ALLEN, HANAPEPE BAY, KAUAI ISLAND</td>\n",
        "    </tr>\n",
        "    <tr>\n",
        "      <th>1240</th>\n",
        "      <td>756</td>\n",
        "      <td>NAWILIWILI BAY, KAUAI ISLAND</td>\n",
        "    </tr>\n",
        "    <tr>\n",
        "      <th>1241</th>\n",
        "      <td>155</td>\n",
        "      <td>HONOLULU</td>\n",
        "    </tr>\n",
        "    <tr>\n",
        "      <th>1242</th>\n",
        "      <td>823</td>\n",
        "      <td>MOKUOLOE ISLAND</td>\n",
        "    </tr>\n",
        "    <tr>\n",
        "      <th>1243</th>\n",
        "      <td>521</td>\n",
        "      <td>KAHULUI HARBOR, MAUI ISLAND</td>\n",
        "    </tr>\n",
        "    <tr>\n",
        "      <th>1244</th>\n",
        "      <td>2128</td>\n",
        "      <td>KAWAIHAE, HAWAII ISLAND</td>\n",
        "    </tr>\n",
        "    <tr>\n",
        "      <th>...</th>\n",
        "      <td>...</td>\n",
        "      <td>...</td>\n",
        "    </tr>\n",
        "    <tr>\n",
        "      <th>1393</th>\n",
        "      <td>235</td>\n",
        "      <td>BOSTON</td>\n",
        "    </tr>\n",
        "    <tr>\n",
        "      <th>1394</th>\n",
        "      <td>288</td>\n",
        "      <td>SEAVEY ISLAND</td>\n",
        "    </tr>\n",
        "    <tr>\n",
        "      <th>1395</th>\n",
        "      <td>183</td>\n",
        "      <td>PORTLAND (MAINE)</td>\n",
        "    </tr>\n",
        "    <tr>\n",
        "      <th>1396</th>\n",
        "      <td>1279</td>\n",
        "      <td>ROCKLAND</td>\n",
        "    </tr>\n",
        "    <tr>\n",
        "      <th>1397</th>\n",
        "      <td>525</td>\n",
        "      <td>BAR HARBOR, FRENCHMAN BAY, ME</td>\n",
        "    </tr>\n",
        "    <tr>\n",
        "      <th>1398</th>\n",
        "      <td>1524</td>\n",
        "      <td>CUTLER II</td>\n",
        "    </tr>\n",
        "    <tr>\n",
        "      <th>1399</th>\n",
        "      <td>1081</td>\n",
        "      <td>CUTLER</td>\n",
        "    </tr>\n",
        "    <tr>\n",
        "      <th>1400</th>\n",
        "      <td>332</td>\n",
        "      <td>EASTPORT</td>\n",
        "    </tr>\n",
        "  </tbody>\n",
        "</table>\n",
        "<p>164 rows \u00d7 2 columns</p>\n",
        "</div>"
       ],
       "metadata": {},
       "output_type": "pyout",
       "prompt_number": 286,
       "text": [
        "        ID                            Station Name\n",
        "1237  1372                   FRENCH FRIGATE SHOALS\n",
        "1238  2192                 FRENCH FRIGATE SHOALS B\n",
        "1239  2129  PORT ALLEN, HANAPEPE BAY, KAUAI ISLAND\n",
        "1240   756            NAWILIWILI BAY, KAUAI ISLAND\n",
        "1241   155                                HONOLULU\n",
        "1242   823                         MOKUOLOE ISLAND\n",
        "1243   521             KAHULUI HARBOR, MAUI ISLAND\n",
        "1244  2128                 KAWAIHAE, HAWAII ISLAND\n",
        "...    ...                                     ...\n",
        "1393   235                                  BOSTON\n",
        "1394   288                           SEAVEY ISLAND\n",
        "1395   183                        PORTLAND (MAINE)\n",
        "1396  1279                                ROCKLAND\n",
        "1397   525           BAR HARBOR, FRENCHMAN BAY, ME\n",
        "1398  1524                               CUTLER II\n",
        "1399  1081                                  CUTLER\n",
        "1400   332                                EASTPORT\n",
        "\n",
        "[164 rows x 2 columns]"
       ]
      }
     ],
     "prompt_number": 286
    },
    {
     "cell_type": "heading",
     "level": 2,
     "metadata": {},
     "source": [
      "6. Working with dates and times"
     ]
    },
    {
     "cell_type": "markdown",
     "metadata": {},
     "source": [
      "More details at http://pandas.pydata.org/pandas-docs/stable/timeseries.html"
     ]
    },
    {
     "cell_type": "markdown",
     "metadata": {},
     "source": [
      "Let's work some more with `full_globe_temp`'s index since we saw it is special."
     ]
    },
    {
     "cell_type": "code",
     "collapsed": false,
     "input": [
      "# Its dtype is NumPy's new 'datetime64[ns]':\n",
      "full_globe_temp.index.dtype"
     ],
     "language": "python",
     "metadata": {},
     "outputs": [
      {
       "metadata": {},
       "output_type": "pyout",
       "prompt_number": 287,
       "text": [
        "dtype('<M8[ns]')"
       ]
      }
     ],
     "prompt_number": 287
    },
    {
     "cell_type": "markdown",
     "metadata": {},
     "source": [
      "The advantage of having a real datetime index is that operations can be done efficiently on it. Let's add a flag to signal if the value is before or after the great depression's black Friday:"
     ]
    },
    {
     "cell_type": "code",
     "collapsed": false,
     "input": [
      "black_friday = pd.to_datetime('1929-10-29')\n",
      "full_globe_temp.index > black_friday"
     ],
     "language": "python",
     "metadata": {},
     "outputs": [
      {
       "metadata": {},
       "output_type": "pyout",
       "prompt_number": 288,
       "text": [
        "array([False, False, False, False, False, False, False, False, False,\n",
        "       False, False, False, False, False, False, False, False, False,\n",
        "       False, False, False, False, False, False, False, False, False,\n",
        "       False, False, False, False, False, False, False, False, False,\n",
        "       False, False, False, False, False, False, False, False, False,\n",
        "       False, False, False, False, False,  True,  True,  True,  True,\n",
        "        True,  True,  True,  True,  True,  True,  True,  True,  True,\n",
        "        True,  True,  True,  True,  True,  True,  True,  True,  True,\n",
        "        True,  True,  True,  True,  True,  True,  True,  True,  True,\n",
        "        True,  True,  True,  True,  True,  True,  True,  True,  True,\n",
        "        True,  True,  True,  True,  True,  True,  True,  True,  True,\n",
        "        True,  True,  True,  True,  True,  True,  True,  True,  True,\n",
        "        True,  True,  True,  True,  True,  True,  True,  True,  True,\n",
        "        True,  True,  True,  True,  True,  True,  True,  True,  True,\n",
        "        True,  True,  True,  True,  True,  True], dtype=bool)"
       ]
      }
     ],
     "prompt_number": 288
    },
    {
     "cell_type": "heading",
     "level": 3,
     "metadata": {},
     "source": [
      "Timestamps or periods?"
     ]
    },
    {
     "cell_type": "code",
     "collapsed": false,
     "input": [
      "# Convert its index from timestamp to period: it is more meaningfull since it was measured and averaged over the year...\n",
      "full_globe_temp.index = full_globe_temp.index.to_period()\n",
      "full_globe_temp"
     ],
     "language": "python",
     "metadata": {},
     "outputs": [
      {
       "metadata": {},
       "output_type": "pyout",
       "prompt_number": 289,
       "text": [
        "year\n",
        "1880   -0.1591\n",
        "1881   -0.0789\n",
        "1882   -0.1313\n",
        "1883   -0.1675\n",
        "1884   -0.2485\n",
        "1885   -0.2042\n",
        "1886   -0.1695\n",
        "1887   -0.2505\n",
        "         ...  \n",
        "2004    0.5416\n",
        "2005    0.6154\n",
        "2006    0.5601\n",
        "2007    0.5472\n",
        "2008    0.4804\n",
        "2009    0.5551\n",
        "2010       NaN\n",
        "2011       NaN\n",
        "Freq: A-DEC, Name: mean temp, dtype: float64"
       ]
      }
     ],
     "prompt_number": 289
    },
    {
     "cell_type": "markdown",
     "metadata": {},
     "source": [
      "See also `to_timestamp` to conver back to timestamps and its `how` method to specify when inside the range to set the timestamp."
     ]
    },
    {
     "cell_type": "heading",
     "level": 3,
     "metadata": {},
     "source": [
      "Resampling"
     ]
    },
    {
     "cell_type": "markdown",
     "metadata": {},
     "source": [
      "Another thing that can be done is to resample the series, downsample or upsample. Let's see the series converted to 10 year blocks or upscale to a monthly series:"
     ]
    },
    {
     "cell_type": "code",
     "collapsed": false,
     "input": [
      "# Frequencies can be specified as strings: \"us\", \"ms\", \"S\", \"T\", \"H\", \"D\", \"B\", \"W\", \"M\", \"A\", \"3min\", \"2h20\", ...\n",
      "# More aliases at http://pandas.pydata.org/pandas-docs/stable/timeseries.html#offset-aliases\n",
      "full_globe_temp.resample(\"M\")"
     ],
     "language": "python",
     "metadata": {},
     "outputs": [
      {
       "metadata": {},
       "output_type": "pyout",
       "prompt_number": 290,
       "text": [
        "year\n",
        "1880-01   -0.1591\n",
        "1880-02       NaN\n",
        "1880-03       NaN\n",
        "1880-04       NaN\n",
        "1880-05       NaN\n",
        "1880-06       NaN\n",
        "1880-07       NaN\n",
        "1880-08       NaN\n",
        "            ...  \n",
        "2011-05       NaN\n",
        "2011-06       NaN\n",
        "2011-07       NaN\n",
        "2011-08       NaN\n",
        "2011-09       NaN\n",
        "2011-10       NaN\n",
        "2011-11       NaN\n",
        "2011-12       NaN\n",
        "Freq: M, Name: mean temp, dtype: float64"
       ]
      }
     ],
     "prompt_number": 290
    },
    {
     "cell_type": "code",
     "collapsed": false,
     "input": [
      "full_globe_temp.resample(\"10A\", how=\"mean\")"
     ],
     "language": "python",
     "metadata": {},
     "outputs": [
      {
       "metadata": {},
       "output_type": "pyout",
       "prompt_number": 291,
       "text": [
        "year\n",
        "1880-12-31 00:00:00   -0.15910\n",
        "1890-12-31 00:00:00   -0.18226\n",
        "1900-12-31            -0.21054\n",
        "1910-12-31            -0.31381\n",
        "1920-12-31            -0.25518\n",
        "1930-12-31            -0.13395\n",
        "1940-12-31             0.00786\n",
        "1950-12-31             0.04548\n",
        "1960-12-31            -0.00198\n",
        "1970-12-31             0.02566\n",
        "1980-12-31             0.04817\n",
        "1990-12-31             0.21491\n",
        "2000-12-31             0.36288\n",
        "2010-12-31             0.55260\n",
        "2020-12-31                 NaN\n",
        "Freq: 10A-DEC, Name: mean temp, dtype: float64"
       ]
      }
     ],
     "prompt_number": 291
    },
    {
     "cell_type": "heading",
     "level": 3,
     "metadata": {},
     "source": [
      "Generating DatetimeIndex objects"
     ]
    },
    {
     "cell_type": "markdown",
     "metadata": {},
     "source": [
      "The index for `giss_temp` isn't an instance of datetimes so we may want to generate such `DatetimeIndex` objects. This can be done with `date_range` and `period_range`:"
     ]
    },
    {
     "cell_type": "code",
     "collapsed": false,
     "input": [
      "# Can specify a start date and a number of values desired. By default it will assume an interval of 1 day:\n",
      "pd.date_range('1/1/1880', periods=4)"
     ],
     "language": "python",
     "metadata": {},
     "outputs": [
      {
       "metadata": {},
       "output_type": "pyout",
       "prompt_number": 292,
       "text": [
        "DatetimeIndex(['1880-01-01', '1880-01-02', '1880-01-03', '1880-01-04'], dtype='datetime64[ns]', freq='D', tz=None)"
       ]
      }
     ],
     "prompt_number": 292
    },
    {
     "cell_type": "code",
     "collapsed": false,
     "input": [
      "# Can also specify a start and a stop date, as well as a frequency\n",
      "pd.date_range('1/1/1880', '1/1/2016', freq=\"A\")"
     ],
     "language": "python",
     "metadata": {},
     "outputs": [
      {
       "metadata": {},
       "output_type": "pyout",
       "prompt_number": 293,
       "text": [
        "DatetimeIndex(['1880-12-31', '1881-12-31', '1882-12-31', '1883-12-31',\n",
        "               '1884-12-31', '1885-12-31', '1886-12-31', '1887-12-31',\n",
        "               '1888-12-31', '1889-12-31', \n",
        "               ...\n",
        "               '2006-12-31', '2007-12-31', '2008-12-31', '2009-12-31',\n",
        "               '2010-12-31', '2011-12-31', '2012-12-31', '2013-12-31',\n",
        "               '2014-12-31', '2015-12-31'],\n",
        "              dtype='datetime64[ns]', length=136, freq='A-DEC', tz=None)"
       ]
      }
     ],
     "prompt_number": 293
    },
    {
     "cell_type": "markdown",
     "metadata": {},
     "source": [
      "Note that `\"A\"` by default means the end of the year. Other times in the year can be specified with `\"AS\"` (start), `\"A-JAN\"` or `\"A-JUN\"`. Even more options can be imported from `pandas.tseries.offsets`:"
     ]
    },
    {
     "cell_type": "code",
     "collapsed": false,
     "input": [
      "from pandas.tseries.offsets import YearBegin\n",
      "pd.date_range('1/1/1880', '1/1/2015', freq=YearBegin())"
     ],
     "language": "python",
     "metadata": {},
     "outputs": [
      {
       "metadata": {},
       "output_type": "pyout",
       "prompt_number": 294,
       "text": [
        "DatetimeIndex(['1880-01-01', '1881-01-01', '1882-01-01', '1883-01-01',\n",
        "               '1884-01-01', '1885-01-01', '1886-01-01', '1887-01-01',\n",
        "               '1888-01-01', '1889-01-01', \n",
        "               ...\n",
        "               '2006-01-01', '2007-01-01', '2008-01-01', '2009-01-01',\n",
        "               '2010-01-01', '2011-01-01', '2012-01-01', '2013-01-01',\n",
        "               '2014-01-01', '2015-01-01'],\n",
        "              dtype='datetime64[ns]', length=136, freq='AS-JAN', tz=None)"
       ]
      }
     ],
     "prompt_number": 294
    },
    {
     "cell_type": "markdown",
     "metadata": {},
     "source": [
      "Actually we will convert that dataset to a 1D dataset, and build a monthly index, so lets build a monthly period index"
     ]
    },
    {
     "cell_type": "code",
     "collapsed": false,
     "input": [
      "giss_temp_index = pd.period_range('1/1/1880', '12/1/2015', freq=\"M\")\n",
      "giss_temp_index"
     ],
     "language": "python",
     "metadata": {},
     "outputs": [
      {
       "metadata": {},
       "output_type": "pyout",
       "prompt_number": 295,
       "text": [
        "PeriodIndex(['1880-01', '1880-02', '1880-03', '1880-04', '1880-05', '1880-06',\n",
        "             '1880-07', '1880-08', '1880-09', '1880-10', \n",
        "             ...\n",
        "             '2015-03', '2015-04', '2015-05', '2015-06', '2015-07', '2015-08',\n",
        "             '2015-09', '2015-10', '2015-11', '2015-12'],\n",
        "            dtype='int64', length=1632, freq='M')"
       ]
      }
     ],
     "prompt_number": 295
    },
    {
     "cell_type": "heading",
     "level": 2,
     "metadata": {},
     "source": [
      "7. Transforming datasets: apply, sort, stack/unstack and transpose"
     ]
    },
    {
     "cell_type": "markdown",
     "metadata": {},
     "source": [
      "Let's look at our `local_sea_level_stations` dataset some more, to learn more about it and also do some formatting. What is the range of dates and lattitudes we have, the list of countries, the range of variations, ..."
     ]
    },
    {
     "cell_type": "code",
     "collapsed": false,
     "input": [
      "# What about the range of dates?\n",
      "local_sea_level_stations[\"Date\"].min(), local_sea_level_stations[\"Date\"].max(), local_sea_level_stations[\"Date\"].iloc[-1]"
     ],
     "language": "python",
     "metadata": {},
     "outputs": [
      {
       "metadata": {},
       "output_type": "pyout",
       "prompt_number": 296,
       "text": [
        "(u'01/01/1980', u'31/07/2014', u'01/07/2014')"
       ]
      }
     ],
     "prompt_number": 296
    },
    {
     "cell_type": "code",
     "collapsed": false,
     "input": [
      "local_sea_level_stations.dtypes"
     ],
     "language": "python",
     "metadata": {},
     "outputs": [
      {
       "metadata": {},
       "output_type": "pyout",
       "prompt_number": 297,
       "text": [
        "Station Name     object\n",
        "ID                int64\n",
        "Lat             float64\n",
        "Lon             float64\n",
        "GLOSS ID        float64\n",
        "Country          object\n",
        "Date             object\n",
        "Coastline         int64\n",
        "Station           int64\n",
        "dtype: object"
       ]
      }
     ],
     "prompt_number": 297
    },
    {
     "cell_type": "heading",
     "level": 3,
     "metadata": {},
     "source": [
      "Apply: transforming Series"
     ]
    },
    {
     "cell_type": "markdown",
     "metadata": {},
     "source": [
      "We don't see the range of dates because the dates are of dtype \"Object\", (usually meaning strings). Let's convert that using `apply`:"
     ]
    },
    {
     "cell_type": "code",
     "collapsed": false,
     "input": [
      "local_sea_level_stations[\"Date\"].apply(pd.to_datetime)"
     ],
     "language": "python",
     "metadata": {},
     "outputs": [
      {
       "metadata": {},
       "output_type": "pyout",
       "prompt_number": 298,
       "text": [
        "0      1980-01-01\n",
        "1      1980-01-01\n",
        "2      1980-01-01\n",
        "3      2014-11-26\n",
        "4      2015-04-28\n",
        "5      1999-11-05\n",
        "6      2015-05-21\n",
        "7      2004-09-30\n",
        "          ...    \n",
        "1412   2002-10-28\n",
        "1413   2002-10-28\n",
        "1414   2002-11-19\n",
        "1415   2015-04-29\n",
        "1416   2015-04-29\n",
        "1417   2015-04-29\n",
        "1418   2015-04-29\n",
        "1419   2014-01-07\n",
        "Name: Date, dtype: datetime64[ns]"
       ]
      }
     ],
     "prompt_number": 298
    },
    {
     "cell_type": "markdown",
     "metadata": {},
     "source": [
      "This `apply` method is very powerful and general. We have used it to do something we could have done with `astype`, but any custom function can be provided to `apply`."
     ]
    },
    {
     "cell_type": "code",
     "collapsed": false,
     "input": [
      "local_sea_level_stations[\"Date\"] = local_sea_level_stations[\"Date\"].apply(pd.to_datetime)\n",
      "\n",
      "# Now we can really compare the dates, and therefore get a real range:\n",
      "print(local_sea_level_stations[\"Date\"].min(), local_sea_level_stations[\"Date\"].max())"
     ],
     "language": "python",
     "metadata": {},
     "outputs": [
      {
       "output_type": "stream",
       "stream": "stdout",
       "text": [
        "(Timestamp('1980-01-01 00:00:00'), Timestamp('2015-07-05 00:00:00'))\n"
       ]
      }
     ],
     "prompt_number": 299
    },
    {
     "cell_type": "markdown",
     "metadata": {},
     "source": [
      "**EXERCISE:** Use the `apply` method to search through the stations names for a station in New York. What is the ID of the stations?"
     ]
    },
    {
     "cell_type": "code",
     "collapsed": false,
     "input": [
      "# Your code here"
     ],
     "language": "python",
     "metadata": {},
     "outputs": []
    },
    {
     "cell_type": "markdown",
     "metadata": {},
     "source": [
      "Now that we know the range of dates, to look at the data, sorting it following the dates is done with `sort`:"
     ]
    },
    {
     "cell_type": "code",
     "collapsed": false,
     "input": [
      "local_sea_level_stations.sort(\"Date\")"
     ],
     "language": "python",
     "metadata": {},
     "outputs": []
    },
    {
     "cell_type": "markdown",
     "metadata": {},
     "source": [
      "Since many stations last updated on the same dates, it is logical to want to sort further, for example, by `Country` at constant date:"
     ]
    },
    {
     "cell_type": "code",
     "collapsed": false,
     "input": [
      "local_sea_level_stations.sort([\"Date\", \"Country\"], ascending=False)"
     ],
     "language": "python",
     "metadata": {},
     "outputs": []
    },
    {
     "cell_type": "heading",
     "level": 3,
     "metadata": {},
     "source": [
      "Stack and unstack"
     ]
    },
    {
     "cell_type": "markdown",
     "metadata": {},
     "source": [
      "Let's look at the GISS dataset differently. Instead of seeing the months along the axis 1, and the years along the axis 0, it would could be good to convert these into an outer and an inner axis along only 1 time dimension.\n",
      "\n",
      "Stacking and unstacking allows to convert a dataframe into a series and vice-versa:"
     ]
    },
    {
     "cell_type": "code",
     "collapsed": false,
     "input": [
      "giss_temp.unstack?\n",
      "unstacked = giss_temp.unstack()\n",
      "unstacked"
     ],
     "language": "python",
     "metadata": {},
     "outputs": []
    },
    {
     "cell_type": "code",
     "collapsed": false,
     "input": [
      "# Note the nature of the result:\n",
      "type(unstacked)"
     ],
     "language": "python",
     "metadata": {},
     "outputs": []
    },
    {
     "cell_type": "markdown",
     "metadata": {},
     "source": [
      "The result is grouped in the wrong order since it sorts first the axis that was unstacked. Another transformation that would help us is transposing..."
     ]
    },
    {
     "cell_type": "code",
     "collapsed": false,
     "input": [
      "giss_temp.transpose()"
     ],
     "language": "python",
     "metadata": {},
     "outputs": []
    },
    {
     "cell_type": "code",
     "collapsed": false,
     "input": [
      "giss_temp_series = giss_temp.transpose().unstack()\n",
      "giss_temp_series.name = \"Temp anomaly\"\n",
      "giss_temp_series"
     ],
     "language": "python",
     "metadata": {},
     "outputs": []
    },
    {
     "cell_type": "heading",
     "level": 3,
     "metadata": {},
     "source": [
      "A side note: Multi-indexes"
     ]
    },
    {
     "cell_type": "code",
     "collapsed": false,
     "input": [
      "# Note the nature of the resulting index:\n",
      "giss_temp_series.index"
     ],
     "language": "python",
     "metadata": {},
     "outputs": []
    },
    {
     "cell_type": "code",
     "collapsed": false,
     "input": [
      "# It is an index made of 2 columns. Let's fix the fact that one of them doesn't have a name:\n",
      "giss_temp_series.index = giss_temp_series.index.set_names([\"year\", \"month\"])"
     ],
     "language": "python",
     "metadata": {},
     "outputs": []
    },
    {
     "cell_type": "code",
     "collapsed": false,
     "input": [
      "# We can now access deviations by specifying the year and month:\n",
      "giss_temp_series[1980, \"Jan\"]"
     ],
     "language": "python",
     "metadata": {},
     "outputs": []
    },
    {
     "cell_type": "markdown",
     "metadata": {},
     "source": [
      "But this new multi-index isn't very good, because is it not viewed as 1 date, just as a tuple of values:"
     ]
    },
    {
     "cell_type": "code",
     "collapsed": false,
     "input": [
      "giss_temp_series.plot(figsize=LARGE_FIGSIZE)"
     ],
     "language": "python",
     "metadata": {},
     "outputs": []
    },
    {
     "cell_type": "markdown",
     "metadata": {},
     "source": [
      "To improve on this, let's reuse an index we generated above with `date_range`:"
     ]
    },
    {
     "cell_type": "code",
     "collapsed": false,
     "input": [
      "giss_temp_series.index = giss_temp_index\n",
      "giss_temp_series.plot(figsize=LARGE_FIGSIZE)"
     ],
     "language": "python",
     "metadata": {},
     "outputs": []
    },
    {
     "cell_type": "heading",
     "level": 2,
     "metadata": {},
     "source": [
      "8. Statistical analysis"
     ]
    },
    {
     "cell_type": "heading",
     "level": 3,
     "metadata": {},
     "source": [
      "Descriptive statistics"
     ]
    },
    {
     "cell_type": "markdown",
     "metadata": {},
     "source": [
      "Let's go back to the dataframe version of the GISS temperature dataset temporarily to analyze anomalies month per month. Like most functions on a dataframe, stats functions are computed column per column. They also ignore missing values:"
     ]
    },
    {
     "cell_type": "code",
     "collapsed": false,
     "input": [
      "monthly_averages = giss_temp.mean()\n",
      "monthly_averages"
     ],
     "language": "python",
     "metadata": {},
     "outputs": []
    },
    {
     "cell_type": "markdown",
     "metadata": {},
     "source": [
      "It is possible to apply stats functions across rows instead of columns using the `axis` keyword (just like in NumPy)."
     ]
    },
    {
     "cell_type": "code",
     "collapsed": false,
     "input": [
      "yearly_averages = giss_temp.mean(axis=1)\n",
      "yearly_averages"
     ],
     "language": "python",
     "metadata": {},
     "outputs": []
    },
    {
     "cell_type": "markdown",
     "metadata": {},
     "source": [
      "`describe` provides many descriptive stats computed at once:"
     ]
    },
    {
     "cell_type": "code",
     "collapsed": false,
     "input": [
      "mean_sea_level.describe()"
     ],
     "language": "python",
     "metadata": {},
     "outputs": []
    },
    {
     "cell_type": "heading",
     "level": 3,
     "metadata": {},
     "source": [
      "Rolling statistics"
     ]
    },
    {
     "cell_type": "markdown",
     "metadata": {},
     "source": [
      "Let's remove high frequency signal and extract the trend:"
     ]
    },
    {
     "cell_type": "code",
     "collapsed": false,
     "input": [
      "full_globe_temp.plot()\n",
      "pd.rolling_mean(full_globe_temp, 10).plot(figsize=LARGE_FIGSIZE)"
     ],
     "language": "python",
     "metadata": {},
     "outputs": []
    },
    {
     "cell_type": "code",
     "collapsed": false,
     "input": [
      "# To see what all can be done while rolling, \n",
      "#pd.rolling_<TAB>"
     ],
     "language": "python",
     "metadata": {},
     "outputs": []
    },
    {
     "cell_type": "heading",
     "level": 3,
     "metadata": {},
     "source": [
      "Describing categorical series"
     ]
    },
    {
     "cell_type": "markdown",
     "metadata": {},
     "source": [
      "Let's look at our `local_sea_level_stations` dataset some more:"
     ]
    },
    {
     "cell_type": "code",
     "collapsed": false,
     "input": [
      "local_sea_level_stations.describe()"
     ],
     "language": "python",
     "metadata": {},
     "outputs": []
    },
    {
     "cell_type": "markdown",
     "metadata": {},
     "source": [
      "`.describe()` only displays information about continuous `Series`. What about categorical ones?"
     ]
    },
    {
     "cell_type": "code",
     "collapsed": false,
     "input": [
      "local_sea_level_stations.columns"
     ],
     "language": "python",
     "metadata": {},
     "outputs": []
    },
    {
     "cell_type": "code",
     "collapsed": false,
     "input": [
      "local_sea_level_stations[\"Country\"]"
     ],
     "language": "python",
     "metadata": {},
     "outputs": []
    },
    {
     "cell_type": "code",
     "collapsed": false,
     "input": [
      "local_sea_level_stations[\"Country\"].describe()"
     ],
     "language": "python",
     "metadata": {},
     "outputs": []
    },
    {
     "cell_type": "code",
     "collapsed": false,
     "input": [
      "# List of unique values:\n",
      "local_sea_level_stations[\"Country\"].unique()"
     ],
     "language": "python",
     "metadata": {},
     "outputs": []
    },
    {
     "cell_type": "code",
     "collapsed": false,
     "input": [
      "local_sea_level_stations[\"Country\"].value_counts()"
     ],
     "language": "python",
     "metadata": {},
     "outputs": []
    },
    {
     "cell_type": "code",
     "collapsed": false,
     "input": [
      "# To save memory, we can convert it to a categorical column:\n",
      "local_sea_level_stations[\"Country\"] = local_sea_level_stations[\"Country\"].astype(\"category\")"
     ],
     "language": "python",
     "metadata": {},
     "outputs": []
    },
    {
     "cell_type": "markdown",
     "metadata": {},
     "source": [
      "We can also create categorical series from continuous ones with the cut function:"
     ]
    },
    {
     "cell_type": "code",
     "collapsed": false,
     "input": [
      "categorized = pd.cut(full_globe_temp, 3, labels=[\"L\", \"M\", \"H\"])\n",
      "categorized"
     ],
     "language": "python",
     "metadata": {},
     "outputs": []
    },
    {
     "cell_type": "code",
     "collapsed": false,
     "input": [
      "# The advantage is that we can use labels and control the order they should be treated in (L < M < H)\n",
      "categorized.cat.categories"
     ],
     "language": "python",
     "metadata": {},
     "outputs": []
    },
    {
     "cell_type": "markdown",
     "metadata": {},
     "source": [
      "**QUIZ:** How much memory did we save? What if it was categorized but with dtype `object` instead of `category`?"
     ]
    },
    {
     "cell_type": "heading",
     "level": 2,
     "metadata": {},
     "source": [
      "9. Data Aggregation/summarization"
     ]
    },
    {
     "cell_type": "markdown",
     "metadata": {},
     "source": [
      "Now that we have a good grasp on our datasets, Let's transform and analyze them some more to prepare them to compare them. The 2 function(alities)s to learn about here are `groupby` and `pivot_table`."
     ]
    },
    {
     "cell_type": "heading",
     "level": 3,
     "metadata": {},
     "source": [
      "GroupBy"
     ]
    },
    {
     "cell_type": "markdown",
     "metadata": {},
     "source": [
      "Let's explore the sea levels, first splitting into calendar years to compute average sea levels for each year:"
     ]
    },
    {
     "cell_type": "code",
     "collapsed": false,
     "input": [
      "mean_sea_level"
     ],
     "language": "python",
     "metadata": {},
     "outputs": []
    },
    {
     "cell_type": "code",
     "collapsed": false,
     "input": [
      "mean_sea_level = mean_sea_level.reset_index()\n",
      "mean_sea_level"
     ],
     "language": "python",
     "metadata": {},
     "outputs": []
    },
    {
     "cell_type": "code",
     "collapsed": false,
     "input": [
      "# Groupby with pandas can be done on a column or by applying a custom function to the index. \n",
      "# If we want to group the data by year, we can build a year column into the DF:\n",
      "mean_sea_level[\"year\"] = mean_sea_level[\"date\"].apply(int)\n",
      "mean_sea_level"
     ],
     "language": "python",
     "metadata": {},
     "outputs": []
    },
    {
     "cell_type": "code",
     "collapsed": false,
     "input": [
      "sl_grouped_year = mean_sea_level.groupby(\"year\")"
     ],
     "language": "python",
     "metadata": {},
     "outputs": []
    },
    {
     "cell_type": "markdown",
     "metadata": {},
     "source": [
      "What kind of object did we create?"
     ]
    },
    {
     "cell_type": "code",
     "collapsed": false,
     "input": [
      "type(sl_grouped_year)"
     ],
     "language": "python",
     "metadata": {},
     "outputs": []
    },
    {
     "cell_type": "markdown",
     "metadata": {},
     "source": [
      "What to do with that strange GroupBy object? We can first loop over it to get the labels and the sub-dataframes for each group:"
     ]
    },
    {
     "cell_type": "code",
     "collapsed": false,
     "input": [
      "for group_name, subdf in sl_grouped_year:\n",
      "    print(group_name)\n",
      "    print(subdf)\n",
      "    print(\"\")"
     ],
     "language": "python",
     "metadata": {},
     "outputs": []
    },
    {
     "cell_type": "markdown",
     "metadata": {},
     "source": [
      "We could have done the same with less effort by grouping by the result of a custom function applied to the index. Let's reset the dataframe:"
     ]
    },
    {
     "cell_type": "code",
     "collapsed": false,
     "input": [
      "mean_sea_level = mean_sea_level.drop([\"year\"], axis=1).set_index(\"date\")"
     ],
     "language": "python",
     "metadata": {},
     "outputs": []
    },
    {
     "cell_type": "markdown",
     "metadata": {},
     "source": [
      "So that we can do the groupby on the index:"
     ]
    },
    {
     "cell_type": "code",
     "collapsed": false,
     "input": [
      "sl_grouped_year = mean_sea_level.groupby(int)"
     ],
     "language": "python",
     "metadata": {},
     "outputs": []
    },
    {
     "cell_type": "markdown",
     "metadata": {},
     "source": [
      "Something else that can be done with such an object is to look at its `groups` attribute to see the labels mapped to the rows involved:"
     ]
    },
    {
     "cell_type": "code",
     "collapsed": false,
     "input": [
      "sl_grouped_year.groups"
     ],
     "language": "python",
     "metadata": {},
     "outputs": []
    },
    {
     "cell_type": "markdown",
     "metadata": {},
     "source": [
      "How to aggregate the results of this grouping depends on what we want to see: do we want to see averaged over the years? That is so common that it has been implemented directly as a method on the `GroupBy` object."
     ]
    },
    {
     "cell_type": "code",
     "collapsed": false,
     "input": [
      "sl_grouped_year.mean()"
     ],
     "language": "python",
     "metadata": {},
     "outputs": []
    },
    {
     "cell_type": "code",
     "collapsed": false,
     "input": [
      "# We can apply any other reduction function or even a dict of functions using aggregate:\n",
      "sl_grouped_year.aggregate({\"mean_global\": np.std})"
     ],
     "language": "python",
     "metadata": {},
     "outputs": []
    },
    {
     "cell_type": "markdown",
     "metadata": {},
     "source": [
      "Another possibility is to transform each group separately, rather than aggregate. For example, here we group over decades and subtract to each value, the average over that decade:"
     ]
    },
    {
     "cell_type": "code",
     "collapsed": false,
     "input": [
      "sl_grouped_decade = mean_sea_level.groupby(lambda x: int(x/10.))\n",
      "sl_grouped_decade.groups.keys()"
     ],
     "language": "python",
     "metadata": {},
     "outputs": []
    },
    {
     "cell_type": "code",
     "collapsed": false,
     "input": [
      "sl_grouped_decade.transform(lambda subframe: (subframe - subframe.mean()/subframe.std()))"
     ],
     "language": "python",
     "metadata": {},
     "outputs": []
    },
    {
     "cell_type": "heading",
     "level": 3,
     "metadata": {},
     "source": [
      "Pivot_table"
     ]
    },
    {
     "cell_type": "markdown",
     "metadata": {},
     "source": [
      "Pivot table also allows to summarize the information, allowing to convert repeating columns into axes. For example, let's say that we would like to know how many sea level stations are in various european countries. And we would like to group the answers into 2 categories: the stations that have been updated recently (after 2000) and the others. \n",
      "\n",
      "Let's first extract only entries located (roughly) in Europe."
     ]
    },
    {
     "cell_type": "code",
     "collapsed": false,
     "input": [
      "european_filter = ((local_sea_level_stations[\"Lat\"] > 30) & \n",
      "                   (local_sea_level_stations[\"Lat\"] < 70) & \n",
      "                   (local_sea_level_stations[\"Lon\"] > -10) & \n",
      "                   (local_sea_level_stations[\"Lon\"] < 40) \n",
      "                   )\n",
      "\n",
      "# Let's make a copy to work with a new, clean block of memory \n",
      "# (if you are interested, try and remove the copy to see the consequences further down...\n",
      "european_stations = local_sea_level_stations[european_filter].copy()\n",
      "european_stations[\"Country\"].unique()"
     ],
     "language": "python",
     "metadata": {},
     "outputs": []
    },
    {
     "cell_type": "markdown",
     "metadata": {},
     "source": [
      "The columns of our future table should have 2 values, whether the station was updated recently or not. Let's build a column to store that information:"
     ]
    },
    {
     "cell_type": "code",
     "collapsed": false,
     "input": [
      "european_stations[\"Recently updated\"] = european_stations[\"Date\"] > pd.to_datetime(\"2000\")"
     ],
     "language": "python",
     "metadata": {},
     "outputs": []
    },
    {
     "cell_type": "markdown",
     "metadata": {},
     "source": [
      "Finally, what value will be displayed inside the table. The values should be extracted from a column, pivot_table allowing an aggregation function to be applied when more than 1 value is found for a given case. Each station should count for 1, and we could aggregate multiple stations by summing these ones:"
     ]
    },
    {
     "cell_type": "code",
     "collapsed": false,
     "input": [
      "european_stations[\"Number of stations\"] = np.ones(len(european_stations))"
     ],
     "language": "python",
     "metadata": {},
     "outputs": []
    },
    {
     "cell_type": "code",
     "collapsed": false,
     "input": [
      "european_stations.sort(\"Country\")"
     ],
     "language": "python",
     "metadata": {},
     "outputs": []
    },
    {
     "cell_type": "code",
     "collapsed": false,
     "input": [
      "station_counts = pd.pivot_table(european_stations, index=\"Country\", columns=\"Recently updated\", \n",
      "                                values=\"Number of stations\", aggfunc=np.sum)\n",
      "# Let's remove from the table the countries for which no station was found:\n",
      "station_counts.dropna(how=\"all\")"
     ],
     "language": "python",
     "metadata": {},
     "outputs": []
    },
    {
     "cell_type": "markdown",
     "metadata": {},
     "source": [
      "**QUIZ:** Why is there still some countries with no entries?"
     ]
    },
    {
     "cell_type": "markdown",
     "metadata": {},
     "source": [
      "**EXERCISE:** How many recently updated stations? Not recently updated stations? Which country has the most stations? Which country has the most recently updated stations?"
     ]
    },
    {
     "cell_type": "code",
     "collapsed": false,
     "input": [
      "# Your code here"
     ],
     "language": "python",
     "metadata": {},
     "outputs": []
    },
    {
     "cell_type": "markdown",
     "metadata": {},
     "source": [
      "**EXERCISE:** How would we build the same dataframe with a `groupby` operation?"
     ]
    },
    {
     "cell_type": "code",
     "collapsed": false,
     "input": [
      "# Your code here"
     ],
     "language": "python",
     "metadata": {},
     "outputs": []
    },
    {
     "cell_type": "markdown",
     "metadata": {},
     "source": [
      "**EXERCISE:** Refer to `exercises/pivot_table/pivot_tables.py`"
     ]
    },
    {
     "cell_type": "heading",
     "level": 2,
     "metadata": {},
     "source": [
      "10. Correlations and regressions"
     ]
    },
    {
     "cell_type": "heading",
     "level": 3,
     "metadata": {},
     "source": [
      "Correlation coefficients"
     ]
    },
    {
     "cell_type": "markdown",
     "metadata": {},
     "source": [
      "Both Series and dataframes have a `corr` method to compute the correlation coefficient between series:"
     ]
    },
    {
     "cell_type": "code",
     "collapsed": false,
     "input": [
      "# Let's see what how the various sea levels are correlated with each other:\n",
      "mean_sea_level[\"northern_hem\"].corr(mean_sea_level[\"southern_hem\"])"
     ],
     "language": "python",
     "metadata": {},
     "outputs": []
    },
    {
     "cell_type": "code",
     "collapsed": false,
     "input": [
      "# If series are already grouped into a DataFrame, computing all correlation coeff is trivial:\n",
      "mean_sea_level.corr()"
     ],
     "language": "python",
     "metadata": {},
     "outputs": []
    },
    {
     "cell_type": "markdown",
     "metadata": {},
     "source": [
      "Note: by default, the method used is the `Pearson` correlation coefficient (https://en.wikipedia.org/wiki/Pearson_product-moment_correlation_coefficient). Other methods are available (`kendall`, `spearman` using the `method` kwarg)."
     ]
    },
    {
     "cell_type": "code",
     "collapsed": false,
     "input": [
      "# Visualize the correlation matrix\n",
      "plt.imshow(mean_sea_level.corr(), interpolation=\"nearest\")"
     ],
     "language": "python",
     "metadata": {},
     "outputs": []
    },
    {
     "cell_type": "code",
     "collapsed": false,
     "input": [
      "plt.yticks?"
     ],
     "language": "python",
     "metadata": {},
     "outputs": []
    },
    {
     "cell_type": "code",
     "collapsed": false,
     "input": [
      "# let's make it a little better to confirm that learning about global sea level cannot be done from just \n",
      "# looking at stations in the northern hemisphere:\n",
      "plt.imshow(mean_sea_level.corr(), interpolation=\"nearest\")\n",
      "plt.xticks(np.arange(3), mean_sea_level.corr().columns)\n",
      "plt.yticks(np.arange(3), mean_sea_level.corr().index)\n",
      "plt.colorbar()"
     ],
     "language": "python",
     "metadata": {},
     "outputs": []
    },
    {
     "cell_type": "heading",
     "level": 3,
     "metadata": {},
     "source": [
      "OLS"
     ]
    },
    {
     "cell_type": "markdown",
     "metadata": {},
     "source": [
      "There are 2 objects constructors inside Pandas and inside `statsmodels`. There has been talks about merging the 2 into SM, but that hasn't happened yet. OLS in statsmodels allows more complex formulas:"
     ]
    },
    {
     "cell_type": "code",
     "collapsed": false,
     "input": [
      "import statsmodels.formula.api as sm"
     ],
     "language": "python",
     "metadata": {},
     "outputs": []
    },
    {
     "cell_type": "code",
     "collapsed": false,
     "input": [
      "sm_model = sm.ols(formula=\"mean_global ~ northern_hem + southern_hem\", data=mean_sea_level).fit()"
     ],
     "language": "python",
     "metadata": {},
     "outputs": []
    },
    {
     "cell_type": "code",
     "collapsed": false,
     "input": [
      "sm_model.params"
     ],
     "language": "python",
     "metadata": {},
     "outputs": []
    },
    {
     "cell_type": "code",
     "collapsed": false,
     "input": [
      "type(sm_model.params)"
     ],
     "language": "python",
     "metadata": {},
     "outputs": []
    },
    {
     "cell_type": "code",
     "collapsed": false,
     "input": [
      "sm_model.summary()"
     ],
     "language": "python",
     "metadata": {},
     "outputs": []
    },
    {
     "cell_type": "code",
     "collapsed": false,
     "input": [
      "mean_sea_level[\"mean_global\"].plot()\n",
      "sm_model.fittedvalues.plot(label=\"OLS prediction\")\n",
      "plt.legend(loc=\"upper left\")"
     ],
     "language": "python",
     "metadata": {},
     "outputs": []
    },
    {
     "cell_type": "markdown",
     "metadata": {},
     "source": [
      "OLS in pandas requires to pass a `y` series and an `x` series to do a fit of the form `y ~ x`. But the formula can be more complex by providing a `DataFrame` for x and reproduce a formula of the form `y ~ x1 + x2`. \n",
      "\n",
      "Also, OLS in pandas allows to do rolling and expanding OLS:"
     ]
    },
    {
     "cell_type": "code",
     "collapsed": false,
     "input": [
      "from pandas.stats.api import ols as pdols"
     ],
     "language": "python",
     "metadata": {},
     "outputs": []
    },
    {
     "cell_type": "code",
     "collapsed": true,
     "input": [
      "# Same fit as above:\n",
      "pd_model = pdols(y=mean_sea_level[\"mean_global\"], x=mean_sea_level[[\"northern_hem\", \"southern_hem\"]])\n",
      "pd_model"
     ],
     "language": "python",
     "metadata": {},
     "outputs": []
    },
    {
     "cell_type": "code",
     "collapsed": false,
     "input": [
      "plt.figure(figsize=LARGE_FIGSIZE)\n",
      "mean_sea_level[\"mean_global\"].plot()\n",
      "pd_model.predict().plot(label=\"OLS prediction\")\n",
      "plt.legend(loc=\"upper left\")"
     ],
     "language": "python",
     "metadata": {},
     "outputs": []
    },
    {
     "cell_type": "heading",
     "level": 3,
     "metadata": {},
     "source": [
      "An interlude: data alignment"
     ]
    },
    {
     "cell_type": "heading",
     "level": 4,
     "metadata": {},
     "source": [
      "Converting the floating point date to a timestamp"
     ]
    },
    {
     "cell_type": "markdown",
     "metadata": {},
     "source": [
      "Now, we would like to look for correlations between our monthly temperatures and the sea levels we have. For this to be possible, some data alignment must be done since the time scales are very different for the 2 datasets. "
     ]
    },
    {
     "cell_type": "code",
     "collapsed": false,
     "input": [
      "mean_sea_level[\"mean_global\"].index"
     ],
     "language": "python",
     "metadata": {},
     "outputs": []
    },
    {
     "cell_type": "code",
     "collapsed": false,
     "input": [
      "giss_temp_series.index"
     ],
     "language": "python",
     "metadata": {},
     "outputs": []
    },
    {
     "cell_type": "code",
     "collapsed": false,
     "input": [
      "DAYS_PER_YEAR = {}"
     ],
     "language": "python",
     "metadata": {},
     "outputs": []
    },
    {
     "cell_type": "code",
     "collapsed": false,
     "input": [
      "import calendar\n",
      "# Let's first convert the floating point dates in the sea level to timestamps:\n",
      "def floating_year_to_timestamp(float_date):\n",
      "    \"\"\" Convert a date as a floating point year number to a pandas timestamp object.\n",
      "    \"\"\"\n",
      "    year = int(float_date)\n",
      "    days_per_year = 366 if calendar.isleap(year) else 365\n",
      "    remainder = float_date - year\n",
      "    daynum = 1 + remainder * (days_per_year - 1)\n",
      "    daynum = int(round(daynum))\n",
      "    # Convert day number to month and day\n",
      "    day = daynum\n",
      "    month = 1\n",
      "    while month < 13:\n",
      "        month_days = calendar.monthrange(year, month)[1]\n",
      "        if day <= month_days:\n",
      "            return pd.Timestamp(str(year)+\"/\"+str(month)+\"/\"+str(day))\n",
      "        day -= month_days\n",
      "        month += 1\n",
      "    raise ValueError('{} does not have {} days'.format(year, daynum))"
     ],
     "language": "python",
     "metadata": {},
     "outputs": []
    },
    {
     "cell_type": "code",
     "collapsed": false,
     "input": [
      "floating_year_to_timestamp(1996.0), floating_year_to_timestamp(1996.5), floating_year_to_timestamp(1996.9999)"
     ],
     "language": "python",
     "metadata": {},
     "outputs": []
    },
    {
     "cell_type": "code",
     "collapsed": false,
     "input": [
      "dt_index = pd.Series(mean_sea_level[\"mean_global\"].index).apply(floating_year_to_timestamp)\n",
      "dt_index"
     ],
     "language": "python",
     "metadata": {},
     "outputs": []
    },
    {
     "cell_type": "code",
     "collapsed": false,
     "input": [
      "mean_sea_level = mean_sea_level.reset_index(drop=True)\n",
      "mean_sea_level.index = dt_index\n",
      "mean_sea_level"
     ],
     "language": "python",
     "metadata": {},
     "outputs": []
    },
    {
     "cell_type": "markdown",
     "metadata": {},
     "source": [
      "Now, how to align the 2 series? Is this one sampled regularly so that the month temperatures can be upscaled to that frequency?"
     ]
    },
    {
     "cell_type": "heading",
     "level": 4,
     "metadata": {},
     "source": [
      "Computing the difference between successive values"
     ]
    },
    {
     "cell_type": "markdown",
     "metadata": {},
     "source": [
      "What is the frequency of that new index?"
     ]
    },
    {
     "cell_type": "code",
     "collapsed": false,
     "input": [
      "dt_index.dtype"
     ],
     "language": "python",
     "metadata": {},
     "outputs": []
    },
    {
     "cell_type": "code",
     "collapsed": false,
     "input": [
      "# What is the frequency of the new index? The numpy way to compute differences between all values doesn't work:\n",
      "dt_index[1:] - dt_index[:-1]"
     ],
     "language": "python",
     "metadata": {},
     "outputs": []
    },
    {
     "cell_type": "markdown",
     "metadata": {},
     "source": [
      "**IMPORTANT Note:** The above failure is due to the fact that operations between series automatically align them based on their index."
     ]
    },
    {
     "cell_type": "code",
     "collapsed": false,
     "input": [
      "# There is a method for shifting values up/down the index:\n",
      "dt_index.shift()"
     ],
     "language": "python",
     "metadata": {},
     "outputs": []
    },
    {
     "cell_type": "code",
     "collapsed": false,
     "input": [
      "# So the distances can be computed with \n",
      "dt_index - dt_index.shift()"
     ],
     "language": "python",
     "metadata": {},
     "outputs": []
    },
    {
     "cell_type": "code",
     "collapsed": false,
     "input": [
      "# Not constant reads apparently. Let's downscale the frequency of the sea levels \n",
      "# to monthly, like the temperature reads we have:\n",
      "monthly_mean_sea_level = mean_sea_level.resample(\"MS\").to_period()\n",
      "monthly_mean_sea_level"
     ],
     "language": "python",
     "metadata": {},
     "outputs": []
    },
    {
     "cell_type": "code",
     "collapsed": false,
     "input": [
      "monthly_mean_sea_level[\"mean_global\"].align(giss_temp_series)"
     ],
     "language": "python",
     "metadata": {},
     "outputs": []
    },
    {
     "cell_type": "code",
     "collapsed": false,
     "input": [
      "giss_temp_series.align?"
     ],
     "language": "python",
     "metadata": {},
     "outputs": []
    },
    {
     "cell_type": "code",
     "collapsed": false,
     "input": [
      "# Now that the series are using the same type and frequency of indexes, to align them is trivial:\n",
      "monthly_mean_sea_level[\"mean_global\"].align(giss_temp_series, join='inner')"
     ],
     "language": "python",
     "metadata": {},
     "outputs": []
    },
    {
     "cell_type": "code",
     "collapsed": false,
     "input": [
      "aligned_sl, aligned_temp = monthly_mean_sea_level[\"mean_global\"].align(giss_temp_series, join='inner')\n",
      "aligned_df = pd.DataFrame({\"mean_sea_level\": aligned_sl, \"mean_global_temp\": aligned_temp})"
     ],
     "language": "python",
     "metadata": {},
     "outputs": []
    },
    {
     "cell_type": "markdown",
     "metadata": {},
     "source": [
      "The alignment can even be done on an entire dataframe:"
     ]
    },
    {
     "cell_type": "code",
     "collapsed": false,
     "input": [
      "monthly_mean_sea_level.align(giss_temp_series, axis=0, join='inner')"
     ],
     "language": "python",
     "metadata": {},
     "outputs": []
    },
    {
     "cell_type": "code",
     "collapsed": false,
     "input": [
      "aligned_sea_levels, aligned_temp = monthly_mean_sea_level.align(giss_temp_series, axis=0, join='inner')\n",
      "aligned_monthly_data = aligned_sea_levels.copy()\n",
      "aligned_monthly_data[\"global_temp\"] = aligned_temp\n",
      "aligned_monthly_data"
     ],
     "language": "python",
     "metadata": {},
     "outputs": []
    },
    {
     "cell_type": "heading",
     "level": 3,
     "metadata": {},
     "source": [
      "Correlations between sea levels and temperatures"
     ]
    },
    {
     "cell_type": "code",
     "collapsed": false,
     "input": [
      "aligned_monthly_data.plot(figsize=LARGE_FIGSIZE)"
     ],
     "language": "python",
     "metadata": {},
     "outputs": []
    },
    {
     "cell_type": "code",
     "collapsed": false,
     "input": [
      "aligned_monthly_data.corr()"
     ],
     "language": "python",
     "metadata": {},
     "outputs": []
    },
    {
     "cell_type": "code",
     "collapsed": false,
     "input": [
      "model = sm.ols(\"southern_hem ~ global_temp\", data=aligned_monthly_data).fit()\n",
      "model.rsquared"
     ],
     "language": "python",
     "metadata": {},
     "outputs": []
    },
    {
     "cell_type": "markdown",
     "metadata": {},
     "source": [
      "What if we had done the analysis yearly instead of monthly to remove seasonal variations?"
     ]
    },
    {
     "cell_type": "code",
     "collapsed": false,
     "input": [
      "aligned_yearly_data = aligned_monthly_data.resample(\"A\")\n",
      "aligned_yearly_data.plot()"
     ],
     "language": "python",
     "metadata": {},
     "outputs": []
    },
    {
     "cell_type": "code",
     "collapsed": false,
     "input": [
      "aligned_yearly_data.corr()"
     ],
     "language": "python",
     "metadata": {},
     "outputs": []
    },
    {
     "cell_type": "code",
     "collapsed": false,
     "input": [
      "model = sm.ols(\"southern_hem ~ global_temp\", data=aligned_yearly_data).fit()\n",
      "model.rsquared"
     ],
     "language": "python",
     "metadata": {},
     "outputs": []
    },
    {
     "cell_type": "heading",
     "level": 2,
     "metadata": {},
     "source": [
      "11. Predictions from auto regression models"
     ]
    },
    {
     "cell_type": "markdown",
     "metadata": {},
     "source": [
      "An auto-regresssive model fits existing data and build a (potentially predictive) model of the data fitted. We use the timeseries analysis (`tsa`) submodule of `statsmodels` to make out-of-sample predictions for the upcoming decades:"
     ]
    },
    {
     "cell_type": "code",
     "collapsed": false,
     "input": [
      "import statsmodels as sm\n",
      "# Let's remove seasonal variations by resampling annually\n",
      "data = giss_temp_series.resample(\"A\").to_timestamp()\n",
      "ar_model = sm.tsa.ar_model.AR(data, freq='A')\n",
      "ar_res = ar_model.fit(maxlag=60, disp=True)"
     ],
     "language": "python",
     "metadata": {},
     "outputs": []
    },
    {
     "cell_type": "code",
     "collapsed": false,
     "input": [
      "plt.figure(figsize=LARGE_FIGSIZE)\n",
      "pred = ar_res.predict(start='1950-1-1', end='2070')\n",
      "data.plot(style='k', label=\"Historical Data\")\n",
      "pred.plot(style='r', label=\"Predicted Data\")\n",
      "plt.ylabel(\"Temperature variation (0.01 degC)\")\n",
      "plt.legend()"
     ],
     "language": "python",
     "metadata": {},
     "outputs": []
    },
    {
     "cell_type": "markdown",
     "metadata": {},
     "source": [
      "**EXERCISE:** Make another auto-regression on the sea level of the Atlantic ocean to estimate how much New York is going to flood in the coming century. \n",
      "\n",
      "1. You can find the historical sea levels of the Atlantic ocean at http://sealevel.colorado.edu/files/current/sl_Atlantic_Ocean.txt or locally in `data/sea_levels/sl_Atlantic_Ocean.txt`. \n",
      "2. A little more work but more precise: extract the ID of a station in NewYork from the `local_sea_level_stations` dataset, and use it to download timeseries in NY (URL would be http://www.psmsl.org/data/obtaining/met.monthly.data/< ID >.metdata)."
     ]
    },
    {
     "cell_type": "code",
     "collapsed": false,
     "input": [
      "# Your code here"
     ],
     "language": "python",
     "metadata": {},
     "outputs": []
    },
    {
     "cell_type": "heading",
     "level": 2,
     "metadata": {},
     "source": [
      "Want to practice more?"
     ]
    },
    {
     "cell_type": "markdown",
     "metadata": {},
     "source": [
      "**EXERCISE (computations):** Refer to `exercises/stock_returns/stock_returns.py`"
     ]
    },
    {
     "cell_type": "markdown",
     "metadata": {},
     "source": [
      "**EXERCISE (stats, groupby, timeseries):** Refer to `exercises/pandas_wind_statistics/pandas_wind_statistics.py`"
     ]
    },
    {
     "cell_type": "code",
     "collapsed": false,
     "input": [],
     "language": "python",
     "metadata": {},
     "outputs": []
    }
   ],
   "metadata": {}
  }
 ]
}