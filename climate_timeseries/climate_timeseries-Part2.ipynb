{
 "cells": [
  {
   "cell_type": "markdown",
   "metadata": {},
   "source": [
    "Last updated: June 29th 2016"
   ]
  },
  {
   "cell_type": "markdown",
   "metadata": {},
   "source": [
    "# Climate data exploration: a journey through Pandas"
   ]
  },
  {
   "cell_type": "markdown",
   "metadata": {},
   "source": [
    "Welcome to a demo of Python's data analysis package called `Pandas`. Our goal is to learn about Data Analysis and transformation using Pandas while exploring datasets used to analyze climate change. "
   ]
  },
  {
   "cell_type": "markdown",
   "metadata": {},
   "source": [
    "## The story"
   ]
  },
  {
   "cell_type": "markdown",
   "metadata": {},
   "source": [
    "The global goal of this demo is to provide the tools to be able to try and reproduce some of the analysis done in the IPCC global climate reports published in the last decade (see for example https://www.ipcc.ch/pdf/assessment-report/ar5/syr/SYR_AR5_FINAL_full.pdf). \n",
    "\n",
    "We are first going to load a few public datasets containing information about global temperature, global and local sea level infomation, and global concentration of greenhouse gases like CO2, to see if there are correlations and how the trends are to evolve, assuming no fundamental change in the system. For all these datasets, we will download them, visualize them, clean them, search through them, merge them, resample them, transform them and summarize them."
   ]
  },
  {
   "cell_type": "markdown",
   "metadata": {},
   "source": [
    "In the process, we will learn about:\n",
    "\n",
    "Part 1:\n",
    "\n",
    "    1. Loading data\n",
    "    2. Pandas datastructures\n",
    "    3. Cleaning and formatting data\n",
    "    4. Basic visualization\n",
    "   \n",
    "Part 2:\n",
    "\n",
    "    5. Accessing data\n",
    "    6. Working with dates and times\n",
    "    7. Transforming datasets\n",
    "    8. Statistical analysis\n",
    "    9. Data agregation and summarization\n",
    "    10. Correlations and regressions\n",
    "    11. Predictions from auto regression models"
   ]
  },
  {
   "cell_type": "markdown",
   "metadata": {},
   "source": [
    "## Some initial setup"
   ]
  },
  {
   "cell_type": "code",
   "execution_count": 5,
   "metadata": {
    "collapsed": false
   },
   "outputs": [],
   "source": [
    "%matplotlib inline\n",
    "import pandas as pd\n",
    "\n",
    "import numpy as np\n",
    "import matplotlib.pyplot as plt\n",
    "\n",
    "pd.set_option(\"display.max_rows\", 16)\n",
    "\n",
    "LARGE_FIGSIZE = (12, 8)"
   ]
  },
  {
   "cell_type": "code",
   "execution_count": 6,
   "metadata": {
    "collapsed": false
   },
   "outputs": [
    {
     "name": "stdout",
     "output_type": "stream",
     "text": [
      "/Users/jrocher/Projects/pandas_tutorial/climate_timeseries\n",
      "all_data.h5                     climate_timeseries.ipynb\r\n",
      "climate_timeseries-Part1.ipynb  \u001b[1m\u001b[34mdata\u001b[m\u001b[m/\r\n",
      "climate_timeseries-Part2.ipynb  test.xls\r\n"
     ]
    }
   ],
   "source": [
    "# Change this cell to the demo location on YOUR machine\n",
    "%cd ~/Projects/pandas_tutorial/climate_timeseries/\n",
    "%ls"
   ]
  },
  {
   "cell_type": "markdown",
   "metadata": {},
   "source": [
    "## Reloading data"
   ]
  },
  {
   "cell_type": "code",
   "execution_count": 7,
   "metadata": {
    "collapsed": false
   },
   "outputs": [],
   "source": [
    "with pd.HDFStore(\"all_data.h5\") as store:\n",
    "    giss_temp = store[\"/temperatures/giss\"]\n",
    "    full_globe_temp = store[\"/temperatures/full_globe\"]\n",
    "    mean_sea_level = store[\"/sea_level/mean_sea_level\"]\n",
    "    local_sea_level_stations = store[\"/sea_level/stations\"]"
   ]
  },
  {
   "cell_type": "markdown",
   "metadata": {},
   "source": [
    "## 5. Accessing data"
   ]
  },
  {
   "cell_type": "markdown",
   "metadata": {},
   "source": [
    "The general philosophy for accessing values inside a Pandas datastructure is that, unlike a numpy array that only allows to index using integers a Series allows to index with the values inside the index. That makes the code more readable."
   ]
  },
  {
   "cell_type": "markdown",
   "metadata": {},
   "source": [
    "### In a series"
   ]
  },
  {
   "cell_type": "code",
   "execution_count": 8,
   "metadata": {
    "collapsed": false
   },
   "outputs": [
    {
     "data": {
      "text/plain": [
       "year\n",
       "1880-01-01   -0.1591\n",
       "1881-01-01   -0.0789\n",
       "1882-01-01   -0.1313\n",
       "1883-01-01   -0.1675\n",
       "1884-01-01   -0.2485\n",
       "1885-01-01   -0.2042\n",
       "1886-01-01   -0.1695\n",
       "1887-01-01   -0.2505\n",
       "               ...  \n",
       "2003-01-01    0.5818\n",
       "2004-01-01    0.5416\n",
       "2005-01-01    0.6154\n",
       "2006-01-01    0.5601\n",
       "2007-01-01    0.5472\n",
       "2008-01-01    0.4804\n",
       "2009-01-01    0.5551\n",
       "2010-01-01       NaN\n",
       "Name: mean temp, dtype: float64"
      ]
     },
     "execution_count": 8,
     "metadata": {},
     "output_type": "execute_result"
    }
   ],
   "source": [
    "full_globe_temp"
   ]
  },
  {
   "cell_type": "code",
   "execution_count": 9,
   "metadata": {
    "collapsed": false
   },
   "outputs": [],
   "source": [
    "# By default [] on a series accesses values using the index, not the location in the series\n",
    "# print(temp1[0])  # This would to fail!!"
   ]
  },
  {
   "cell_type": "code",
   "execution_count": 10,
   "metadata": {
    "collapsed": false
   },
   "outputs": [
    {
     "data": {
      "text/plain": [
       "dtype('<M8[ns]')"
      ]
     },
     "execution_count": 10,
     "metadata": {},
     "output_type": "execute_result"
    }
   ],
   "source": [
    "# This index is non-trivial though (will talk more about these datetime objects further down):\n",
    "full_globe_temp.index.dtype"
   ]
  },
  {
   "cell_type": "code",
   "execution_count": 11,
   "metadata": {
    "collapsed": false
   },
   "outputs": [
    {
     "data": {
      "text/plain": [
       "True"
      ]
     },
     "execution_count": 11,
     "metadata": {},
     "output_type": "execute_result"
    }
   ],
   "source": [
    "first_date = full_globe_temp.index[0]\n",
    "first_date == pd.Timestamp('1880')"
   ]
  },
  {
   "cell_type": "code",
   "execution_count": 12,
   "metadata": {
    "collapsed": false
   },
   "outputs": [
    {
     "name": "stdout",
     "output_type": "stream",
     "text": [
      "-0.1591\n"
     ]
    }
   ],
   "source": [
    "# By default [] on a series accesses values using the index, not the location in the series\n",
    "print(full_globe_temp[pd.Timestamp('1880')])\n",
    "# print(temp1[0])  # This would fail!!"
   ]
  },
  {
   "cell_type": "code",
   "execution_count": 13,
   "metadata": {
    "collapsed": false
   },
   "outputs": [
    {
     "name": "stdout",
     "output_type": "stream",
     "text": [
      "0.3861\n",
      "-0.1591 nan\n"
     ]
    }
   ],
   "source": [
    "# Another more explicit way to do the same thing is to use loc\n",
    "print(full_globe_temp.loc[pd.Timestamp('1990')])\n",
    "print(full_globe_temp.iloc[0], full_globe_temp.iloc[-1])"
   ]
  },
  {
   "cell_type": "code",
   "execution_count": 14,
   "metadata": {
    "collapsed": false
   },
   "outputs": [
    {
     "data": {
      "text/plain": [
       "Timestamp('2010-01-01 00:00:00')"
      ]
     },
     "execution_count": 14,
     "metadata": {},
     "output_type": "execute_result"
    }
   ],
   "source": [
    "# Year of the last record?\n",
    "full_globe_temp.index[-1]"
   ]
  },
  {
   "cell_type": "code",
   "execution_count": 15,
   "metadata": {
    "collapsed": false
   },
   "outputs": [],
   "source": [
    "# New records can be added:\n",
    "full_globe_temp[pd.Timestamp('2011')] = np.nan"
   ]
  },
  {
   "cell_type": "markdown",
   "metadata": {},
   "source": [
    "### In a dataframe"
   ]
  },
  {
   "cell_type": "code",
   "execution_count": 16,
   "metadata": {
    "collapsed": false
   },
   "outputs": [
    {
     "data": {
      "text/plain": [
       "Year\n",
       "1880   -34.0\n",
       "1881   -13.0\n",
       "1882     3.0\n",
       "1883   -38.0\n",
       "1884   -20.0\n",
       "1885   -57.0\n",
       "1886   -37.0\n",
       "1887   -60.0\n",
       "        ... \n",
       "2008    22.0\n",
       "2009    56.0\n",
       "2010    66.0\n",
       "2011    45.0\n",
       "2012    38.0\n",
       "2013    62.0\n",
       "2014    68.0\n",
       "2015    75.0\n",
       "Name: Jan, dtype: float32"
      ]
     },
     "execution_count": 16,
     "metadata": {},
     "output_type": "execute_result"
    }
   ],
   "source": [
    "# In 2D, same idea, though in a DF [] accesses columns (Series)\n",
    "giss_temp[\"Jan\"]"
   ]
  },
  {
   "cell_type": "code",
   "execution_count": 17,
   "metadata": {
    "collapsed": false
   },
   "outputs": [
    {
     "name": "stdout",
     "output_type": "stream",
     "text": [
      "43.0\n"
     ]
    }
   ],
   "source": [
    "# while .loc and .iloc allow to access individual values, slices or masked selections:\n",
    "print(giss_temp.loc[1979, \"Dec\"])"
   ]
  },
  {
   "cell_type": "code",
   "execution_count": 18,
   "metadata": {
    "collapsed": false
   },
   "outputs": [
    {
     "name": "stdout",
     "output_type": "stream",
     "text": [
      "Jan    10.0\n",
      "Feb   -12.0\n",
      "Mar    14.0\n",
      "Apr     8.0\n",
      "May     1.0\n",
      "Jun     9.0\n",
      "Name: 1979, dtype: float32\n",
      "Jan    10.0\n",
      "Mar    14.0\n",
      "May     1.0\n",
      "Jul    -3.0\n",
      "Sep    20.0\n",
      "Nov    24.0\n",
      "Name: 1979, dtype: float32\n"
     ]
    }
   ],
   "source": [
    "# Slicing can be done with .loc and .iloc\n",
    "print(giss_temp.loc[1979, \"Jan\":\"Jun\"])  # Note that the end point is included unlike NumPy!!!\n",
    "print(giss_temp.loc[1979, ::2])"
   ]
  },
  {
   "cell_type": "code",
   "execution_count": 19,
   "metadata": {
    "collapsed": false
   },
   "outputs": [
    {
     "name": "stdout",
     "output_type": "stream",
     "text": [
      "Jan   -34.0\n",
      "Mar   -22.0\n",
      "May   -16.0\n",
      "Jul   -19.0\n",
      "Sep   -20.0\n",
      "Nov   -16.0\n",
      "Name: 1880, dtype: float32\n",
      "Jan   -34.0\n",
      "Mar   -22.0\n",
      "May   -16.0\n",
      "Jul   -19.0\n",
      "Sep   -20.0\n",
      "Nov   -16.0\n",
      "Name: 1880, dtype: float32\n"
     ]
    }
   ],
   "source": [
    "# Masking can also be used in one or more dimensions. For example, another way to grab every other month for the first year:\n",
    "mask = [True, False] * 6\n",
    "print(giss_temp.iloc[0, mask])\n",
    "print(giss_temp.loc[1880, mask])"
   ]
  },
  {
   "cell_type": "code",
   "execution_count": 20,
   "metadata": {
    "collapsed": false
   },
   "outputs": [
    {
     "data": {
      "text/html": [
       "<div>\n",
       "<table border=\"1\" class=\"dataframe\">\n",
       "  <thead>\n",
       "    <tr style=\"text-align: right;\">\n",
       "      <th></th>\n",
       "      <th>Jan</th>\n",
       "      <th>Feb</th>\n",
       "      <th>Mar</th>\n",
       "      <th>Apr</th>\n",
       "      <th>May</th>\n",
       "      <th>Jun</th>\n",
       "      <th>Jul</th>\n",
       "      <th>Aug</th>\n",
       "      <th>Sep</th>\n",
       "      <th>Oct</th>\n",
       "      <th>Nov</th>\n",
       "      <th>Dec</th>\n",
       "      <th>totals</th>\n",
       "    </tr>\n",
       "    <tr>\n",
       "      <th>Year</th>\n",
       "      <th></th>\n",
       "      <th></th>\n",
       "      <th></th>\n",
       "      <th></th>\n",
       "      <th></th>\n",
       "      <th></th>\n",
       "      <th></th>\n",
       "      <th></th>\n",
       "      <th></th>\n",
       "      <th></th>\n",
       "      <th></th>\n",
       "      <th></th>\n",
       "      <th></th>\n",
       "    </tr>\n",
       "  </thead>\n",
       "  <tbody>\n",
       "    <tr>\n",
       "      <th>1880</th>\n",
       "      <td>-34.0</td>\n",
       "      <td>-27.0</td>\n",
       "      <td>-22.0</td>\n",
       "      <td>-30.0</td>\n",
       "      <td>-16.0</td>\n",
       "      <td>-24.0</td>\n",
       "      <td>-19.0</td>\n",
       "      <td>-12.0</td>\n",
       "      <td>-20.0</td>\n",
       "      <td>-19.0</td>\n",
       "      <td>-16.0</td>\n",
       "      <td>-21.0</td>\n",
       "      <td>-260.0</td>\n",
       "    </tr>\n",
       "    <tr>\n",
       "      <th>1881</th>\n",
       "      <td>-13.0</td>\n",
       "      <td>-16.0</td>\n",
       "      <td>-2.0</td>\n",
       "      <td>-3.0</td>\n",
       "      <td>-3.0</td>\n",
       "      <td>-27.0</td>\n",
       "      <td>-12.0</td>\n",
       "      <td>-8.0</td>\n",
       "      <td>-18.0</td>\n",
       "      <td>-23.0</td>\n",
       "      <td>-28.0</td>\n",
       "      <td>-18.0</td>\n",
       "      <td>-171.0</td>\n",
       "    </tr>\n",
       "    <tr>\n",
       "      <th>1882</th>\n",
       "      <td>3.0</td>\n",
       "      <td>4.0</td>\n",
       "      <td>-2.0</td>\n",
       "      <td>-24.0</td>\n",
       "      <td>-20.0</td>\n",
       "      <td>-32.0</td>\n",
       "      <td>-27.0</td>\n",
       "      <td>-11.0</td>\n",
       "      <td>-11.0</td>\n",
       "      <td>-25.0</td>\n",
       "      <td>-25.0</td>\n",
       "      <td>-37.0</td>\n",
       "      <td>-207.0</td>\n",
       "    </tr>\n",
       "    <tr>\n",
       "      <th>1883</th>\n",
       "      <td>-38.0</td>\n",
       "      <td>-38.0</td>\n",
       "      <td>-12.0</td>\n",
       "      <td>-20.0</td>\n",
       "      <td>-20.0</td>\n",
       "      <td>-8.0</td>\n",
       "      <td>-3.0</td>\n",
       "      <td>-13.0</td>\n",
       "      <td>-19.0</td>\n",
       "      <td>-19.0</td>\n",
       "      <td>-28.0</td>\n",
       "      <td>-21.0</td>\n",
       "      <td>-239.0</td>\n",
       "    </tr>\n",
       "    <tr>\n",
       "      <th>1884</th>\n",
       "      <td>-20.0</td>\n",
       "      <td>-14.0</td>\n",
       "      <td>-31.0</td>\n",
       "      <td>-36.0</td>\n",
       "      <td>-33.0</td>\n",
       "      <td>-36.0</td>\n",
       "      <td>-31.0</td>\n",
       "      <td>-24.0</td>\n",
       "      <td>-29.0</td>\n",
       "      <td>-25.0</td>\n",
       "      <td>-29.0</td>\n",
       "      <td>-25.0</td>\n",
       "      <td>-333.0</td>\n",
       "    </tr>\n",
       "    <tr>\n",
       "      <th>1885</th>\n",
       "      <td>-57.0</td>\n",
       "      <td>-29.0</td>\n",
       "      <td>-19.0</td>\n",
       "      <td>-36.0</td>\n",
       "      <td>-35.0</td>\n",
       "      <td>-40.0</td>\n",
       "      <td>-28.0</td>\n",
       "      <td>-24.0</td>\n",
       "      <td>-17.0</td>\n",
       "      <td>-14.0</td>\n",
       "      <td>-14.0</td>\n",
       "      <td>0.0</td>\n",
       "      <td>-313.0</td>\n",
       "    </tr>\n",
       "    <tr>\n",
       "      <th>1886</th>\n",
       "      <td>-37.0</td>\n",
       "      <td>-43.0</td>\n",
       "      <td>-34.0</td>\n",
       "      <td>-23.0</td>\n",
       "      <td>-21.0</td>\n",
       "      <td>-30.0</td>\n",
       "      <td>-13.0</td>\n",
       "      <td>-21.0</td>\n",
       "      <td>-12.0</td>\n",
       "      <td>-22.0</td>\n",
       "      <td>-29.0</td>\n",
       "      <td>-18.0</td>\n",
       "      <td>-303.0</td>\n",
       "    </tr>\n",
       "    <tr>\n",
       "      <th>1887</th>\n",
       "      <td>-60.0</td>\n",
       "      <td>-43.0</td>\n",
       "      <td>-26.0</td>\n",
       "      <td>-34.0</td>\n",
       "      <td>-28.0</td>\n",
       "      <td>-25.0</td>\n",
       "      <td>-19.0</td>\n",
       "      <td>-28.0</td>\n",
       "      <td>-24.0</td>\n",
       "      <td>-33.0</td>\n",
       "      <td>-29.0</td>\n",
       "      <td>-40.0</td>\n",
       "      <td>-389.0</td>\n",
       "    </tr>\n",
       "    <tr>\n",
       "      <th>...</th>\n",
       "      <td>...</td>\n",
       "      <td>...</td>\n",
       "      <td>...</td>\n",
       "      <td>...</td>\n",
       "      <td>...</td>\n",
       "      <td>...</td>\n",
       "      <td>...</td>\n",
       "      <td>...</td>\n",
       "      <td>...</td>\n",
       "      <td>...</td>\n",
       "      <td>...</td>\n",
       "      <td>...</td>\n",
       "      <td>...</td>\n",
       "    </tr>\n",
       "    <tr>\n",
       "      <th>2008</th>\n",
       "      <td>22.0</td>\n",
       "      <td>31.0</td>\n",
       "      <td>70.0</td>\n",
       "      <td>48.0</td>\n",
       "      <td>46.0</td>\n",
       "      <td>43.0</td>\n",
       "      <td>54.0</td>\n",
       "      <td>39.0</td>\n",
       "      <td>59.0</td>\n",
       "      <td>62.0</td>\n",
       "      <td>62.0</td>\n",
       "      <td>51.0</td>\n",
       "      <td>587.0</td>\n",
       "    </tr>\n",
       "    <tr>\n",
       "      <th>2009</th>\n",
       "      <td>56.0</td>\n",
       "      <td>48.0</td>\n",
       "      <td>49.0</td>\n",
       "      <td>57.0</td>\n",
       "      <td>59.0</td>\n",
       "      <td>62.0</td>\n",
       "      <td>66.0</td>\n",
       "      <td>61.0</td>\n",
       "      <td>64.0</td>\n",
       "      <td>58.0</td>\n",
       "      <td>72.0</td>\n",
       "      <td>58.0</td>\n",
       "      <td>710.0</td>\n",
       "    </tr>\n",
       "    <tr>\n",
       "      <th>2010</th>\n",
       "      <td>66.0</td>\n",
       "      <td>75.0</td>\n",
       "      <td>87.0</td>\n",
       "      <td>82.0</td>\n",
       "      <td>71.0</td>\n",
       "      <td>60.0</td>\n",
       "      <td>56.0</td>\n",
       "      <td>59.0</td>\n",
       "      <td>55.0</td>\n",
       "      <td>65.0</td>\n",
       "      <td>74.0</td>\n",
       "      <td>44.0</td>\n",
       "      <td>794.0</td>\n",
       "    </tr>\n",
       "    <tr>\n",
       "      <th>2011</th>\n",
       "      <td>45.0</td>\n",
       "      <td>44.0</td>\n",
       "      <td>57.0</td>\n",
       "      <td>60.0</td>\n",
       "      <td>47.0</td>\n",
       "      <td>54.0</td>\n",
       "      <td>70.0</td>\n",
       "      <td>69.0</td>\n",
       "      <td>52.0</td>\n",
       "      <td>60.0</td>\n",
       "      <td>50.0</td>\n",
       "      <td>48.0</td>\n",
       "      <td>656.0</td>\n",
       "    </tr>\n",
       "    <tr>\n",
       "      <th>2012</th>\n",
       "      <td>38.0</td>\n",
       "      <td>43.0</td>\n",
       "      <td>52.0</td>\n",
       "      <td>62.0</td>\n",
       "      <td>71.0</td>\n",
       "      <td>59.0</td>\n",
       "      <td>50.0</td>\n",
       "      <td>56.0</td>\n",
       "      <td>68.0</td>\n",
       "      <td>73.0</td>\n",
       "      <td>69.0</td>\n",
       "      <td>46.0</td>\n",
       "      <td>687.0</td>\n",
       "    </tr>\n",
       "    <tr>\n",
       "      <th>2013</th>\n",
       "      <td>62.0</td>\n",
       "      <td>52.0</td>\n",
       "      <td>60.0</td>\n",
       "      <td>48.0</td>\n",
       "      <td>56.0</td>\n",
       "      <td>61.0</td>\n",
       "      <td>53.0</td>\n",
       "      <td>61.0</td>\n",
       "      <td>73.0</td>\n",
       "      <td>61.0</td>\n",
       "      <td>75.0</td>\n",
       "      <td>61.0</td>\n",
       "      <td>723.0</td>\n",
       "    </tr>\n",
       "    <tr>\n",
       "      <th>2014</th>\n",
       "      <td>68.0</td>\n",
       "      <td>44.0</td>\n",
       "      <td>71.0</td>\n",
       "      <td>72.0</td>\n",
       "      <td>79.0</td>\n",
       "      <td>62.0</td>\n",
       "      <td>50.0</td>\n",
       "      <td>74.0</td>\n",
       "      <td>81.0</td>\n",
       "      <td>78.0</td>\n",
       "      <td>64.0</td>\n",
       "      <td>74.0</td>\n",
       "      <td>817.0</td>\n",
       "    </tr>\n",
       "    <tr>\n",
       "      <th>2015</th>\n",
       "      <td>75.0</td>\n",
       "      <td>80.0</td>\n",
       "      <td>84.0</td>\n",
       "      <td>71.0</td>\n",
       "      <td>NaN</td>\n",
       "      <td>NaN</td>\n",
       "      <td>NaN</td>\n",
       "      <td>NaN</td>\n",
       "      <td>NaN</td>\n",
       "      <td>NaN</td>\n",
       "      <td>NaN</td>\n",
       "      <td>NaN</td>\n",
       "      <td>310.0</td>\n",
       "    </tr>\n",
       "  </tbody>\n",
       "</table>\n",
       "<p>136 rows × 13 columns</p>\n",
       "</div>"
      ],
      "text/plain": [
       "       Jan   Feb   Mar   Apr   May   Jun   Jul   Aug   Sep   Oct   Nov   Dec  \\\n",
       "Year                                                                           \n",
       "1880 -34.0 -27.0 -22.0 -30.0 -16.0 -24.0 -19.0 -12.0 -20.0 -19.0 -16.0 -21.0   \n",
       "1881 -13.0 -16.0  -2.0  -3.0  -3.0 -27.0 -12.0  -8.0 -18.0 -23.0 -28.0 -18.0   \n",
       "1882   3.0   4.0  -2.0 -24.0 -20.0 -32.0 -27.0 -11.0 -11.0 -25.0 -25.0 -37.0   \n",
       "1883 -38.0 -38.0 -12.0 -20.0 -20.0  -8.0  -3.0 -13.0 -19.0 -19.0 -28.0 -21.0   \n",
       "1884 -20.0 -14.0 -31.0 -36.0 -33.0 -36.0 -31.0 -24.0 -29.0 -25.0 -29.0 -25.0   \n",
       "1885 -57.0 -29.0 -19.0 -36.0 -35.0 -40.0 -28.0 -24.0 -17.0 -14.0 -14.0   0.0   \n",
       "1886 -37.0 -43.0 -34.0 -23.0 -21.0 -30.0 -13.0 -21.0 -12.0 -22.0 -29.0 -18.0   \n",
       "1887 -60.0 -43.0 -26.0 -34.0 -28.0 -25.0 -19.0 -28.0 -24.0 -33.0 -29.0 -40.0   \n",
       "...    ...   ...   ...   ...   ...   ...   ...   ...   ...   ...   ...   ...   \n",
       "2008  22.0  31.0  70.0  48.0  46.0  43.0  54.0  39.0  59.0  62.0  62.0  51.0   \n",
       "2009  56.0  48.0  49.0  57.0  59.0  62.0  66.0  61.0  64.0  58.0  72.0  58.0   \n",
       "2010  66.0  75.0  87.0  82.0  71.0  60.0  56.0  59.0  55.0  65.0  74.0  44.0   \n",
       "2011  45.0  44.0  57.0  60.0  47.0  54.0  70.0  69.0  52.0  60.0  50.0  48.0   \n",
       "2012  38.0  43.0  52.0  62.0  71.0  59.0  50.0  56.0  68.0  73.0  69.0  46.0   \n",
       "2013  62.0  52.0  60.0  48.0  56.0  61.0  53.0  61.0  73.0  61.0  75.0  61.0   \n",
       "2014  68.0  44.0  71.0  72.0  79.0  62.0  50.0  74.0  81.0  78.0  64.0  74.0   \n",
       "2015  75.0  80.0  84.0  71.0   NaN   NaN   NaN   NaN   NaN   NaN   NaN   NaN   \n",
       "\n",
       "      totals  \n",
       "Year          \n",
       "1880  -260.0  \n",
       "1881  -171.0  \n",
       "1882  -207.0  \n",
       "1883  -239.0  \n",
       "1884  -333.0  \n",
       "1885  -313.0  \n",
       "1886  -303.0  \n",
       "1887  -389.0  \n",
       "...      ...  \n",
       "2008   587.0  \n",
       "2009   710.0  \n",
       "2010   794.0  \n",
       "2011   656.0  \n",
       "2012   687.0  \n",
       "2013   723.0  \n",
       "2014   817.0  \n",
       "2015   310.0  \n",
       "\n",
       "[136 rows x 13 columns]"
      ]
     },
     "execution_count": 20,
     "metadata": {},
     "output_type": "execute_result"
    }
   ],
   "source": [
    "# We could also add a new column like a new entry in a dictionary\n",
    "giss_temp[\"totals\"] = giss_temp.sum(axis=1)\n",
    "giss_temp"
   ]
  },
  {
   "cell_type": "code",
   "execution_count": 21,
   "metadata": {
    "collapsed": false
   },
   "outputs": [],
   "source": [
    "# Let's remove this new column, we will learn to do this differently\n",
    "giss_temp = giss_temp.drop(\"totals\", axis=1)"
   ]
  },
  {
   "cell_type": "markdown",
   "metadata": {},
   "source": [
    "More complex queries rely on the same concepts. For example what are the names, and IDs of the sea level stations in the USA?"
   ]
  },
  {
   "cell_type": "code",
   "execution_count": 22,
   "metadata": {
    "collapsed": false
   },
   "outputs": [
    {
     "ename": "NameError",
     "evalue": "name 'local_sea_level_stations' is not defined",
     "output_type": "error",
     "traceback": [
      "\u001b[0;31m---------------------------------------------------------------------------\u001b[0m",
      "\u001b[0;31mNameError\u001b[0m                                 Traceback (most recent call last)",
      "\u001b[0;32m<ipython-input-22-e1eec42925fc>\u001b[0m in \u001b[0;36m<module>\u001b[0;34m()\u001b[0m\n\u001b[0;32m----> 1\u001b[0;31m \u001b[0mlocal_sea_level_stations\u001b[0m\u001b[0;34m.\u001b[0m\u001b[0mcolumns\u001b[0m\u001b[0;34m\u001b[0m\u001b[0m\n\u001b[0m",
      "\u001b[0;31mNameError\u001b[0m: name 'local_sea_level_stations' is not defined"
     ]
    }
   ],
   "source": [
    "local_sea_level_stations.columns"
   ]
  },
  {
   "cell_type": "code",
   "execution_count": null,
   "metadata": {
    "collapsed": false
   },
   "outputs": [],
   "source": [
    "american_stations = local_sea_level_stations[\"Country\"] == \"USA\"\n",
    "local_sea_level_stations.loc[american_stations, [\"ID\", \"Station Name\"]]"
   ]
  },
  {
   "cell_type": "markdown",
   "metadata": {},
   "source": [
    "## 6. Working with dates and times"
   ]
  },
  {
   "cell_type": "markdown",
   "metadata": {},
   "source": [
    "More details at http://pandas.pydata.org/pandas-docs/stable/timeseries.html"
   ]
  },
  {
   "cell_type": "markdown",
   "metadata": {},
   "source": [
    "Let's work some more with `full_globe_temp`'s index since we saw it is special."
   ]
  },
  {
   "cell_type": "code",
   "execution_count": null,
   "metadata": {
    "collapsed": false
   },
   "outputs": [],
   "source": [
    "# Its dtype is NumPy's new 'datetime64[ns]':\n",
    "full_globe_temp.index.dtype"
   ]
  },
  {
   "cell_type": "markdown",
   "metadata": {},
   "source": [
    "The advantage of having a real datetime index is that operations can be done efficiently on it. Let's add a flag to signal if the value is before or after the great depression's black Friday:"
   ]
  },
  {
   "cell_type": "code",
   "execution_count": null,
   "metadata": {
    "collapsed": false
   },
   "outputs": [],
   "source": [
    "black_friday = pd.to_datetime('1929-10-29')\n",
    "full_globe_temp.index > black_friday"
   ]
  },
  {
   "cell_type": "markdown",
   "metadata": {},
   "source": [
    "### Timestamps or periods?"
   ]
  },
  {
   "cell_type": "code",
   "execution_count": null,
   "metadata": {
    "collapsed": false
   },
   "outputs": [],
   "source": [
    "# Convert its index from timestamp to period: it is more meaningfull since it was measured and averaged over the year...\n",
    "full_globe_temp.index = full_globe_temp.index.to_period()\n",
    "full_globe_temp"
   ]
  },
  {
   "cell_type": "markdown",
   "metadata": {},
   "source": [
    "See also `to_timestamp` to conver back to timestamps and its `how` method to specify when inside the range to set the timestamp."
   ]
  },
  {
   "cell_type": "markdown",
   "metadata": {},
   "source": [
    "### Resampling"
   ]
  },
  {
   "cell_type": "markdown",
   "metadata": {},
   "source": [
    "Another thing that can be done is to resample the series, downsample or upsample. Let's see the series converted to 10 year blocks or upscale to a monthly series:"
   ]
  },
  {
   "cell_type": "code",
   "execution_count": null,
   "metadata": {
    "collapsed": false
   },
   "outputs": [],
   "source": [
    "# Frequencies can be specified as strings: \"us\", \"ms\", \"S\", \"T\", \"H\", \"D\", \"B\", \"W\", \"M\", \"A\", \"3min\", \"2h20\", ...\n",
    "# More aliases at http://pandas.pydata.org/pandas-docs/stable/timeseries.html#offset-aliases\n",
    "full_globe_temp.resample(\"M\").mean()"
   ]
  },
  {
   "cell_type": "code",
   "execution_count": null,
   "metadata": {
    "collapsed": false
   },
   "outputs": [],
   "source": [
    "full_globe_temp.resample(\"10A\").mean()"
   ]
  },
  {
   "cell_type": "markdown",
   "metadata": {},
   "source": [
    "### Generating DatetimeIndex objects"
   ]
  },
  {
   "cell_type": "markdown",
   "metadata": {},
   "source": [
    "The index for `giss_temp` isn't an instance of datetimes so we may want to generate such `DatetimeIndex` objects. This can be done with `date_range` and `period_range`:"
   ]
  },
  {
   "cell_type": "code",
   "execution_count": null,
   "metadata": {
    "collapsed": false
   },
   "outputs": [],
   "source": [
    "# Can specify a start date and a number of values desired. By default it will assume an interval of 1 day:\n",
    "pd.date_range('1/1/1880', periods=4)"
   ]
  },
  {
   "cell_type": "code",
   "execution_count": null,
   "metadata": {
    "collapsed": false
   },
   "outputs": [],
   "source": [
    "# Can also specify a start and a stop date, as well as a frequency\n",
    "pd.date_range('1/1/1880', '1/1/2016', freq=\"A\")"
   ]
  },
  {
   "cell_type": "markdown",
   "metadata": {},
   "source": [
    "Note that `\"A\"` by default means the end of the year. Other times in the year can be specified with `\"AS\"` (start), `\"A-JAN\"` or `\"A-JUN\"`. Even more options can be imported from `pandas.tseries.offsets`:"
   ]
  },
  {
   "cell_type": "code",
   "execution_count": null,
   "metadata": {
    "collapsed": false
   },
   "outputs": [],
   "source": [
    "from pandas.tseries.offsets import YearBegin\n",
    "pd.date_range('1/1/1880', '1/1/2015', freq=YearBegin())"
   ]
  },
  {
   "cell_type": "markdown",
   "metadata": {},
   "source": [
    "Actually we will convert that dataset to a 1D dataset, and build a monthly index, so lets build a monthly period index"
   ]
  },
  {
   "cell_type": "code",
   "execution_count": null,
   "metadata": {
    "collapsed": false
   },
   "outputs": [],
   "source": [
    "giss_temp_index = pd.period_range('1/1/1880', '12/1/2015', freq=\"M\")\n",
    "giss_temp_index"
   ]
  },
  {
   "cell_type": "markdown",
   "metadata": {},
   "source": [
    "## 7. Transforming datasets: apply, sort, stack/unstack and transpose"
   ]
  },
  {
   "cell_type": "markdown",
   "metadata": {},
   "source": [
    "Let's look at our `local_sea_level_stations` dataset some more, to learn more about it and also do some formatting. What is the range of dates and lattitudes we have, the list of countries, the range of variations, ..."
   ]
  },
  {
   "cell_type": "code",
   "execution_count": null,
   "metadata": {
    "collapsed": false
   },
   "outputs": [],
   "source": [
    "# What about the range of dates?\n",
    "local_sea_level_stations[\"Date\"].min(), local_sea_level_stations[\"Date\"].max(), local_sea_level_stations[\"Date\"].iloc[-1]"
   ]
  },
  {
   "cell_type": "code",
   "execution_count": null,
   "metadata": {
    "collapsed": false
   },
   "outputs": [],
   "source": [
    "local_sea_level_stations.dtypes"
   ]
  },
  {
   "cell_type": "markdown",
   "metadata": {},
   "source": [
    "### Apply: transforming Series"
   ]
  },
  {
   "cell_type": "markdown",
   "metadata": {},
   "source": [
    "We don't see the range of dates because the dates are of dtype \"Object\", (usually meaning strings). Let's convert that using `apply`:"
   ]
  },
  {
   "cell_type": "code",
   "execution_count": null,
   "metadata": {
    "collapsed": false
   },
   "outputs": [],
   "source": [
    "local_sea_level_stations[\"Date\"].apply(pd.to_datetime)"
   ]
  },
  {
   "cell_type": "markdown",
   "metadata": {},
   "source": [
    "This `apply` method is very powerful and general. We have used it to do something we could have done with `astype`, but any custom function can be provided to `apply`."
   ]
  },
  {
   "cell_type": "code",
   "execution_count": null,
   "metadata": {
    "collapsed": false
   },
   "outputs": [],
   "source": [
    "local_sea_level_stations[\"Date\"] = local_sea_level_stations[\"Date\"].apply(pd.to_datetime)\n",
    "\n",
    "# Now we can really compare the dates, and therefore get a real range:\n",
    "print(local_sea_level_stations[\"Date\"].min(), local_sea_level_stations[\"Date\"].max())"
   ]
  },
  {
   "cell_type": "markdown",
   "metadata": {},
   "source": [
    "**EXERCISE:** Use the `apply` method to search through the stations names for a station in New York. What is the ID of the station?"
   ]
  },
  {
   "cell_type": "code",
   "execution_count": null,
   "metadata": {
    "collapsed": false
   },
   "outputs": [],
   "source": [
    "# Your code here"
   ]
  },
  {
   "cell_type": "markdown",
   "metadata": {},
   "source": [
    "Now that we know the range of dates, to look at the data, sorting it following the dates is done with `sort`:"
   ]
  },
  {
   "cell_type": "code",
   "execution_count": null,
   "metadata": {
    "collapsed": false
   },
   "outputs": [],
   "source": [
    "local_sea_level_stations.sort_values(by=\"Date\")"
   ]
  },
  {
   "cell_type": "markdown",
   "metadata": {},
   "source": [
    "Since many stations last updated on the same dates, it is logical to want to sort further, for example, by `Country` at constant date:"
   ]
  },
  {
   "cell_type": "code",
   "execution_count": null,
   "metadata": {
    "collapsed": false
   },
   "outputs": [],
   "source": [
    "local_sea_level_stations.sort_values(by=[\"Date\", \"Country\"], ascending=False)"
   ]
  },
  {
   "cell_type": "markdown",
   "metadata": {},
   "source": [
    "### Stack and unstack"
   ]
  },
  {
   "cell_type": "markdown",
   "metadata": {},
   "source": [
    "Let's look at the GISS dataset differently. Instead of seeing the months along the axis 1, and the years along the axis 0, it would could be good to convert these into an outer and an inner axis along only 1 time dimension.\n",
    "\n",
    "Stacking and unstacking allows to convert a dataframe into a series and vice-versa:"
   ]
  },
  {
   "cell_type": "code",
   "execution_count": null,
   "metadata": {
    "collapsed": false
   },
   "outputs": [],
   "source": [
    "giss_temp.unstack?\n",
    "unstacked = giss_temp.unstack()\n",
    "unstacked"
   ]
  },
  {
   "cell_type": "code",
   "execution_count": null,
   "metadata": {
    "collapsed": false
   },
   "outputs": [],
   "source": [
    "# Note the nature of the result:\n",
    "type(unstacked)"
   ]
  },
  {
   "cell_type": "markdown",
   "metadata": {},
   "source": [
    "The result is grouped in the wrong order since it sorts first the axis that was unstacked. Another transformation that would help us is transposing..."
   ]
  },
  {
   "cell_type": "code",
   "execution_count": null,
   "metadata": {
    "collapsed": false
   },
   "outputs": [],
   "source": [
    "giss_temp.transpose()"
   ]
  },
  {
   "cell_type": "code",
   "execution_count": null,
   "metadata": {
    "collapsed": false
   },
   "outputs": [],
   "source": [
    "giss_temp_series = giss_temp.transpose().unstack()\n",
    "giss_temp_series.name = \"Temp anomaly\"\n",
    "giss_temp_series"
   ]
  },
  {
   "cell_type": "markdown",
   "metadata": {},
   "source": [
    "### A side note: Multi-indexes"
   ]
  },
  {
   "cell_type": "code",
   "execution_count": null,
   "metadata": {
    "collapsed": false
   },
   "outputs": [],
   "source": [
    "# Note the nature of the resulting index:\n",
    "giss_temp_series.index"
   ]
  },
  {
   "cell_type": "code",
   "execution_count": null,
   "metadata": {
    "collapsed": false
   },
   "outputs": [],
   "source": [
    "# It is an index made of 2 columns. Let's fix the fact that one of them doesn't have a name:\n",
    "giss_temp_series.index = giss_temp_series.index.set_names([\"year\", \"month\"])"
   ]
  },
  {
   "cell_type": "code",
   "execution_count": null,
   "metadata": {
    "collapsed": false
   },
   "outputs": [],
   "source": [
    "# We can now access deviations by specifying the year and month:\n",
    "giss_temp_series[1980, \"Jan\"]"
   ]
  },
  {
   "cell_type": "markdown",
   "metadata": {},
   "source": [
    "But this new multi-index isn't very good, because is it not viewed as 1 date, just as a tuple of values:"
   ]
  },
  {
   "cell_type": "code",
   "execution_count": null,
   "metadata": {
    "collapsed": false
   },
   "outputs": [],
   "source": [
    "giss_temp_series.plot(figsize=LARGE_FIGSIZE)"
   ]
  },
  {
   "cell_type": "markdown",
   "metadata": {},
   "source": [
    "To improve on this, let's reuse an index we generated above with `date_range`:"
   ]
  },
  {
   "cell_type": "code",
   "execution_count": null,
   "metadata": {
    "collapsed": false
   },
   "outputs": [],
   "source": [
    "giss_temp_series.index = giss_temp_index\n",
    "giss_temp_series.plot(figsize=LARGE_FIGSIZE)"
   ]
  },
  {
   "cell_type": "markdown",
   "metadata": {},
   "source": [
    "## 8. Statistical analysis"
   ]
  },
  {
   "cell_type": "markdown",
   "metadata": {},
   "source": [
    "### Descriptive statistics"
   ]
  },
  {
   "cell_type": "markdown",
   "metadata": {},
   "source": [
    "Let's go back to the dataframe version of the GISS temperature dataset temporarily to analyze anomalies month per month. Like most functions on a dataframe, stats functions are computed column per column. They also ignore missing values:"
   ]
  },
  {
   "cell_type": "code",
   "execution_count": null,
   "metadata": {
    "collapsed": false
   },
   "outputs": [],
   "source": [
    "monthly_averages = giss_temp.mean()\n",
    "monthly_averages"
   ]
  },
  {
   "cell_type": "markdown",
   "metadata": {},
   "source": [
    "It is possible to apply stats functions across rows instead of columns using the `axis` keyword (just like in NumPy)."
   ]
  },
  {
   "cell_type": "code",
   "execution_count": null,
   "metadata": {
    "collapsed": false
   },
   "outputs": [],
   "source": [
    "yearly_averages = giss_temp.mean(axis=1)\n",
    "yearly_averages"
   ]
  },
  {
   "cell_type": "markdown",
   "metadata": {},
   "source": [
    "`describe` provides many descriptive stats computed at once:"
   ]
  },
  {
   "cell_type": "code",
   "execution_count": null,
   "metadata": {
    "collapsed": false
   },
   "outputs": [],
   "source": [
    "mean_sea_level.describe()"
   ]
  },
  {
   "cell_type": "markdown",
   "metadata": {},
   "source": [
    "### Rolling statistics"
   ]
  },
  {
   "cell_type": "markdown",
   "metadata": {},
   "source": [
    "Let's remove high frequency signal and extract the trend:"
   ]
  },
  {
   "cell_type": "code",
   "execution_count": null,
   "metadata": {
    "collapsed": false
   },
   "outputs": [],
   "source": [
    "full_globe_temp.plot()\n",
    "rolled_series = full_globe_temp.rolling(window=10, center=False)\n",
    "print(rolled_series)\n",
    "rolled_series.mean().plot(figsize=LARGE_FIGSIZE)"
   ]
  },
  {
   "cell_type": "code",
   "execution_count": null,
   "metadata": {
    "collapsed": false
   },
   "outputs": [],
   "source": [
    "# To see what all can be done while rolling, \n",
    "#pd.rolling_<TAB>"
   ]
  },
  {
   "cell_type": "markdown",
   "metadata": {},
   "source": [
    "### Describing categorical series"
   ]
  },
  {
   "cell_type": "markdown",
   "metadata": {},
   "source": [
    "Let's look at our `local_sea_level_stations` dataset some more:"
   ]
  },
  {
   "cell_type": "code",
   "execution_count": null,
   "metadata": {
    "collapsed": false
   },
   "outputs": [],
   "source": [
    "local_sea_level_stations.describe()"
   ]
  },
  {
   "cell_type": "markdown",
   "metadata": {},
   "source": [
    "`.describe()` only displays information about continuous `Series`. What about categorical ones?"
   ]
  },
  {
   "cell_type": "code",
   "execution_count": null,
   "metadata": {
    "collapsed": false
   },
   "outputs": [],
   "source": [
    "local_sea_level_stations.columns"
   ]
  },
  {
   "cell_type": "code",
   "execution_count": null,
   "metadata": {
    "collapsed": false
   },
   "outputs": [],
   "source": [
    "local_sea_level_stations[\"Country\"]"
   ]
  },
  {
   "cell_type": "code",
   "execution_count": null,
   "metadata": {
    "collapsed": false
   },
   "outputs": [],
   "source": [
    "local_sea_level_stations[\"Country\"].describe()"
   ]
  },
  {
   "cell_type": "code",
   "execution_count": null,
   "metadata": {
    "collapsed": false
   },
   "outputs": [],
   "source": [
    "# List of unique values:\n",
    "local_sea_level_stations[\"Country\"].unique()"
   ]
  },
  {
   "cell_type": "code",
   "execution_count": null,
   "metadata": {
    "collapsed": false
   },
   "outputs": [],
   "source": [
    "local_sea_level_stations[\"Country\"].value_counts()"
   ]
  },
  {
   "cell_type": "code",
   "execution_count": null,
   "metadata": {
    "collapsed": false
   },
   "outputs": [],
   "source": [
    "# To save memory, we can convert it to a categorical column:\n",
    "local_sea_level_stations[\"Country\"] = local_sea_level_stations[\"Country\"].astype(\"category\")"
   ]
  },
  {
   "cell_type": "markdown",
   "metadata": {},
   "source": [
    "We can also create categorical series from continuous ones with the cut function:"
   ]
  },
  {
   "cell_type": "code",
   "execution_count": null,
   "metadata": {
    "collapsed": false
   },
   "outputs": [],
   "source": [
    "categorized = pd.cut(full_globe_temp, 3, labels=[\"L\", \"M\", \"H\"])\n",
    "categorized"
   ]
  },
  {
   "cell_type": "code",
   "execution_count": null,
   "metadata": {
    "collapsed": false
   },
   "outputs": [],
   "source": [
    "# The advantage is that we can use labels and control the order they should be treated in (L < M < H)\n",
    "categorized.cat.categories"
   ]
  },
  {
   "cell_type": "markdown",
   "metadata": {},
   "source": [
    "**QUIZ:** How much memory did we save? What if it was categorized but with dtype `object` instead of `category`?"
   ]
  },
  {
   "cell_type": "markdown",
   "metadata": {},
   "source": [
    "## 9. Data Aggregation/summarization"
   ]
  },
  {
   "cell_type": "markdown",
   "metadata": {},
   "source": [
    "Now that we have a good grasp on our datasets, Let's transform and analyze them some more to prepare them to compare them. The 2 function(alities)s to learn about here are `groupby` and `pivot_table`."
   ]
  },
  {
   "cell_type": "markdown",
   "metadata": {},
   "source": [
    "### GroupBy"
   ]
  },
  {
   "cell_type": "markdown",
   "metadata": {},
   "source": [
    "Let's explore the sea levels, first splitting into calendar years to compute average sea levels for each year:"
   ]
  },
  {
   "cell_type": "code",
   "execution_count": null,
   "metadata": {
    "collapsed": false
   },
   "outputs": [],
   "source": [
    "mean_sea_level"
   ]
  },
  {
   "cell_type": "code",
   "execution_count": null,
   "metadata": {
    "collapsed": false
   },
   "outputs": [],
   "source": [
    "mean_sea_level = mean_sea_level.reset_index()\n",
    "mean_sea_level"
   ]
  },
  {
   "cell_type": "code",
   "execution_count": null,
   "metadata": {
    "collapsed": false
   },
   "outputs": [],
   "source": [
    "# Groupby with pandas can be done on a column or by applying a custom function to the index. \n",
    "# If we want to group the data by year, we can build a year column into the DF:\n",
    "mean_sea_level[\"year\"] = mean_sea_level[\"date\"].apply(int)\n",
    "mean_sea_level"
   ]
  },
  {
   "cell_type": "code",
   "execution_count": null,
   "metadata": {
    "collapsed": false
   },
   "outputs": [],
   "source": [
    "sl_grouped_year = mean_sea_level.groupby(\"year\")"
   ]
  },
  {
   "cell_type": "markdown",
   "metadata": {},
   "source": [
    "What kind of object did we create?"
   ]
  },
  {
   "cell_type": "code",
   "execution_count": null,
   "metadata": {
    "collapsed": false
   },
   "outputs": [],
   "source": [
    "type(sl_grouped_year)"
   ]
  },
  {
   "cell_type": "markdown",
   "metadata": {},
   "source": [
    "What to do with that strange GroupBy object? We can first loop over it to get the labels and the sub-dataframes for each group:"
   ]
  },
  {
   "cell_type": "code",
   "execution_count": null,
   "metadata": {
    "collapsed": false
   },
   "outputs": [],
   "source": [
    "for group_name, subdf in sl_grouped_year:\n",
    "    print(group_name)\n",
    "    print(subdf)\n",
    "    print(\"\")"
   ]
  },
  {
   "cell_type": "markdown",
   "metadata": {},
   "source": [
    "We could have done the same with less effort by grouping by the result of a custom function applied to the index. Let's reset the dataframe:"
   ]
  },
  {
   "cell_type": "code",
   "execution_count": null,
   "metadata": {
    "collapsed": false
   },
   "outputs": [],
   "source": [
    "mean_sea_level = mean_sea_level.drop([\"year\"], axis=1).set_index(\"date\")"
   ]
  },
  {
   "cell_type": "markdown",
   "metadata": {},
   "source": [
    "So that we can do the groupby on the index:"
   ]
  },
  {
   "cell_type": "code",
   "execution_count": null,
   "metadata": {
    "collapsed": false
   },
   "outputs": [],
   "source": [
    "sl_grouped_year = mean_sea_level.groupby(int)"
   ]
  },
  {
   "cell_type": "markdown",
   "metadata": {},
   "source": [
    "Something else that can be done with such an object is to look at its `groups` attribute to see the labels mapped to the rows involved:"
   ]
  },
  {
   "cell_type": "code",
   "execution_count": null,
   "metadata": {
    "collapsed": false
   },
   "outputs": [],
   "source": [
    "sl_grouped_year.groups"
   ]
  },
  {
   "cell_type": "markdown",
   "metadata": {},
   "source": [
    "How to aggregate the results of this grouping depends on what we want to see: do we want to see averaged over the years? That is so common that it has been implemented directly as a method on the `GroupBy` object."
   ]
  },
  {
   "cell_type": "code",
   "execution_count": null,
   "metadata": {
    "collapsed": false
   },
   "outputs": [],
   "source": [
    "sl_grouped_year.mean()"
   ]
  },
  {
   "cell_type": "code",
   "execution_count": null,
   "metadata": {
    "collapsed": false
   },
   "outputs": [],
   "source": [
    "# We can apply any other reduction function or even a dict of functions using aggregate:\n",
    "sl_grouped_year.aggregate({\"mean_global\": np.std})"
   ]
  },
  {
   "cell_type": "markdown",
   "metadata": {},
   "source": [
    "Another possibility is to transform each group separately, rather than aggregate. For example, here we group over decades and subtract to each value, the average over that decade:"
   ]
  },
  {
   "cell_type": "code",
   "execution_count": null,
   "metadata": {
    "collapsed": false
   },
   "outputs": [],
   "source": [
    "sl_grouped_decade = mean_sea_level.groupby(lambda x: int(x/10.))\n",
    "sl_grouped_decade.groups.keys()"
   ]
  },
  {
   "cell_type": "code",
   "execution_count": null,
   "metadata": {
    "collapsed": false
   },
   "outputs": [],
   "source": [
    "sl_grouped_decade.transform(lambda subframe: (subframe - subframe.mean()/subframe.std()))"
   ]
  },
  {
   "cell_type": "markdown",
   "metadata": {},
   "source": [
    "### Pivot_table"
   ]
  },
  {
   "cell_type": "markdown",
   "metadata": {},
   "source": [
    "Pivot table also allows to summarize the information, allowing to convert repeating columns into axes. For example, let's say that we would like to know how many sea level stations are in various european countries. And we would like to group the answers into 2 categories: the stations that have been updated recently (after 2000) and the others. \n",
    "\n",
    "Let's first extract only entries located (roughly) in Europe."
   ]
  },
  {
   "cell_type": "code",
   "execution_count": null,
   "metadata": {
    "collapsed": false
   },
   "outputs": [],
   "source": [
    "european_filter = ((local_sea_level_stations[\"Lat\"] > 30) & \n",
    "                   (local_sea_level_stations[\"Lat\"] < 70) & \n",
    "                   (local_sea_level_stations[\"Lon\"] > -10) & \n",
    "                   (local_sea_level_stations[\"Lon\"] < 40) \n",
    "                   )\n",
    "\n",
    "# Let's make a copy to work with a new, clean block of memory \n",
    "# (if you are interested, try and remove the copy to see the consequences further down...\n",
    "european_stations = local_sea_level_stations[european_filter].copy()\n",
    "european_stations[\"Country\"].unique()"
   ]
  },
  {
   "cell_type": "markdown",
   "metadata": {},
   "source": [
    "The columns of our future table should have 2 values, whether the station was updated recently or not. Let's build a column to store that information:"
   ]
  },
  {
   "cell_type": "code",
   "execution_count": null,
   "metadata": {
    "collapsed": false
   },
   "outputs": [],
   "source": [
    "european_stations[\"Recently updated\"] = european_stations[\"Date\"] > pd.to_datetime(\"2000\")"
   ]
  },
  {
   "cell_type": "markdown",
   "metadata": {},
   "source": [
    "Finally, what value will be displayed inside the table. The values should be extracted from a column, pivot_table allowing an aggregation function to be applied when more than 1 value is found for a given case. Each station should count for 1, and we could aggregate multiple stations by summing these ones:"
   ]
  },
  {
   "cell_type": "code",
   "execution_count": null,
   "metadata": {
    "collapsed": false
   },
   "outputs": [],
   "source": [
    "european_stations[\"Number of stations\"] = np.ones(len(european_stations))"
   ]
  },
  {
   "cell_type": "code",
   "execution_count": null,
   "metadata": {
    "collapsed": false
   },
   "outputs": [],
   "source": [
    "european_stations.sort_values(by=\"Country\")"
   ]
  },
  {
   "cell_type": "code",
   "execution_count": null,
   "metadata": {
    "collapsed": false
   },
   "outputs": [],
   "source": [
    "station_counts = pd.pivot_table(european_stations, index=\"Country\", columns=\"Recently updated\", \n",
    "                                values=\"Number of stations\", aggfunc=np.sum)\n",
    "# Let's remove from the table the countries for which no station was found:\n",
    "station_counts.dropna(how=\"all\")"
   ]
  },
  {
   "cell_type": "markdown",
   "metadata": {},
   "source": [
    "**QUIZ:** Why is there still some countries with no entries?"
   ]
  },
  {
   "cell_type": "markdown",
   "metadata": {},
   "source": [
    "**EXERCISE:** How many recently updated stations? Not recently updated stations? Which country has the most stations? Which country has the most recently updated stations?"
   ]
  },
  {
   "cell_type": "code",
   "execution_count": null,
   "metadata": {
    "collapsed": false
   },
   "outputs": [],
   "source": [
    "# Your code here"
   ]
  },
  {
   "cell_type": "markdown",
   "metadata": {},
   "source": [
    "**EXERCISE:** How would we build the same dataframe with a `groupby` operation?"
   ]
  },
  {
   "cell_type": "code",
   "execution_count": null,
   "metadata": {
    "collapsed": false
   },
   "outputs": [],
   "source": [
    "# Your code here"
   ]
  },
  {
   "cell_type": "markdown",
   "metadata": {},
   "source": [
    "**EXERCISE:** Refer to `exercises/pivot_table/pivot_tables.py`"
   ]
  },
  {
   "cell_type": "markdown",
   "metadata": {},
   "source": [
    "## 10. Correlations and regressions"
   ]
  },
  {
   "cell_type": "markdown",
   "metadata": {},
   "source": [
    "### Correlation coefficients"
   ]
  },
  {
   "cell_type": "markdown",
   "metadata": {},
   "source": [
    "Both Series and dataframes have a `corr` method to compute the correlation coefficient between series:"
   ]
  },
  {
   "cell_type": "code",
   "execution_count": null,
   "metadata": {
    "collapsed": false
   },
   "outputs": [],
   "source": [
    "# Let's see what how the various sea levels are correlated with each other:\n",
    "mean_sea_level[\"northern_hem\"].corr(mean_sea_level[\"southern_hem\"])"
   ]
  },
  {
   "cell_type": "code",
   "execution_count": null,
   "metadata": {
    "collapsed": false
   },
   "outputs": [],
   "source": [
    "# If series are already grouped into a DataFrame, computing all correlation coeff is trivial:\n",
    "mean_sea_level.corr()"
   ]
  },
  {
   "cell_type": "markdown",
   "metadata": {},
   "source": [
    "Note: by default, the method used is the `Pearson` correlation coefficient (https://en.wikipedia.org/wiki/Pearson_product-moment_correlation_coefficient). Other methods are available (`kendall`, `spearman` using the `method` kwarg)."
   ]
  },
  {
   "cell_type": "code",
   "execution_count": null,
   "metadata": {
    "collapsed": false
   },
   "outputs": [],
   "source": [
    "# Visualize the correlation matrix\n",
    "plt.imshow(mean_sea_level.corr(), interpolation=\"nearest\")"
   ]
  },
  {
   "cell_type": "code",
   "execution_count": null,
   "metadata": {
    "collapsed": false
   },
   "outputs": [],
   "source": [
    "plt.yticks?"
   ]
  },
  {
   "cell_type": "code",
   "execution_count": null,
   "metadata": {
    "collapsed": false
   },
   "outputs": [],
   "source": [
    "# let's make it a little better to confirm that learning about global sea level cannot be done from just \n",
    "# looking at stations in the northern hemisphere:\n",
    "plt.imshow(mean_sea_level.corr(), interpolation=\"nearest\")\n",
    "plt.xticks(np.arange(3), mean_sea_level.corr().columns)\n",
    "plt.yticks(np.arange(3), mean_sea_level.corr().index)\n",
    "plt.colorbar()"
   ]
  },
  {
   "cell_type": "markdown",
   "metadata": {},
   "source": [
    "### OLS"
   ]
  },
  {
   "cell_type": "markdown",
   "metadata": {},
   "source": [
    "The recommeded way to build ordinaty least square regressions is by using `statsmodels`."
   ]
  },
  {
   "cell_type": "code",
   "execution_count": null,
   "metadata": {
    "collapsed": false
   },
   "outputs": [],
   "source": [
    "import statsmodels.formula.api as sm"
   ]
  },
  {
   "cell_type": "code",
   "execution_count": null,
   "metadata": {
    "collapsed": false
   },
   "outputs": [],
   "source": [
    "sm_model = sm.ols(formula=\"mean_global ~ northern_hem + southern_hem\", data=mean_sea_level).fit()"
   ]
  },
  {
   "cell_type": "code",
   "execution_count": null,
   "metadata": {
    "collapsed": false
   },
   "outputs": [],
   "source": [
    "sm_model.params"
   ]
  },
  {
   "cell_type": "code",
   "execution_count": null,
   "metadata": {
    "collapsed": false
   },
   "outputs": [],
   "source": [
    "type(sm_model.params)"
   ]
  },
  {
   "cell_type": "code",
   "execution_count": null,
   "metadata": {
    "collapsed": false
   },
   "outputs": [],
   "source": [
    "sm_model.summary()"
   ]
  },
  {
   "cell_type": "code",
   "execution_count": null,
   "metadata": {
    "collapsed": false
   },
   "outputs": [],
   "source": [
    "plt.figure(figsize=LARGE_FIGSIZE)\n",
    "mean_sea_level[\"mean_global\"].plot()\n",
    "sm_model.fittedvalues.plot(label=\"OLS prediction\")\n",
    "plt.legend(loc=\"upper left\")"
   ]
  },
  {
   "cell_type": "markdown",
   "metadata": {},
   "source": [
    "### An interlude: data alignment"
   ]
  },
  {
   "cell_type": "markdown",
   "metadata": {},
   "source": [
    "#### Converting the floating point date to a timestamp"
   ]
  },
  {
   "cell_type": "markdown",
   "metadata": {},
   "source": [
    "Now, we would like to look for correlations between our monthly temperatures and the sea levels we have. For this to be possible, some data alignment must be done since the time scales are very different for the 2 datasets. "
   ]
  },
  {
   "cell_type": "code",
   "execution_count": null,
   "metadata": {
    "collapsed": false
   },
   "outputs": [],
   "source": [
    "mean_sea_level[\"mean_global\"].index"
   ]
  },
  {
   "cell_type": "code",
   "execution_count": null,
   "metadata": {
    "collapsed": false
   },
   "outputs": [],
   "source": [
    "giss_temp_series.index"
   ]
  },
  {
   "cell_type": "code",
   "execution_count": null,
   "metadata": {
    "collapsed": false
   },
   "outputs": [],
   "source": [
    "DAYS_PER_YEAR = {}"
   ]
  },
  {
   "cell_type": "code",
   "execution_count": null,
   "metadata": {
    "collapsed": false
   },
   "outputs": [],
   "source": [
    "import calendar\n",
    "# Let's first convert the floating point dates in the sea level to timestamps:\n",
    "def floating_year_to_timestamp(float_date):\n",
    "    \"\"\" Convert a date as a floating point year number to a pandas timestamp object.\n",
    "    \"\"\"\n",
    "    year = int(float_date)\n",
    "    days_per_year = 366 if calendar.isleap(year) else 365\n",
    "    remainder = float_date - year\n",
    "    daynum = 1 + remainder * (days_per_year - 1)\n",
    "    daynum = int(round(daynum))\n",
    "    # Convert day number to month and day\n",
    "    day = daynum\n",
    "    month = 1\n",
    "    while month < 13:\n",
    "        month_days = calendar.monthrange(year, month)[1]\n",
    "        if day <= month_days:\n",
    "            return pd.Timestamp(str(year)+\"/\"+str(month)+\"/\"+str(day))\n",
    "        day -= month_days\n",
    "        month += 1\n",
    "    raise ValueError('{} does not have {} days'.format(year, daynum))"
   ]
  },
  {
   "cell_type": "code",
   "execution_count": null,
   "metadata": {
    "collapsed": false
   },
   "outputs": [],
   "source": [
    "floating_year_to_timestamp(1996.0), floating_year_to_timestamp(1996.5), floating_year_to_timestamp(1996.9999)"
   ]
  },
  {
   "cell_type": "code",
   "execution_count": null,
   "metadata": {
    "collapsed": false
   },
   "outputs": [],
   "source": [
    "dt_index = pd.Series(mean_sea_level[\"mean_global\"].index).apply(floating_year_to_timestamp)\n",
    "dt_index"
   ]
  },
  {
   "cell_type": "code",
   "execution_count": null,
   "metadata": {
    "collapsed": false
   },
   "outputs": [],
   "source": [
    "mean_sea_level = mean_sea_level.reset_index(drop=True)\n",
    "mean_sea_level.index = dt_index\n",
    "mean_sea_level"
   ]
  },
  {
   "cell_type": "markdown",
   "metadata": {},
   "source": [
    "Now, how to align the 2 series? Is this one sampled regularly so that the month temperatures can be upscaled to that frequency?"
   ]
  },
  {
   "cell_type": "markdown",
   "metadata": {},
   "source": [
    "#### Computing the difference between successive values"
   ]
  },
  {
   "cell_type": "markdown",
   "metadata": {},
   "source": [
    "What is the frequency of that new index?"
   ]
  },
  {
   "cell_type": "code",
   "execution_count": null,
   "metadata": {
    "collapsed": false
   },
   "outputs": [],
   "source": [
    "dt_index.dtype"
   ]
  },
  {
   "cell_type": "code",
   "execution_count": null,
   "metadata": {
    "collapsed": false
   },
   "outputs": [],
   "source": [
    "# What is the frequency of the new index? The numpy way to compute differences between all values doesn't work:\n",
    "dt_index[1:] - dt_index[:-1]"
   ]
  },
  {
   "cell_type": "markdown",
   "metadata": {},
   "source": [
    "**IMPORTANT Note:** The above failure is due to the fact that operations between series automatically align them based on their index."
   ]
  },
  {
   "cell_type": "code",
   "execution_count": null,
   "metadata": {
    "collapsed": false
   },
   "outputs": [],
   "source": [
    "# There is a method for shifting values up/down the index:\n",
    "dt_index.shift()"
   ]
  },
  {
   "cell_type": "code",
   "execution_count": null,
   "metadata": {
    "collapsed": false
   },
   "outputs": [],
   "source": [
    "# So the distances can be computed with \n",
    "dt_index - dt_index.shift()"
   ]
  },
  {
   "cell_type": "code",
   "execution_count": null,
   "metadata": {
    "collapsed": false
   },
   "outputs": [],
   "source": [
    "# Not constant reads apparently. Let's downscale the frequency of the sea levels \n",
    "# to monthly, like the temperature reads we have:\n",
    "monthly_mean_sea_level = mean_sea_level.resample(\"MS\").mean().to_period()\n",
    "monthly_mean_sea_level"
   ]
  },
  {
   "cell_type": "code",
   "execution_count": null,
   "metadata": {
    "collapsed": false
   },
   "outputs": [],
   "source": [
    "monthly_mean_sea_level[\"mean_global\"].align(giss_temp_series)"
   ]
  },
  {
   "cell_type": "code",
   "execution_count": null,
   "metadata": {
    "collapsed": false
   },
   "outputs": [],
   "source": [
    "giss_temp_series.align?"
   ]
  },
  {
   "cell_type": "code",
   "execution_count": null,
   "metadata": {
    "collapsed": false
   },
   "outputs": [],
   "source": [
    "# Now that the series are using the same type and frequency of indexes, to align them is trivial:\n",
    "monthly_mean_sea_level[\"mean_global\"].align(giss_temp_series, join='inner')"
   ]
  },
  {
   "cell_type": "code",
   "execution_count": null,
   "metadata": {
    "collapsed": false
   },
   "outputs": [],
   "source": [
    "aligned_sl, aligned_temp = monthly_mean_sea_level[\"mean_global\"].align(giss_temp_series, join='inner')\n",
    "aligned_df = pd.DataFrame({\"mean_sea_level\": aligned_sl, \"mean_global_temp\": aligned_temp})"
   ]
  },
  {
   "cell_type": "markdown",
   "metadata": {},
   "source": [
    "The alignment can even be done on an entire dataframe:"
   ]
  },
  {
   "cell_type": "code",
   "execution_count": null,
   "metadata": {
    "collapsed": false
   },
   "outputs": [],
   "source": [
    "monthly_mean_sea_level.align(giss_temp_series, axis=0, join='inner')"
   ]
  },
  {
   "cell_type": "code",
   "execution_count": null,
   "metadata": {
    "collapsed": false
   },
   "outputs": [],
   "source": [
    "aligned_sea_levels, aligned_temp = monthly_mean_sea_level.align(giss_temp_series, axis=0, join='inner')\n",
    "aligned_monthly_data = aligned_sea_levels.copy()\n",
    "aligned_monthly_data[\"global_temp\"] = aligned_temp\n",
    "aligned_monthly_data"
   ]
  },
  {
   "cell_type": "markdown",
   "metadata": {},
   "source": [
    "### Correlations between sea levels and temperatures"
   ]
  },
  {
   "cell_type": "code",
   "execution_count": null,
   "metadata": {
    "collapsed": false
   },
   "outputs": [],
   "source": [
    "aligned_monthly_data.plot(figsize=LARGE_FIGSIZE)"
   ]
  },
  {
   "cell_type": "code",
   "execution_count": null,
   "metadata": {
    "collapsed": false
   },
   "outputs": [],
   "source": [
    "aligned_monthly_data.corr()"
   ]
  },
  {
   "cell_type": "code",
   "execution_count": null,
   "metadata": {
    "collapsed": false
   },
   "outputs": [],
   "source": [
    "model = sm.ols(\"southern_hem ~ global_temp\", data=aligned_monthly_data)\n",
    "params = model.fit()\n",
    "params.rsquared"
   ]
  },
  {
   "cell_type": "markdown",
   "metadata": {},
   "source": [
    "What if we had done the analysis yearly instead of monthly to remove seasonal variations?"
   ]
  },
  {
   "cell_type": "code",
   "execution_count": null,
   "metadata": {
    "collapsed": false
   },
   "outputs": [],
   "source": [
    "aligned_yearly_data = aligned_monthly_data.resample(\"A\").mean()\n",
    "aligned_yearly_data.plot()"
   ]
  },
  {
   "cell_type": "code",
   "execution_count": null,
   "metadata": {
    "collapsed": false
   },
   "outputs": [],
   "source": [
    "aligned_yearly_data.corr()"
   ]
  },
  {
   "cell_type": "code",
   "execution_count": null,
   "metadata": {
    "collapsed": false
   },
   "outputs": [],
   "source": [
    "model = sm.ols(\"southern_hem ~ global_temp\", data=aligned_yearly_data).fit()\n",
    "model.rsquared"
   ]
  },
  {
   "cell_type": "markdown",
   "metadata": {},
   "source": [
    "## 11. Predictions from auto regression models"
   ]
  },
  {
   "cell_type": "markdown",
   "metadata": {},
   "source": [
    "An auto-regresssive model fits existing data and build a (potentially predictive) model of the data fitted. We use the timeseries analysis (`tsa`) submodule of `statsmodels` to make out-of-sample predictions for the upcoming decades:"
   ]
  },
  {
   "cell_type": "code",
   "execution_count": null,
   "metadata": {
    "collapsed": true
   },
   "outputs": [],
   "source": [
    "from statsmodels.tsa.api import AR"
   ]
  },
  {
   "cell_type": "code",
   "execution_count": null,
   "metadata": {
    "collapsed": false
   },
   "outputs": [],
   "source": [
    "import statsmodels as sm\n",
    "# Let's remove seasonal variations by resampling annually\n",
    "data = giss_temp_series.resample(\"A\").mean().to_timestamp()\n",
    "ar_model = AR(data, freq='A')\n",
    "ar_res = ar_model.fit(maxlag=60, disp=True)"
   ]
  },
  {
   "cell_type": "code",
   "execution_count": null,
   "metadata": {
    "collapsed": false
   },
   "outputs": [],
   "source": [
    "plt.figure(figsize=LARGE_FIGSIZE)\n",
    "pred = ar_res.predict(start='1950-1-1', end='2070')\n",
    "data.plot(style='k', label=\"Historical Data\")\n",
    "pred.plot(style='r', label=\"Predicted Data\")\n",
    "plt.ylabel(\"Temperature variation (0.01 degC)\")\n",
    "plt.legend()"
   ]
  },
  {
   "cell_type": "markdown",
   "metadata": {},
   "source": [
    "**EXERCISE:** Make another auto-regression on the sea level of the Atlantic ocean to estimate how much New York is going to flood in the coming century. \n",
    "\n",
    "1. You can find the historical sea levels of the Atlantic ocean at http://sealevel.colorado.edu/files/current/sl_Atlantic_Ocean.txt or locally in `data/sea_levels/sl_Atlantic_Ocean.txt`. \n",
    "2. A little more work but more precise: extract the ID of a station in NewYork from the `local_sea_level_stations` dataset, and use it to download timeseries in NY (URL would be http://www.psmsl.org/data/obtaining/met.monthly.data/< ID >.metdata)."
   ]
  },
  {
   "cell_type": "code",
   "execution_count": null,
   "metadata": {
    "collapsed": false
   },
   "outputs": [],
   "source": [
    "# Your code here"
   ]
  }
 ],
 "metadata": {
  "kernelspec": {
   "display_name": "Python [Root]",
   "language": "python",
   "name": "Python [Root]"
  },
  "language_info": {
   "codemirror_mode": {
    "name": "ipython",
    "version": 3
   },
   "file_extension": ".py",
   "mimetype": "text/x-python",
   "name": "python",
   "nbconvert_exporter": "python",
   "pygments_lexer": "ipython3",
   "version": "3.5.2"
  }
 },
 "nbformat": 4,
 "nbformat_minor": 0
}
